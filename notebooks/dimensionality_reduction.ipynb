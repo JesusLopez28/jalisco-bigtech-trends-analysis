{
 "cells": [
  {
   "cell_type": "markdown",
   "id": "3ea708e0",
   "metadata": {},
   "source": [
    "## Reduccion dimencional\n",
    "\n",
    "**Jesus Alejandro Lopez Rosales   22110104**<br>\n",
    "**Josue Bonilla cardenas          22110106**<br>\n",
    "**Joshua David Salcedo Monroy     22110109**<br>\n",
    "**Pedro Yazael Mercado Ruano      22110125**<br>"
   ]
  },
  {
   "cell_type": "code",
   "execution_count": 30,
   "id": "6284032e",
   "metadata": {},
   "outputs": [
    {
     "name": "stdout",
     "output_type": "stream",
     "text": [
      "Requirement already satisfied: umap-learn==0.5.3 in e:\\josue\\lib\\site-packages (0.5.3)\n",
      "Requirement already satisfied: numpy>=1.17 in e:\\josue\\lib\\site-packages (from umap-learn==0.5.3) (1.26.4)\n",
      "Requirement already satisfied: scikit-learn>=0.22 in e:\\josue\\lib\\site-packages (from umap-learn==0.5.3) (1.5.1)\n",
      "Requirement already satisfied: scipy>=1.0 in e:\\josue\\lib\\site-packages (from umap-learn==0.5.3) (1.13.1)\n",
      "Requirement already satisfied: numba>=0.49 in e:\\josue\\lib\\site-packages (from umap-learn==0.5.3) (0.60.0)\n",
      "Requirement already satisfied: pynndescent>=0.5 in e:\\josue\\lib\\site-packages (from umap-learn==0.5.3) (0.5.13)\n",
      "Requirement already satisfied: tqdm in e:\\josue\\lib\\site-packages (from umap-learn==0.5.3) (4.66.5)\n",
      "Requirement already satisfied: llvmlite<0.44,>=0.43.0dev0 in e:\\josue\\lib\\site-packages (from numba>=0.49->umap-learn==0.5.3) (0.43.0)\n",
      "Requirement already satisfied: joblib>=0.11 in e:\\josue\\lib\\site-packages (from pynndescent>=0.5->umap-learn==0.5.3) (1.4.2)\n",
      "Requirement already satisfied: threadpoolctl>=3.1.0 in e:\\josue\\lib\\site-packages (from scikit-learn>=0.22->umap-learn==0.5.3) (3.5.0)\n",
      "Requirement already satisfied: colorama in c:\\users\\josue\\appdata\\roaming\\python\\python312\\site-packages (from tqdm->umap-learn==0.5.3) (0.4.6)\n",
      "Note: you may need to restart the kernel to use updated packages.\n"
     ]
    }
   ],
   "source": [
    "%pip install umap-learn==0.5.3"
   ]
  },
  {
   "cell_type": "markdown",
   "id": "cc1d1896",
   "metadata": {},
   "source": [
    "Importen esta libreria"
   ]
  },
  {
   "cell_type": "code",
   "execution_count": 31,
   "id": "815a14d2",
   "metadata": {},
   "outputs": [],
   "source": [
    "import pandas as pd\n",
    "import numpy as np\n",
    "import matplotlib.pyplot as plt\n",
    "import plotly.express as px\n",
    "from sklearn.preprocessing import StandardScaler\n",
    "from sklearn.decomposition import PCA\n",
    "from sklearn.cluster import KMeans\n",
    "import umap.umap_ as umap"
   ]
  },
  {
   "cell_type": "code",
   "execution_count": 32,
   "id": "dad1d5ff",
   "metadata": {},
   "outputs": [
    {
     "name": "stdout",
     "output_type": "stream",
     "text": [
      "📊 Dataset cargado: 2223 empleos\n",
      "\n",
      "🔍 Columnas disponibles:\n",
      "['id', 'title', 'company', 'location', 'area', 'salary_min', 'salary_max', 'description', 'created', 'redirect_url', 'category', 'latitude', 'longitude', 'is_big_tech', 'tech_keywords_count', 'scraped_at', 'salary_avg', 'is_senior', 'is_junior', 'is_mid', 'experience_level', 'is_remote', 'is_hybrid', 'is_onsite', 'mentions_python', 'mentions_java', 'mentions_javascript', 'mentions_react', 'mentions_angular', 'mentions_node', 'mentions_sql', 'mentions_cloud', 'mentions_machine_learning', 'mentions_docker', 'mentions_kubernetes', 'mentions_agile', 'day_of_week', 'week_of_year', 'quarter', 'day_name', 'month_name', 'is_weekend', 'is_month_start', 'is_month_end', 'experience', 'job_type', 'date']\n",
      "\n",
      "📝 Resumen de variables clave:\n"
     ]
    },
    {
     "data": {
      "text/html": [
       "<div>\n",
       "<style scoped>\n",
       "    .dataframe tbody tr th:only-of-type {\n",
       "        vertical-align: middle;\n",
       "    }\n",
       "\n",
       "    .dataframe tbody tr th {\n",
       "        vertical-align: top;\n",
       "    }\n",
       "\n",
       "    .dataframe thead th {\n",
       "        text-align: right;\n",
       "    }\n",
       "</style>\n",
       "<table border=\"1\" class=\"dataframe\">\n",
       "  <thead>\n",
       "    <tr style=\"text-align: right;\">\n",
       "      <th></th>\n",
       "      <th>salary_avg</th>\n",
       "      <th>tech_keywords_count</th>\n",
       "    </tr>\n",
       "  </thead>\n",
       "  <tbody>\n",
       "    <tr>\n",
       "      <th>count</th>\n",
       "      <td>1.271000e+03</td>\n",
       "      <td>2223.000000</td>\n",
       "    </tr>\n",
       "    <tr>\n",
       "      <th>mean</th>\n",
       "      <td>7.463408e+04</td>\n",
       "      <td>0.281152</td>\n",
       "    </tr>\n",
       "    <tr>\n",
       "      <th>std</th>\n",
       "      <td>1.146391e+05</td>\n",
       "      <td>0.548002</td>\n",
       "    </tr>\n",
       "    <tr>\n",
       "      <th>min</th>\n",
       "      <td>6.000000e+03</td>\n",
       "      <td>0.000000</td>\n",
       "    </tr>\n",
       "    <tr>\n",
       "      <th>25%</th>\n",
       "      <td>6.000000e+03</td>\n",
       "      <td>0.000000</td>\n",
       "    </tr>\n",
       "    <tr>\n",
       "      <th>50%</th>\n",
       "      <td>6.000000e+03</td>\n",
       "      <td>0.000000</td>\n",
       "    </tr>\n",
       "    <tr>\n",
       "      <th>75%</th>\n",
       "      <td>1.372200e+05</td>\n",
       "      <td>0.000000</td>\n",
       "    </tr>\n",
       "    <tr>\n",
       "      <th>max</th>\n",
       "      <td>1.200000e+06</td>\n",
       "      <td>4.000000</td>\n",
       "    </tr>\n",
       "  </tbody>\n",
       "</table>\n",
       "</div>"
      ],
      "text/plain": [
       "         salary_avg  tech_keywords_count\n",
       "count  1.271000e+03          2223.000000\n",
       "mean   7.463408e+04             0.281152\n",
       "std    1.146391e+05             0.548002\n",
       "min    6.000000e+03             0.000000\n",
       "25%    6.000000e+03             0.000000\n",
       "50%    6.000000e+03             0.000000\n",
       "75%    1.372200e+05             0.000000\n",
       "max    1.200000e+06             4.000000"
      ]
     },
     "metadata": {},
     "output_type": "display_data"
    }
   ],
   "source": [
    "df = pd.read_csv(\"C:\\\\Users\\\\josue\\\\OneDrive\\\\Desktop\\\\Analisis de datos\\\\proyecto final\\\\jalisco-bigtech-trends-analysis\\\\data\\\\processed\\\\jalisco_bigtech_jobs_clean.csv\")\n",
    "print(f\"📊 Dataset cargado: {len(df)} empleos\")\n",
    "\n",
    "# Mostrar estructura\n",
    "print(\"\\n🔍 Columnas disponibles:\")\n",
    "print(df.columns.tolist())\n",
    "\n",
    "# Estadísticas rápidas\n",
    "print(\"\\n📝 Resumen de variables clave:\")\n",
    "display(df[['salary_avg', 'tech_keywords_count', 'is_remote', 'is_hybrid', 'is_onsite']].describe())"
   ]
  },
  {
   "cell_type": "code",
   "execution_count": 33,
   "id": "79f84095",
   "metadata": {},
   "outputs": [
    {
     "name": "stdout",
     "output_type": "stream",
     "text": [
      "✅ Datos preparados para análisis\n"
     ]
    }
   ],
   "source": [
    "# Seleccionar columnas para análisis\n",
    "tech_cols = [col for col in df.columns if col.startswith('mentions_')]\n",
    "geo_cols = ['latitude', 'longitude']\n",
    "job_type_cols = ['is_remote', 'is_hybrid', 'is_onsite']\n",
    "exp_cols = ['is_junior', 'is_mid', 'is_senior']\n",
    "\n",
    "# Crear variable combinada de tipo de trabajo\n",
    "df['job_type'] = df[job_type_cols].idxmax(axis=1).str.replace('is_', '')\n",
    "df['experience'] = df[exp_cols].idxmax(axis=1).str.replace('is_', '')\n",
    "\n",
    "# Estandarizar numéricas\n",
    "scaler = StandardScaler()\n",
    "df['salary_norm'] = scaler.fit_transform(df[['salary_avg']])\n",
    "print(\"✅ Datos preparados para análisis\")"
   ]
  },
  {
   "cell_type": "code",
   "execution_count": 34,
   "id": "e45d576c",
   "metadata": {},
   "outputs": [
    {
     "name": "stdout",
     "output_type": "stream",
     "text": [
      "Columnas con valores NaN:\n",
      "mentions_python                0\n",
      "mentions_java                  0\n",
      "mentions_javascript            0\n",
      "mentions_react                 0\n",
      "mentions_angular               0\n",
      "mentions_node                  0\n",
      "mentions_sql                   0\n",
      "mentions_cloud                 0\n",
      "mentions_machine_learning      0\n",
      "mentions_docker                0\n",
      "mentions_kubernetes            0\n",
      "mentions_agile                 0\n",
      "salary_norm                  952\n",
      "dtype: int64\n",
      "\n",
      "Total de valores NaN: 952\n"
     ]
    }
   ],
   "source": [
    "# Configurar UMAP para análisis tecnológico\n",
    "tech_data = df[tech_cols + ['salary_norm']]\n",
    "\n",
    "# Verificar valores NaN en las columnas\n",
    "print(\"Columnas con valores NaN:\")\n",
    "print(tech_data.isna().sum())\n",
    "print(f\"\\nTotal de valores NaN: {tech_data.isna().sum().sum()}\")\n",
    "\n"
   ]
  },
  {
   "cell_type": "code",
   "execution_count": 35,
   "id": "5b71aa41",
   "metadata": {},
   "outputs": [
    {
     "name": "stdout",
     "output_type": "stream",
     "text": [
      "✅ Reemplazados 0 valores NaN en salary_norm\n",
      "Verificación final - NaN restantes: 0\n"
     ]
    },
    {
     "name": "stderr",
     "output_type": "stream",
     "text": [
      "C:\\Users\\josue\\AppData\\Local\\Temp\\ipykernel_22816\\3922474112.py:9: SettingWithCopyWarning: \n",
      "A value is trying to be set on a copy of a slice from a DataFrame.\n",
      "Try using .loc[row_indexer,col_indexer] = value instead\n",
      "\n",
      "See the caveats in the documentation: https://pandas.pydata.org/pandas-docs/stable/user_guide/indexing.html#returning-a-view-versus-a-copy\n",
      "  tech_data['salary_norm'] = tech_data['salary_norm'].fillna(tech_data['salary_norm'].median())\n"
     ]
    }
   ],
   "source": [
    "# Reemplazar NaN con 0 en columnas binarias (mentions_*)\n",
    "for col in tech_cols:\n",
    "    if tech_data[col].isna().sum() > 0:\n",
    "        tech_data[col] = tech_data[col].fillna(0)\n",
    "        print(f\"✅ Reemplazados {tech_data[col].isna().sum()} valores NaN en {col}\")\n",
    "\n",
    "# Verificar si hay NaN en salary_norm\n",
    "if tech_data['salary_norm'].isna().sum() > 0:\n",
    "    tech_data['salary_norm'] = tech_data['salary_norm'].fillna(tech_data['salary_norm'].median())\n",
    "    print(f\"✅ Reemplazados {tech_data['salary_norm'].isna().sum()} valores NaN en salary_norm\")\n",
    "\n",
    "# Verificación final\n",
    "print(f\"Verificación final - NaN restantes: {tech_data.isna().sum().sum()}\")"
   ]
  },
  {
   "cell_type": "code",
   "execution_count": 36,
   "id": "115c0a75",
   "metadata": {},
   "outputs": [
    {
     "name": "stderr",
     "output_type": "stream",
     "text": [
      "e:\\josue\\Lib\\site-packages\\umap\\umap_.py:1802: UserWarning: gradient function is not yet implemented for jaccard distance metric; inverse_transform will be unavailable\n",
      "  warn(\n"
     ]
    },
    {
     "data": {
      "application/vnd.plotly.v1+json": {
       "config": {
        "plotlyServerURL": "https://plot.ly"
       },
       "data": [
        {
         "customdata": [
          [
           "QA Junior Software Engineer - College Program",
           "Oracle",
           null
          ],
          [
           "ORACLE Autonomous Health Framework SDK Python Developer",
           "Oracle",
           6000
          ],
          [
           "Principal Engineer Oracle Linux Cloud Service (UI)",
           "Oracle",
           8400
          ],
          [
           "DB Cloud Test Developer / Multi-cloud testing - Data Safe",
           "Oracle",
           6000
          ],
          [
           "Senior Frontend Software Developer",
           "Oracle",
           6000
          ],
          [
           "Fusion HCM Techno Functional Analyst",
           "Oracle",
           6000
          ],
          [
           "Principal UX Designer",
           "Oracle",
           6000
          ],
          [
           "Principal Engineer Oracle Linux Cloud Service",
           "Oracle",
           8400
          ],
          [
           "Senior Software Engineer (Linux) - Oracle Database Appliance",
           "Oracle",
           8400
          ],
          [
           "Senior Software Engineer (Linux) - Oracle Database Appliance",
           "Oracle",
           8400
          ],
          [
           "Software Developer - Python / FastAPI",
           "Oracle",
           6000
          ],
          [
           "Senior Release Developer",
           "Oracle",
           6000
          ],
          [
           "Principal Consultant - Netsuite",
           "Oracle",
           10800
          ],
          [
           "Senior Software Developer - Python / FastAPI",
           "Oracle",
           6000
          ],
          [
           "Senior/Principal Java & JavaScript Full Stack Developer",
           "Oracle",
           8400
          ],
          [
           "Cloud Database Systems Reliability Engineer (SRE)",
           "Oracle",
           6000
          ],
          [
           "Operations Engineer",
           "Oracle",
           6000
          ],
          [
           "Senior Software Engineer",
           "Oracle",
           8400
          ],
          [
           "Senior Software Engineer (Linux)",
           "Oracle",
           8400
          ],
          [
           "Applications Developer 2",
           "Oracle",
           6000
          ],
          [
           "Fusion SCM Techno Functional Analyst",
           "Oracle",
           6000
          ],
          [
           "Fusion ERP Techno Functional Analyst",
           "Oracle",
           6000
          ],
          [
           "Senior Principal Functional Consultant",
           "Oracle",
           10800
          ],
          [
           "Site Reliability Developer 3",
           "Oracle",
           6000
          ],
          [
           "Principal DevOps Build and Release Engineer",
           "Oracle",
           8400
          ],
          [
           "NetSuite Developer",
           "Oracle",
           6000
          ],
          [
           "Senior Applications Developer",
           "Oracle",
           6000
          ],
          [
           "Netsuite - Principal Consultant",
           "Oracle",
           10800
          ],
          [
           "Oracle ERP Report Developer",
           "Driscoll's",
           6000
          ],
          [
           "Oracle Cloud - OTM Consultant",
           "Infosys Limited",
           6000
          ],
          [
           "Senior Consultant Technical Lead",
           "ORACLE Deutschland B.V. & Co. KG",
           6000
          ],
          [
           "Software Specialist TL (Java/Linux/Oracle SQL)",
           "Amdocs",
           6000
          ],
          [
           "Arquitecto Oracle Cloud",
           "Industrias Tajín",
           8400
          ],
          [
           "Oracle Associate Engineer",
           "AstraZeneca",
           6000
          ],
          [
           "Oracle Cloud - OTM Consultant",
           "Infosys",
           6000
          ],
          [
           "Software Engineer (Java/Oracle SQL/Linux)",
           "Amdocs",
           6000
          ],
          [
           "Acceleration Center - AES - Oracle - Tech Paas, VBS, VBCS - Manager",
           "PricewaterhouseCoopers International",
           6000
          ],
          [
           "Functional Consultant in Oracle Cloud Transportation Management - USA REMOTE WORK",
           "Inclusion Cloud",
           6000
          ],
          [
           "Software Engineer (Principal/Senior/Technical Staff Member) – Database Migration Services (DMS)",
           "Ll Oefentherapie",
           6000
          ],
          [
           "Acceleration Center - AES - SAP Delivery - Director",
           "PwC México",
           6000
          ],
          [
           "Software Engineering Specialist (OpenVMS)",
           "Amdocs",
           6000
          ],
          [
           "VB.Net Developer with MES Experience",
           "The Dignify Solutions, LLC",
           6000
          ],
          [
           "Desarrollador NetSuite",
           "DAMSA",
           420000
          ],
          [
           "Accounts Payable Clerk",
           "Fresh Del Monte",
           null
          ],
          [
           "Application Support Specialist",
           "Global Applications Solution",
           6000
          ],
          [
           "Java Full Stack",
           "Infosys Limited",
           10800
          ],
          [
           "Ingeniero de seguridad IAM (Gestión de Identidades y Accesos)",
           "Capital Empresarial Horizonte",
           6000
          ],
          [
           "Soporte de aplicaciones",
           "Capital Empresarial Horizonte",
           8400
          ],
          [
           "Administrador DBA Sr Oragle",
           "Megacable",
           null
          ],
          [
           "Resource Analyst / Temp Staff",
           "Ll Oefentherapie",
           6000
          ],
          [
           "Desarrollador PowerBuilder Senior - Híbrido",
           "Capital Empresarial Horizonte",
           6000
          ],
          [
           "Fullstack Java Developer",
           "Ll Oefentherapie",
           6000
          ],
          [
           "Oracle ERP Report Developer",
           "Driscoll’s",
           null
          ],
          [
           "Senior Java Software Engineer",
           "Synechron",
           6000
          ],
          [
           "Senior Applications Engineer - Fullstack (Java, JavaScript)",
           "Ll Oefentherapie",
           6000
          ],
          [
           "Tech Services - Senior Principal Consultant",
           "Ll Oefentherapie",
           6000
          ],
          [
           "Principal Applications Developer",
           "Ll Oefentherapie",
           6000
          ],
          [
           "Materials Planner",
           "Genpact",
           null
          ],
          [
           "Acceleration Center - AES - SAP PI/PO - Sr. Analyst",
           "PwC México",
           6000
          ],
          [
           "Acceleration Center - AES - SAP BOBJ/BW - Analyst",
           "PwC México",
           6000
          ],
          [
           "Desarrollador Fullstack",
           "DAMSA",
           420000
          ],
          [
           "Full Stack Senior Cloud Development Engineer",
           "Ll Oefentherapie",
           6000
          ],
          [
           "Java Tech Lead",
           "Virtusa",
           6000
          ],
          [
           "Interaction Designer - Component designer",
           "Ll Oefentherapie",
           6000
          ],
          [
           "Auxiliar administrativoa Campus Guadajalara Temporal",
           "Universidad del Valle de México, S.C.",
           101640
          ],
          [
           "Java Developer",
           "Synechron",
           null
          ],
          [
           "Sr. Analyst, FP&A GBS.",
           "Herbalife International, Inc.",
           6000
          ],
          [
           "Java Software Engineer",
           "GlobalLogic",
           6000
          ],
          [
           "CapturistaAuxiliar administrativo Unitec Guadalajara campaña temporal",
           "Universidad del Valle de México, S.C.",
           101760
          ],
          [
           "Data Architect – Arquitecto de Datos",
           "Infosys",
           8400
          ],
          [
           "Senior Backend Software Developer / Engineer (Python) | 100% Remote | SaaS | Construction Tech",
           "Clue Insights",
           6000
          ],
          [
           "Tech Lead Java",
           "Turtle Trax",
           6000
          ],
          [
           "Desarrollador Front End",
           "Grupo CVA S.A. de C.V.",
           240000
          ],
          [
           "Administrador maestro de clientes",
           "Global Gas",
           276000
          ],
          [
           "Site Reliability Engineer",
           "Azkait",
           6000
          ],
          [
           "Data Analyst",
           "Virtusa",
           6000
          ],
          [
           "Residente De Edificacion",
           "JAVER",
           null
          ],
          [
           "Data Architect (Contract to Hire)",
           "CargoSprint",
           8400
          ],
          [
           "Director de Compensaciones Global",
           "Reiter Affiliated Companies",
           10800
          ],
          [
           "Gerente de finanzas",
           "Surtidora Médica de Occidente S.A de C.V",
           360000
          ],
          [
           "Lead Solutions Architect",
           "Corporativo Lumston",
           6000
          ],
          [
           "PEM - Sr Consultant (Process Mining)",
           "Randstad  AG",
           6000
          ],
          [
           "Ingeniero de Desarrollo Programador",
           "DAMSA",
           null
          ],
          [
           "Software Developer Intermediate",
           "NUVIT Innovation & Technology",
           6000
          ],
          [
           "Service desk trilingual",
           "Wipro Technologies",
           6000
          ],
          [
           "Software Development Engineer III - Identity and Access Management (Sailpoint)",
           "F5 Networks",
           6000
          ],
          [
           "ERP Functional Analyst",
           "Arrow Electronics Australia Pty Ltd",
           6000
          ],
          [
           "Trabajo Desde Casa Desarrollador Backend Junior Python Investigación Desarrollo Ref. 0071",
           "BairesDev LLC",
           null
          ],
          [
           "Java Engineer (Middle/Senior) ID35178",
           "JobFinder Spain",
           6000
          ],
          [
           "Python  Blender Developer - Remote | REF109897",
           "BairesDev",
           6000
          ],
          [
           "Middleware DevOps Specialist",
           "Amdocs",
           6000
          ],
          [
           "Data Migration Developer",
           "MHP – A Porsche Company",
           6000
          ],
          [
           "Accounting Manager",
           "F5 Networks",
           6000
          ],
          [
           "Logistics Leader, North America Oversight",
           "Ciena",
           6000
          ],
          [
           "ODI / SQL / OAC (OBIEE)",
           "Oracle",
           null
          ],
          [
           "Cloud Support Engineer",
           "Oracle",
           null
          ],
          [
           "WebLogic Specialist",
           "Oracle",
           null
          ],
          [
           "Operations Engineer",
           "Oracle",
           null
          ],
          [
           "Senior ERP Functional Consultant",
           "Oracle",
           null
          ],
          [
           "Technical Analyst 2-Support",
           "Oracle",
           null
          ],
          [
           "Senior Frontend Software Developer",
           "Oracle",
           null
          ],
          [
           "DB Cloud Test Developer / Multi-cloud testing - Data Safe",
           "Oracle",
           null
          ],
          [
           "Graduate Software Engineer",
           "Oracle",
           null
          ],
          [
           "Intern Software Engineer-(Java/C/C#)",
           "Oracle",
           null
          ],
          [
           "Senior Applications Developer",
           "Oracle",
           null
          ],
          [
           "Software Developer (Java/C/C#) - Graduates 2025",
           "Oracle",
           null
          ],
          [
           "Principal UX Designer",
           "Oracle",
           null
          ],
          [
           "Accounts Receivable Assistant",
           "Fresh Del Monte",
           null
          ],
          [
           "Oracle EBS Principal Technical Consultant",
           "Oracle",
           null
          ],
          [
           "Oracle EBS Principal Technical Consultant",
           "Oracle",
           null
          ],
          [
           "Oracle DBA  Senior Site Reliability Developer",
           "Oracle",
           null
          ],
          [
           "Principal Engineer Oracle Linux Cloud Service",
           "Oracle",
           null
          ],
          [
           "Oracle DBA  Senior Site Reliability Developer",
           "Oracle",
           null
          ],
          [
           "Oracle EBS Finance Functional Principal Analyst",
           "Oracle",
           null
          ],
          [
           "Oracle EBS Finance Functional Principal Analyst",
           "Oracle",
           null
          ],
          [
           "Principal Engineer Oracle Linux Cloud Service",
           "Oracle",
           null
          ],
          [
           "Senior Software Engineer (Linux) - Oracle Database Appliance",
           "Oracle",
           null
          ],
          [
           "Principal Engineer Oracle Linux Cloud Service (UI)",
           "Oracle",
           null
          ],
          [
           "Principal Engineer Oracle Linux Cloud Service (UI)",
           "Oracle",
           null
          ],
          [
           "Oracle EBS Supply Chain Management Techno-Functional Analyst",
           "Oracle",
           null
          ],
          [
           "Oracle EBS Supply Chain Management Techno-Functional Analyst",
           "Oracle",
           null
          ],
          [
           "Oracle EBS Process Manufacturing (OPM) Techno-Functional Analyst",
           "Oracle",
           null
          ],
          [
           "ORACLE Autonomous Health Framework SDK Python Developer",
           "Oracle",
           null
          ],
          [
           "Oracle EBS Process Manufacturing (OPM) Techno-Functional Analyst",
           "Oracle",
           null
          ],
          [
           "ORACLE Autonomous Health Framework SDK Python Developer",
           "Oracle",
           null
          ],
          [
           "Database Cloud Solution Engineer – Golden Gate, Mysql",
           "Oracle",
           null
          ],
          [
           "Database Cloud Solution Engineer – EBS",
           "Oracle",
           null
          ],
          [
           "Senior Technical Account Representative (TAM)",
           "Oracle",
           null
          ],
          [
           "Technical Analyst support",
           "Oracle",
           null
          ],
          [
           "Senior Database Cloud Solution Engineer – Exadata/ExaCC/ExaCS",
           "Oracle",
           null
          ],
          [
           "Senior Technical Account Representative (TAM)",
           "Oracle",
           null
          ],
          [
           "Technical Analyst support",
           "Oracle",
           null
          ],
          [
           "Odi / SQL / Oac (Obiee)",
           "Oracle",
           null
          ],
          [
           "Java Backend Developer",
           "Oracle",
           null
          ],
          [
           "Senior Java Backend Developer",
           "Oracle",
           null
          ],
          [
           "Software Developer - Python / FastAPI",
           "Oracle",
           null
          ],
          [
           "Senior Java Backend Developer",
           "Oracle",
           null
          ],
          [
           "Cloud Support Engineer",
           "Oracle",
           null
          ],
          [
           "Software Developer - Python / FastAPI",
           "Oracle",
           null
          ],
          [
           "Senior Software Developer",
           "Oracle",
           null
          ],
          [
           "Software Developer - Python / FastAPI",
           "Oracle",
           null
          ],
          [
           "Operations Engineer",
           "Oracle",
           null
          ],
          [
           "Java Backend Developer",
           "Oracle",
           null
          ],
          [
           "Senior Software Developer - Python / FastAPI",
           "Oracle",
           null
          ],
          [
           "Software Developer - Python / FastAPI",
           "Oracle",
           null
          ],
          [
           "Software Developer - Python / FastAPI",
           "Oracle",
           null
          ],
          [
           "Senior Software Developer - Python / FastAPI",
           "Oracle",
           null
          ],
          [
           "Senior Technical Support Engineer",
           "Oracle",
           null
          ],
          [
           "Senior Technical Support Engineer",
           "Oracle",
           null
          ],
          [
           "Principal Applications Developer",
           "Oracle",
           null
          ],
          [
           "Senior Software Developer",
           "Oracle",
           null
          ],
          [
           "Senior Principal Functional Consultant",
           "Oracle",
           null
          ],
          [
           "Senior ERP Functional Consultant",
           "Oracle",
           null
          ],
          [
           "WebLogic Specialist",
           "Oracle",
           null
          ],
          [
           "Senior Frontend Software Developer",
           "Oracle",
           null
          ],
          [
           "Senior Frontend Software Developer",
           "Oracle",
           null
          ],
          [
           "Lead Java Developer",
           "Oracle",
           null
          ],
          [
           "Senior Frontend Software Developer",
           "Oracle",
           null
          ],
          [
           "Applications Developer 3",
           "Oracle",
           null
          ],
          [
           "Senior Software Developer",
           "Oracle",
           null
          ],
          [
           "Fusion HCM Techno Functional Analyst",
           "Oracle",
           null
          ],
          [
           "Software Developer 4",
           "Oracle",
           null
          ],
          [
           "Fresh Graduated - Python Developer for AI Technologies",
           "Oracle",
           null
          ],
          [
           "Program Manager, Global Intern Program",
           "Oracle",
           null
          ],
          [
           "Senior ERP Functional Consultant",
           "Oracle",
           null
          ],
          [
           "Senior ERP Functional Consultant",
           "Oracle",
           null
          ],
          [
           "Principal Applications Developer",
           "Oracle",
           null
          ],
          [
           "Fusion SCM Techno Functional Analyst",
           "Oracle",
           null
          ],
          [
           "Fusion ERP Techno Functional Analyst",
           "Oracle",
           null
          ],
          [
           "Graduate Software Engineer",
           "Oracle",
           null
          ],
          [
           "Graduate Software Engineer - IC2",
           "Oracle",
           null
          ],
          [
           "SQL Support Engineer - Fresh Graduated",
           "Oracle",
           null
          ],
          [
           "Senior Network Developer",
           "Oracle",
           null
          ],
          [
           "Functional Analyst Support Engineer",
           "Oracle",
           null
          ],
          [
           "Principal iOS Developer",
           "Oracle",
           null
          ],
          [
           "Site Reliability Developer 4",
           "Oracle",
           null
          ],
          [
           "Fresh Graduated - Python Developer for AI Technologies",
           "Oracle",
           null
          ],
          [
           "Intern Software Engineer - VACANTE AFIRMATIVA PARA MUJERES",
           "Oracle",
           null
          ],
          [
           "Senior Software Developer",
           "Oracle",
           null
          ],
          [
           "Site Reliability Engineer - SRE",
           "Oracle",
           null
          ],
          [
           "Lead Java Developer",
           "Oracle",
           null
          ],
          [
           "Senior Software Developer",
           "Oracle",
           null
          ],
          [
           "Cloud Services Engineer",
           "Oracle",
           null
          ],
          [
           "Software Engineer (Principal/Senior/Technical Staff Member) - Database Migration Services (DMS)",
           "Oracle",
           null
          ],
          [
           "Software Engineer (Senior Technical Staff Member or Member of Technical Staff) - Database Migration Services (DMS)",
           "Oracle",
           null
          ],
          [
           "Fusion HCM Techno Functional Analyst",
           "Oracle",
           null
          ],
          [
           "Technical Analyst 2-Support",
           "Oracle",
           null
          ],
          [
           "Functional Analyst Support Engineer",
           "Oracle",
           null
          ],
          [
           "Principal Member of Technical Staff",
           "Oracle",
           null
          ],
          [
           "Product Manager/Strategy 3-ProdDev",
           "Oracle",
           null
          ],
          [
           "Senior Principal Functional Consultant",
           "Oracle",
           null
          ],
          [
           "SuiteApp Release Engineer",
           "Oracle",
           null
          ],
          [
           "Clasificador arancelario",
           "FOXCONN GDL",
           null
          ],
          [
           "Mesa de control de Almacenes Administrativo Almacén",
           "DISTRIBUIDORA DE TRACTOPARTES MEZA",
           150000
          ],
          [
           "Gerente de Contabilidad Bilingüe",
           "Confidential Jobs",
           null
          ],
          [
           "Coordinador de Bases de Datos",
           "CA MEXICO S DE RL",
           null
          ],
          [
           "Analista Administrativoa Tlaquepaque, Jalisco",
           "Bepensa",
           null
          ],
          [
           "Supervisor de Taller Taller mecánico",
           "Alpura",
           216000
          ],
          [
           "Oracle Application Engineer (Development & Support)",
           "Arrow",
           76967.5
          ],
          [
           "Oracle Application Engineer (Development & Support)",
           "Arrow Electronics",
           null
          ],
          [
           "Jefe de Almacén Guadalajara",
           "Importante empresa del sector",
           420000
          ],
          [
           "Jefe de Almacén y Embarques Producto Terminado Industria Manufactura",
           "Element RH",
           null
          ],
          [
           "Analista de Cobranza",
           "Arrow Electronics",
           null
          ],
          [
           "Corporate Financial Control Coordinator",
           "Arrow",
           261199.5
          ],
          [
           "Quote Services Associate III",
           "Arrow",
           327049.5
          ],
          [
           "Customer Support Associate II",
           "Arrow Electronics",
           null
          ],
          [
           "Quote Services Associate III",
           "Arrow Electronics",
           null
          ],
          [
           "Analista de Cobranza",
           "Arrow",
           null
          ],
          [
           "Returns Associate I",
           "Arrow",
           181200
          ],
          [
           "Buyer Jr.",
           "Arrow",
           237049.5
          ],
          [
           "Sales Operations Associate I",
           "Arrow",
           200500
          ],
          [
           "Business Operations Analyst",
           "Arrow",
           367899
          ],
          [
           "Returns Associate I",
           "Arrow Electronics",
           null
          ],
          [
           "Returns Associate II",
           "Arrow",
           217494
          ],
          [
           "Credit and Collections Associate II - Hiring bonus included!",
           "Arrow",
           329349
          ],
          [
           "Buyer Jr.",
           "Arrow Electronics",
           null
          ],
          [
           "Sales Operations Associate I",
           "Arrow Electronics",
           null
          ],
          [
           "Returns Associate II",
           "Arrow Electronics",
           null
          ],
          [
           "Sales Operations Associate II",
           "Arrow",
           240269
          ],
          [
           "Sales Operations Associate I",
           "Arrow",
           null
          ],
          [
           "Sales Operations Associate I",
           "Arrow Electronics",
           null
          ],
          [
           "Credit and Collections Associate II - Hiring bonus included!",
           "Arrow Electronics",
           null
          ],
          [
           "Business Operations Analyst",
           "Arrow Electronics",
           null
          ],
          [
           "Sales Operations Associate II",
           "Arrow Electronics",
           null
          ],
          [
           "ERP Functional Analyst",
           "Arrow",
           425399.5
          ],
          [
           "ERP Functional Analyst",
           "Arrow Electronics",
           null
          ],
          [
           "Robotics research Student Worker / Research Scientist – Adaptive Control for Robotics",
           "Intel Corporation",
           6000
          ],
          [
           "Design Automation Engineer",
           "Intel",
           6000
          ],
          [
           "Project/Program Manager Tech Memory technology advisor and demand manager",
           "Intel",
           6000
          ],
          [
           "CPU Debug and Verification Engineer",
           "Intel Corporation",
           6000
          ],
          [
           "Design Automation Engineer",
           "Intel Corporation",
           6000
          ],
          [
           "Security Engineer",
           "InfoVision Inc.",
           null
          ],
          [
           "CPU Pre-Si Verification Senior Engineer",
           "Intel Corporation",
           6000
          ],
          [
           "CPU Pre-Si Verification Senior Engineer",
           "Intel",
           6000
          ],
          [
           "CPU Pre-Si Verification Engineer",
           "Intel",
           6000
          ],
          [
           "Cloud Solutions Architect - Alliances",
           "Canonical",
           8400
          ],
          [
           "GenAI Applications Intern",
           "Intel",
           null
          ],
          [
           "Layout / Design Automation Student worker",
           "Intel",
           null
          ],
          [
           "Design Automation Engineer",
           "Intel",
           null
          ],
          [
           "Technical Product Owner - Operating Systems- OEM (Windows OEM, Linux)",
           "Toshiba Global Commerce Solutions",
           6000
          ],
          [
           "CPU Debug and Verification Engineer",
           "Intel",
           null
          ],
          [
           "CPU Pre-Si Verification Senior Engineer",
           "Intel",
           null
          ],
          [
           "Cloud Solutions Architect - Alliances",
           "Canonical",
           8400
          ],
          [
           "Power BI developer / Data Analyst Intern",
           "Intel",
           null
          ],
          [
           "Medical Virtual Assistant",
           "Unemplojorempleo",
           null
          ],
          [
           "Spanish Remote Simultaneous Interpretation (RSI) (Guadalajara)",
           "Future Group",
           null
          ],
          [
           "Spanish VRI/OPI Interpretation Vacancy(Guadalajara, Mexico)",
           "Future Group",
           null
          ],
          [
           "Retail Ops MX Specialist",
           "DiDi Global",
           null
          ],
          [
           "DevOps Engineer",
           "IBM",
           6000
          ],
          [
           "Site Reliability Engineer",
           "IBM",
           6000
          ],
          [
           "Sr. AP Analyst",
           "IBM",
           6000
          ],
          [
           "ServiceNow Architect",
           "IBM Qatar",
           6000
          ],
          [
           "Developer-SAP ABAP HANA",
           "IBM Qatar",
           6000
          ],
          [
           "Infrastructure Specialist-AWS DevOp",
           "IBM",
           6000
          ],
          [
           "SAP FIN FI Consultant",
           "IBM",
           6000
          ],
          [
           "Consultant SAP HANA FIN- VIM",
           "IBM",
           6000
          ],
          [
           "Application Developer - SAP Enterprise Integration",
           "IBM",
           6000
          ],
          [
           "Senior Financial Analyst",
           "IBM",
           6000
          ],
          [
           "Software Test Engineer - Storage",
           "IBM",
           6000
          ],
          [
           "Software Development Engineer - Storage Backend",
           "IBM Qatar",
           6000
          ],
          [
           "Senior Financial Analyst",
           "IBM Computing",
           6000
          ],
          [
           "Data Engineer- Redshift Data Architecture",
           "IBM Qatar",
           6000
          ],
          [
           "Software Engineering Quality Engineer - Automation Professional GUADALAJARA, MX",
           "Avature",
           6000
          ],
          [
           "Senior System Analyst",
           "Luxoft",
           null
          ],
          [
           "Internship Security Consultant",
           "IBM",
           null
          ],
          [
           "Middleware Developer",
           "IBM",
           null
          ],
          [
           "fullstack developer",
           "IBM",
           null
          ],
          [
           "Mid-level fullstack",
           "IBM",
           null
          ],
          [
           "QA/Test Automation Interoperability",
           "IBM",
           null
          ],
          [
           "Cost Accounting Analyst",
           "IBM",
           null
          ],
          [
           "Storage Scale - Technical Writer",
           "IBM",
           null
          ],
          [
           "SAP FIN FI Consultant",
           "IBM",
           null
          ],
          [
           "SAP SCM MM Consultant",
           "IBM",
           null
          ],
          [
           "Financial Analyst",
           "IBM",
           null
          ],
          [
           "DevOps Engineer",
           "IBM",
           null
          ],
          [
           "DevOps",
           "IBM",
           null
          ],
          [
           "Site Reliability Engineer",
           "IBM",
           null
          ],
          [
           "Security Consultant-Risk & Compliance",
           "IBM",
           null
          ],
          [
           "Backend Developer",
           "IBM",
           null
          ],
          [
           "Security Consultant-Risk & Compliance",
           "IBM",
           null
          ],
          [
           "Internship Program - Business Operations Professional",
           "IBM",
           null
          ],
          [
           "Software Test Engineer - Storage",
           "IBM",
           null
          ],
          [
           "F&P - Finance Analyst",
           "IBM",
           null
          ],
          [
           "Americas Expense F&P - Senior Finance Analyst",
           "IBM",
           null
          ],
          [
           "App Developer AWS Cloud Full Stack",
           "IBM",
           null
          ],
          [
           "Backend Developer",
           "IBM",
           null
          ],
          [
           "Customer Service Specialist",
           "IBM",
           null
          ],
          [
           "Customer Service Specialist",
           "IBM",
           null
          ],
          [
           "Jr Project Manager (Guadalajara) Advanced Excel & English",
           "IBM",
           null
          ],
          [
           "Process Delivery Specialist",
           "IBM",
           null
          ],
          [
           "SAP PM/CS Consultant",
           "IBM",
           null
          ],
          [
           "Sr Organizational Change Management Consultant",
           "IBM",
           null
          ],
          [
           "Jr. Financial Analyst (FP&A)",
           "IBM",
           null
          ],
          [
           "Jr. Financial Analyst (FP&A)",
           "IBM",
           null
          ],
          [
           "SAP TM Consultant",
           "IBM",
           null
          ],
          [
           "Jr SAP MM Consultant",
           "IBM",
           null
          ],
          [
           "Sr SAP PP/QM Consultant",
           "IBM",
           null
          ],
          [
           "Accounts Receivable Specialist",
           "IBM",
           null
          ],
          [
           "Accounts Receivable Specialist",
           "IBM",
           null
          ],
          [
           "Cash Application Specialist",
           "IBM",
           null
          ],
          [
           "Accounts Receivable Specialist Jr",
           "IBM",
           null
          ],
          [
           "BPO Sr Analyst",
           "IBM",
           null
          ],
          [
           "Automation Engineer - Selenium",
           "IBM",
           null
          ],
          [
           "BPO AP Junior Analyst",
           "IBM",
           null
          ],
          [
           "BPO AP Sr Analyst",
           "IBM",
           null
          ],
          [
           "Junior Financial Analyst (FP&A)",
           "IBM",
           null
          ],
          [
           "Senior Financial Analyst",
           "IBM",
           null
          ],
          [
           "Analista Financiero",
           "IBM",
           null
          ],
          [
           "Senior Supply Chain Planner",
           "SKF Group",
           null
          ],
          [
           "Microsoft 365 Ecosystem Specialist and Digital Transformation",
           "Logística, Viajes y Bodas SA de CV",
           705600
          ],
          [
           "Microsoft 365 Administrator",
           "Quantum Default Brand",
           null
          ],
          [
           "Regular Python Developer (CI/CD / Azure)",
           "Luxoft",
           null
          ],
          [
           "IAM Engineer",
           "MHP – A Porsche Company",
           6000
          ],
          [
           "Senior Dotnet Developer",
           "Programming.com",
           null
          ],
          [
           "Regular Python Developer (CI/CD - Azure)",
           "Luxoft",
           6000
          ],
          [
           "Azure Data Engineer",
           "Slalom",
           6000
          ],
          [
           "Azure Data Architect",
           "Slalom",
           6000
          ],
          [
           "Supervisor de cobranza telefónica",
           "Megacable",
           146400
          ],
          [
           "Auxiliar contable Finanzas",
           "Grupo Aceros Ocotlan SA de CV",
           151200
          ],
          [
           "Ocean Specialist",
           "CEVA Logistics",
           null
          ],
          [
           "Administradora turno matutino",
           "haro fianzas y seguros",
           null
          ],
          [
           "Senior .NET Developer",
           "Luxoft",
           6000
          ],
          [
           "Technical Recruiter",
           "STAND 8 Technology Consulting",
           null
          ],
          [
           "Analyst, Collection (Portuguese speaker)",
           "Ingredion Incorporated",
           null
          ],
          [
           "Diseñadora grafico Con gusto por los eventos",
           "SUITE100 PUBLICIDAD S.A DE C.V.",
           144000
          ],
          [
           "Encargado de despachos de cobranza Guadalajara",
           "Grupo Salinas",
           null
          ],
          [
           "Asistente comercial telefónico",
           "Intedya",
           null
          ],
          [
           "Recepcionista Auxiliar RRHH",
           "JAVER",
           null
          ],
          [
           "Diseñador Industrial yo Arquitectos",
           "TALINK",
           192000
          ],
          [
           "Analista financiero en el área de relación con inversionistas",
           "Megacable",
           192000
          ],
          [
           "Asistente persona y administrativo",
           "ARLO",
           144000
          ],
          [
           "Traductor e Intérprete Simultáneo SR.",
           "O'Reilly Autopartes México",
           null
          ],
          [
           "PROGRAM MANAGER",
           "TREND TECHNOLOGIES MEXICO S. DE R.L. DE C.V.",
           null
          ],
          [
           "Ingeniero, Arquitecto para Control de Proyecto Administrativo",
           "ACONSA",
           null
          ],
          [
           "Contador recién egresado o estudiante",
           "Importante Firma Contable",
           null
          ],
          [
           "Ejecutivo Administrativo GMM",
           "ManpowerGroup",
           240000
          ],
          [
           "Data Scientist",
           "Herbalife",
           6000
          ],
          [
           "Asistente Administrativo Bilingue",
           "Alegro Industries",
           167976
          ],
          [
           "Administrative Assistant",
           "Alegro Industries",
           167976
          ],
          [
           "Technical Website Support Specialist",
           "Juniper Data Center",
           null
          ],
          [
           "Comprador Bilinge Guadalajara",
           "Importante empresa del sector de compras",
           360000
          ],
          [
           "Solution Architect, North America Pursuit COE",
           "HP",
           8400
          ],
          [
           ".NET Developer - PCI DSS Secure Payments (Remote)",
           "Capgemini",
           6000
          ],
          [
           "Coordinado de Ventas",
           "Grupo Presidente",
           148248
          ],
          [
           "Controller",
           "Divine Resource Solutions, LLC",
           null
          ],
          [
           "ASISTENTE DE PRODUCCION GUADALAJARA",
           "La Opinión de Murcia",
           8400
          ],
          [
           "Ejecutivo de atencion a clientes Administrativo MCM Gdl",
           "Megacable",
           null
          ],
          [
           "Supply Chain Customer Service Specialist Mexico",
           "AIRFISH MEXICO",
           360000
          ],
          [
           "Asesor Comercial Giro Industrial",
           "TALINK",
           null
          ],
          [
           "Recepcionista bilinge Guadalajara Recepcionista",
           "Grupo Nichos",
           192000
          ],
          [
           "Subgerente de RH Prestaciones de ley",
           "Importante empresa del sector de SEGURIDAD PRIVADA",
           240000
          ],
          [
           "Analista de Credito y Cobranza",
           "VALMEX MONTERREY",
           null
          ],
          [
           "Contador Gestor de cierre contable",
           "Teleperformance",
           null
          ],
          [
           "Site Reliability Engineer",
           "NTT DATA, Inc.",
           6000
          ],
          [
           "Sales Analytics & Automation Expert",
           "F5 Networks",
           6000
          ],
          [
           "Expert Network Engineer",
           "Finastra",
           null
          ],
          [
           "Sr. EC Technical Engineer",
           "Jabil Circuit",
           6000
          ],
          [
           "Operador de Máquina de Programación",
           "Arrow Electronics, Inc.",
           null
          ],
          [
           "Administradora de Redes Empresa del giro del Entretenimiento",
           "Importante empresa del sector del entretenimiento",
           360000
          ],
          [
           "Sr Analyst Statutory Reporting",
           "The Hershey Company",
           null
          ],
          [
           "Especialista en Azure PaaS",
           "Azkait",
           6000
          ],
          [
           "Technical Lead, IT Collaboration",
           "Guadalajara, Jalisco",
           6000
          ],
          [
           "Power Platform Developer (Power Apps & Power BI)",
           "Infosys",
           6000
          ],
          [
           "Technical Lead, IT Collaboration",
           "Vantive",
           6000
          ],
          [
           "Auditor turno completo",
           "FARMACIAS ECONOMICAS",
           144000
          ],
          [
           "Contador General Con experiencia comprobada",
           "AGL Consultores Recursos Humanos SC",
           300000
          ],
          [
           "Agente de Cobranza Telefonica",
           "Megacable",
           null
          ],
          [
           "Lead Consultant -Senior Business Analyst Mountain Apps-ITO087097",
           "Genpact",
           6000
          ],
          [
           "Classification & Export Licensing Analyst",
           "Jabil",
           6000
          ],
          [
           "C# / DotNet Developer with React experience - Remote, Latin America",
           "Bluelight Consulting LLC",
           6000
          ],
          [
           "Cyber Security Engineer",
           "Travelport",
           null
          ],
          [
           "Order Entry Specialist",
           "Genpact",
           null
          ],
          [
           "Contract Administrator",
           "Genpact",
           null
          ],
          [
           "Bilingual Executive Assistant",
           "GrainChain Inc",
           null
          ],
          [
           "Contadora",
           "Grupo Salinas",
           240000
          ],
          [
           "Encargado de Almacen",
           "Supollo",
           119988
          ],
          [
           "Senior .NET Developer (Bilingual) - Remote",
           "MezTal",
           6000
          ],
          [
           "Auxiliar administrativoa Trabajo de L V 9 a 6 y media, atrás de clínica 46",
           "POWER IMPULSE",
           180000
          ],
          [
           "Dotnet Developer",
           "Programming.com",
           6000
          ],
          [
           "Auxiliar contable Medio tiempo",
           "Tekman",
           120000
          ],
          [
           "Ejecutivo Telemarketing ramo médico",
           "SPLINT Ortopédica",
           180000
          ],
          [
           "Business Intelligence Architect",
           "BONbLOC",
           8400
          ],
          [
           "Engineering Manager - Public Cloud, Python, Golang",
           "Canonical",
           6000
          ],
          [
           "Claims Specialist",
           "Fresh Del Monte",
           null
          ],
          [
           "Recepcionista Auxiliar de Recursos Humanos",
           "PUNTO CHG S.A DE CV",
           180000
          ],
          [
           "Auxiliar administrativoa tiempo completo",
           "LIRCON CONSTRUCCIONES",
           null
          ],
          [
           "Desktop Administrator II Atención de mesa de ayuda N1 y N2",
           "LabelTi",
           null
          ],
          [
           "Secretarioa Administrativa",
           "Dulces Bobolin",
           144000
          ],
          [
           "Becario soporte tecnico TI Sin experiencia estudiantes",
           "Tecnolite Aplicaciones",
           null
          ],
          [
           "Asesora de Ventas Automotriz Contratación Directa",
           "ManpowerGroup",
           144000
          ],
          [
           "Analista de Datos enfoque Auditoría",
           "Auto Partes y Más",
           168000
          ],
          [
           "Project Manager Automatización",
           "GD INSTALLAZIONI",
           null
          ],
          [
           "Residente de obra Foráneo Construcción",
           "Dehesa Construcciones",
           144000
          ],
          [
           "Early Stage Collector Ingles avanzado",
           "Intugo",
           240000
          ],
          [
           "Coordinador de paqueterías y Última milla",
           "Auto Partes y Más",
           null
          ],
          [
           "Auxiliar contable y administrativo Auxiliar Contable",
           "Centro Universitario UNE",
           210000
          ],
          [
           "Representante de experiencia al cliente Contact Center Zapopan",
           "HY CITE MEXICO",
           131652
          ],
          [
           "Supervisor de obra foráneo Construcción",
           "Dehesa Construcciones",
           156000
          ],
          [
           "Asistente administrativo Ventas",
           "INTEGRACION DE SOLUCIONES SUSTENTABLES",
           108000
          ],
          [
           "Auxiliar contable",
           "CORVA",
           null
          ],
          [
           "Sourcing Manager",
           "Hy Cite",
           null
          ],
          [
           "Traductor Interprete Chino Español Puesto en Guadalajara Jalisco",
           "CONEJO CORRIENDO",
           null
          ],
          [
           "Especialista de incubadora de negocios",
           "Universidad Autónoma de Guadalajara",
           269400
          ],
          [
           "Ejecutivo de Entrenamiento",
           "APYMSA",
           null
          ],
          [
           "Desarrollador Ing. Sistemas. a fin",
           "Alejandro Gonzalez",
           600000
          ],
          [
           "Project Manager Automatización",
           "GD INSTALLAZIONI",
           null
          ],
          [
           "Becario TI Sin experiencia estudiantes",
           "Tecnolite Aplicaciones",
           null
          ],
          [
           "Auxiliar administrativoa",
           "PROAPSA OCCIDENTE",
           null
          ],
          [
           "Contadora jr Con experiencia",
           "ManpowerGroup",
           179988
          ],
          [
           "Reclutadora",
           "Auto Partes y Más",
           180000
          ],
          [
           "Contador",
           "New World Consultants",
           192000
          ],
          [
           "Ejecutivo de ventas mayoreo experiencia y conocimiento",
           "Soluciones Hidraulicas y Conduccion de Fluidos",
           null
          ],
          [
           "Ejecutivo de ventas Material construcción ferretero",
           "CONEKTALENT",
           180000
          ],
          [
           "Auxiliar Administrativa",
           "merakirh",
           144000
          ],
          [
           "Asesor Administrativo de Crédito Automotriz",
           "Grupo Financiero Inbursa Corporativo",
           140400
          ],
          [
           "Auxiliar administrativoa",
           "Grupo Lintecs",
           132000
          ],
          [
           "Proyectista Experiencia en AutoCAD e hidráulica",
           "VIRGINIA GARCIA ROMO",
           143988
          ],
          [
           "Auxiliar Administrativo Auxiliar Administrativo Atencion a Agentes",
           "Magnus",
           108000
          ],
          [
           "Analista de recursos humanos En eventos",
           "HY CITE MEXICO",
           null
          ],
          [
           "Analista de Prevención de Perdidas",
           "Auto Partes y Más",
           168000
          ],
          [
           "Operador telemarketing Zapopan",
           "HY CITE MEXICO",
           131652
          ],
          [
           "Ejecutivo de adquisiciones y recursos materiales Ejecutivo de adquisiciones y recursos materiales",
           "Auto Partes y Más",
           null
          ],
          [
           "Ejecutivo de compras Ejecutivo de compras",
           "Auto Partes y Más",
           null
          ],
          [
           "Analista contable",
           "Aliato",
           300000
          ],
          [
           "Ejecutivo de adquisión de autos compras Ejecutivo de adquisión de autos compras",
           "Auto Partes y Más",
           null
          ],
          [
           "Especialista de Servicio a Clientes Retención Retención",
           "Grupo Salinas",
           96000
          ],
          [
           "recursos humanos auxiliar",
           "Lionesse",
           120000
          ],
          [
           "Encargado de Posventa Ramo Metalmecánico",
           "GRUPOVICTOR",
           null
          ],
          [
           "Traductor Chino Español",
           "CONEJO CORRIENDO",
           null
          ],
          [
           "Capturista",
           "SEERAUBER AUTOMOTIVE DE MEXICO",
           null
          ],
          [
           "Asociado de facilities Zapopan",
           "HY CITE MEXICO",
           null
          ],
          [
           "Diseñador Curricular Pedagogía",
           "Centro Universitario UNE",
           194400
          ],
          [
           "Supervisor de Limpieza",
           "Teleperformance",
           100368
          ],
          [
           "Guadalajara Bilingue InCity - Customer service agents",
           "Teleperformance",
           null
          ],
          [
           "Order Entry Temporary",
           "Eaton Corporation",
           null
          ],
          [
           "Senior Principal Consultant",
           "Oracle",
           null
          ],
          [
           "HR Specialist",
           "TTI",
           null
          ],
          [
           "Strategy Enablement Associate",
           "Oracle",
           null
          ],
          [
           "Almacenista / Operador de Almacn",
           "Arrow Electronics",
           null
          ],
          [
           "Operador de Mquina de Programacin",
           "Arrow Electronics",
           null
          ],
          [
           "Senior Principal Consultant",
           "Oracle",
           null
          ],
          [
           "Sr. Associate FP&A",
           "Elanco",
           416000
          ],
          [
           "Strategy Enablement Associate",
           "Oracle",
           null
          ],
          [
           "Principal DevOps Build and Release Engineer",
           "Oracle",
           null
          ],
          [
           "Asociado de proceso - Servicio al Cliente - Zapopan, Jal.",
           "Genpact",
           null
          ],
          [
           "Asociado de proceso - Servicio al Cliente",
           "Genpact",
           null
          ],
          [
           "Principal Consultant - Netsuite",
           "Oracle",
           null
          ],
          [
           "HR Generalist",
           "TTI",
           null
          ],
          [
           "Customer Solutions Specialist",
           "Avnet Mexico",
           null
          ],
          [
           "Customer Solution Specialist",
           "Avnet Mexico",
           null
          ],
          [
           "Principal Consultant - Netsuite",
           "Oracle",
           null
          ],
          [
           "Principal DevOps Build and Release Engineer",
           "Oracle",
           null
          ],
          [
           "Coordinador de producción metalmecanica cnc",
           "Importante empresa del sector Metalmecánica CNC",
           null
          ],
          [
           "Encargado de sistemas Ingeniero en sistemas",
           "MEDIMEX",
           null
          ],
          [
           "Analista de seguridad",
           "FOXCONN GDL",
           null
          ],
          [
           "Supervisor Experiencia en Ventas",
           "Sello rojo",
           192000
          ],
          [
           "Comprador Internacional Cubrir incapacidad maternal",
           "SERVICIOS ESTRELLA AZUL DE OCCIDENTE",
           240000
          ],
          [
           "Auditora Auditor Interno",
           "Transportes INNOVATIVOS",
           360000
          ],
          [
           "Contador general Bilinge",
           "Teleperformance",
           null
          ],
          [
           "Coordinadora de Recursos Humanos Organización de la Sociedad Civil",
           "Poligono Talento",
           168000
          ],
          [
           "Diseñadora Gráfico o Industrial Enfoque en Exhibiciones y Modelado 3D",
           "INTERDEMEX",
           192000
          ],
          [
           "Data Scientist",
           "Herbalife",
           null
          ],
          [
           "Customer Support Associate l",
           "Arrow",
           null
          ],
          [
           "Representative, Sales Order, Bilingual",
           "Herbalife",
           null
          ],
          [
           "Systems Engineer I",
           "Herbalife",
           null
          ],
          [
           "Customer Support Associate I",
           "Arrow",
           204000
          ],
          [
           "Fraud Research Analyst",
           "Arrow Electronics",
           null
          ],
          [
           "Finance Analyst Worldwide Customer Support",
           "HP",
           null
          ],
          [
           "Customer Support Field & Channel Lead Financial Analyst",
           "HP",
           null
          ],
          [
           "Customer Support Associate I",
           "Arrow Electronics",
           null
          ],
          [
           "Spend Management Supply Chain Financial Analyst",
           "HP",
           null
          ],
          [
           "Logistics Finance Lead",
           "HP",
           null
          ],
          [
           "Customer Support Associate (e-commerce)",
           "Arrow",
           null
          ],
          [
           "Sales Operations Manager",
           "Arrow",
           671528.5
          ],
          [
           "Customer Support Associate (e-commerce)",
           "Arrow Electronics",
           null
          ],
          [
           "Business Planning Analyst II",
           "Arrow",
           385399.5
          ],
          [
           "Sales Operations Manager",
           "Arrow Electronics",
           null
          ],
          [
           "Strategic Sourcing Specialist",
           "Arrow",
           null
          ],
          [
           "HR Global Communications Associate",
           "Arrow",
           261314
          ],
          [
           "Strategic Sourcing Specialist",
           "Arrow Electronics",
           null
          ],
          [
           "HR Global Communications Associate",
           "Arrow Electronics",
           null
          ],
          [
           "Business Planning Analyst II",
           "Arrow Electronics",
           null
          ],
          [
           "Manufacturing & Process Engineer",
           "Avnet Mexico",
           null
          ],
          [
           "Principal I, FP&A MX",
           "Herbalife",
           null
          ],
          [
           "Program Manager III, New Product Introduction, Google Cloud",
           "Google Inc.",
           6000
          ],
          [
           "Google Workspace Engineer (m/f/d)",
           "Zoi",
           6000
          ],
          [
           "Jefe de Marketing Digital y diseño",
           "Comercial pm ventas",
           192000
          ],
          [
           "Social Media Content and Community Manager",
           "Macloud",
           216000
          ],
          [
           "Software Engineer, Ceph & Distributed Storage",
           "Canonical",
           6000
          ],
          [
           "Marketing Digital Ejecutivo de cuenta",
           "TALINK",
           168000
          ],
          [
           "Auxiliar de chófer Con experiencia",
           "Maxima Autopartes",
           126000
          ],
          [
           "Desarrollador de aplicaciones para móviles",
           "CONTPAQi",
           null
          ],
          [
           "Especialista en Marketing Creativo y Diseño Visual In House Marketing",
           "Selvaggio",
           180000
          ],
          [
           "Especialista en HighLevel y Automatización de Marketing",
           "orange ia",
           179988
          ],
          [
           "Especialista Publicidad Digital Impulsa Resultados Online",
           "Vutra",
           null
          ],
          [
           "DevOps Engineer GCP",
           "Deloitte",
           null
          ],
          [
           "GCP Infrastructure Engineer",
           "Endava Limited",
           6000
          ],
          [
           "Chofer mensajero Con experiencia",
           "Grupo Acuícola Mexicano",
           100368
          ],
          [
           "Trafficker Digital 18,000 mensuales libres Col. Reforma",
           "ASESORES DEL TALENTO MEXICANO S.C",
           216000
          ],
          [
           "Trafficker Digital",
           "Logística, Viajes y Bodas SA de CV",
           258480
          ],
          [
           "Coordinadora de Pastoral y Animación Vocacional",
           "HERMITAGE INNOVACION Y SOSTENIBILIDAD",
           null
          ],
          [
           "Creadora de Contenido Grabación y Edición de Video, Diseño de Imagenes",
           "Remodela Desarrolladora",
           156000
          ],
          [
           "Gerente de almacén Puerto Vallarta",
           "CARGO BAJA",
           null
          ],
          [
           "Senior Full-Stack Engineer [API & Dashboard]",
           "HeyDonto AI API",
           6000
          ],
          [
           "Software Developer Vue.js - Remote | REF108442",
           "BairesDev",
           6000
          ],
          [
           "Gerente de Marca",
           "Importante empresa del sector",
           70000
          ],
          [
           "Jefe Administrativo y Operaciones Lunes a viernes",
           "ETIQUETAS DE CALIDAD",
           null
          ],
          [
           "Trafficker Digital Marketing",
           "Glish",
           204000
          ],
          [
           "Recepcionista para Smart Fit Arboledas Postúlate ya",
           "Smart Fit",
           101736
          ],
          [
           "Analista comercial",
           "Aeropuertos GAP",
           null
          ],
          [
           "Business Intelligence Analyst - Remote Work | REF156409",
           "BairesDev",
           6000
          ],
          [
           "Senior Full Stack Developer",
           "Sparq",
           6000
          ],
          [
           "Creativo en marketing digital",
           "Camara de joyeria de Jalisco",
           null
          ],
          [
           "DevOps Engineer (GCP)",
           "Deloitte",
           null
          ],
          [
           "iOS Mobile Developer - Remote Work | REF281614",
           "BairesDev",
           6000
          ],
          [
           "Node.js Trainee Developer - Remote | REF281673",
           "BairesDev",
           6000
          ],
          [
           "DevOps Engineer | Remote in Mexico",
           "Capgemini",
           6000
          ],
          [
           "Lead UI Engineer (Vue.js)",
           "Grid Dynamics International, Inc.",
           6000
          ],
          [
           "Trafiker Guadalajara",
           "BT latina",
           null
          ],
          [
           "Software Tester - Remote Work | REF178520",
           "BairesDev",
           6000
          ],
          [
           "Junior/MidLevel Java Developer - Remote Work | REF176643",
           "BairesDev",
           6000
          ],
          [
           "Data Scientist - Remote Work | REF282074",
           "BairesDev",
           6000
          ],
          [
           "Ing de Servicio de Campo (con Visa)",
           "Shift 3D",
           6000
          ],
          [
           "(P) API DEVELOPER",
           "LatamCent",
           6000
          ],
          [
           "Work From Home Senior Product Owner / Ref. 0140",
           "BairesDev LLC",
           6000
          ],
          [
           "Especialista HSE",
           "Randstad México, S. de R.L. de C.V",
           6000
          ],
          [
           "Desarrollador BackEnd.net",
           "Staffing RH",
           540000
          ],
          [
           "Administración y logística Inglés medio",
           "SELVA RACKS",
           180000
          ],
          [
           "Staffing Solution Architect - Remote Work | REF281547",
           "BairesDev",
           6000
          ],
          [
           "Automation Engineer - Python  Selenium Developer - Remote Work | REF281801",
           "BairesDev",
           6000
          ],
          [
           "Data Scientist III",
           "The Hershey Company",
           6000
          ],
          [
           "Site Reliability Engineer",
           "Insulet Corporation",
           6000
          ],
          [
           "Automation QA Lead Mexico",
           "Zoolatech",
           6000
          ],
          [
           "Ejecutivo de Cobranza Campo y Home Office",
           "CONSUBANCO",
           101088
          ],
          [
           "Backend Software Engineer",
           "Nimble Gravity",
           6000
          ],
          [
           "Software Engineer",
           "Adok",
           6000
          ],
          [
           "DevOps Engineer 3 años de experiencia",
           "Monocromática",
           null
          ],
          [
           "Ejecutivo de Marketing Digital",
           "INDICE JOB",
           140400
          ],
          [
           "Únete a nuestro equipo como Ejecutivo de Pricing Queremos conocerte",
           "Mineral Cargo",
           144000
          ],
          [
           "Desarrollador Android Senior - Trabajo Remoto | REF272338",
           "BairesDev",
           6000
          ],
          [
           "Director de TI",
           "Confidencial",
           6000
          ],
          [
           "Android Developer",
           "Applaudo",
           6000
          ],
          [
           "Gerente de MKT Moda Retail Joyería",
           "AG DISTRIBUCION DE MODA",
           null
          ],
          [
           "Ejecutivo cobranza 50 campo50 Home Office",
           "CONSUBANCO",
           101088
          ],
          [
           "Adobe Analytics Consultant",
           "Keyrus Colombia",
           6000
          ],
          [
           "Analista de costos y presupuestos",
           "Alferza Innovación Empresarial",
           239988
          ],
          [
           "Analista de cobranza telefónica y domiciliaria",
           "CONSUBANCO",
           101088
          ],
          [
           "Atención al cliente, Comunicación y enfoque en resultados Únete a nuestro equipo",
           "FUNDACIÓN LAUDES",
           144000
          ],
          [
           "Bilingual Contact Center Sr Specialist Nielsen",
           "Man Power Group",
           252000
          ],
          [
           "Tecnico en Aire Acondicionado",
           "Sertres",
           8400
          ],
          [
           "Android Developer",
           "Nimble Gravity",
           6000
          ],
          [
           "Architect - AI Platform (Signal Team)",
           "Slalom",
           6000
          ],
          [
           "Ingeniero de Sistemas y soporte Con conocimientos en SAP",
           "EL VALOR",
           192000
          ],
          [
           "Ejecutivo de ventas digitales",
           "Soluciones Avantronics",
           100368
          ],
          [
           "Administrador de renta de propiedades Col. Jardines del bosque",
           "Surtidora Médica de Occidente S.A de C.V",
           156000
          ],
          [
           "Encargadoa de propiedades Col. Jardines del bosque",
           "Surtidora Médica de Occidente S.A de C.V",
           156000
          ],
          [
           "Buscamos Ejecutivo de Ventas Digitales Publicidad en App Turno completo con experiencia en ventas",
           null,
           100200
          ],
          [
           "Devops Engineer [Infrastructure]",
           "HeyDonto AI API",
           6000
          ],
          [
           "Becario de Marketing y Ventas Guadalajara",
           "Probecarios",
           71976
          ],
          [
           "Coordinador Marketing Project Manager de Marketing",
           "DESARROLLOS VISIONARIOS SA DE CV",
           312000
          ],
          [
           "Senior Tax Analyst",
           "Brown-Forman",
           6000
          ],
          [
           "Marketing Operations Specialist",
           "BayWa r.e. Distribución Solar / MX",
           null
          ],
          [
           "Analista de plataforma digital en marketing",
           "Empresa Confidencial",
           null
          ],
          [
           "E commerce Manager Mercado Libre Y Amazon Lugar de trabajo Tesistan",
           "Cloe Personale",
           251988
          ],
          [
           "Auxiliar de Marketing",
           "Smart Glass Solutions",
           144000
          ],
          [
           "Lic. en Mercadotecnia Recien Egresada",
           "LUBRI DEALER",
           144000
          ],
          [
           "Surtidor de abarrotes Soriana Cruz del Sur",
           "Soriana",
           108000
          ],
          [
           "Vigilante Soriana Cruz del Sur",
           "Soriana",
           108000
          ],
          [
           "Auxiliar de Recibo Bodega Soriana Cruz del Sur",
           "Soriana",
           108000
          ],
          [
           "Mercadólogoa Turno completo",
           "Constru Soluciones",
           144000
          ],
          [
           "Comunity Manager Experiencia en Manejo de Redes Sociales",
           "Corporativo Bugambilias",
           120000
          ],
          [
           "Coordinador de marketing y leads",
           "Verstand",
           120000
          ],
          [
           "Encargada de Marketing Marketing",
           "PROGYM",
           null
          ],
          [
           "Chofer",
           "Grupo Salinas",
           216000
          ],
          [
           "Especialista en Marketing",
           "INTEGRACION DE SOLUCIONES SUSTENTABLES",
           156000
          ],
          [
           "Recepcionista para Smart Fit Ávila Camacho",
           "Smart Fit",
           101736
          ],
          [
           "Chófer Cargador Con licencia de manejo",
           "VYAR SOLUCIONES",
           144000
          ],
          [
           "Analista de Mercadotecnia Giro Industrial",
           "APLICACION INTELIGENTE DE VALVULAS SA DE CV",
           216000
          ],
          [
           "Gerente de Marketing o Trafficker Digital",
           "TALINK",
           300000
          ],
          [
           "Trafficker Digital",
           "GIG INMOBILIARIA",
           300000
          ],
          [
           "Mercadólogoa y Ecommerce Estrategia de ventas online y publicidad digital",
           "SERVIKAR",
           144000
          ],
          [
           "Docente de Pintura CMN",
           "Grupo Procorp",
           null
          ],
          [
           "Asistente administrativo Matutino",
           "PINA WAGNER HORSES",
           144000
          ],
          [
           "Vendedor con caja en farmacia Soriana Cruz del Sur",
           "Soriana",
           120000
          ],
          [
           "Surtidor de Frutas y verduras Soriana Cruz del Sur",
           "Soriana",
           120000
          ],
          [
           "Supervisor de mermas",
           "Soriana",
           108000
          ],
          [
           "Surtidor de Frutas y verduras Soriana Cruz del Sur",
           "Soriana",
           108000
          ],
          [
           "Docente Taekwondo CMN",
           "Grupo Procorp",
           null
          ],
          [
           "Vendedor con caja Soriana Cruz del Sur",
           "Soriana",
           108000
          ],
          [
           "Aux de bodega Soriana Cruz del Sur",
           "Soriana",
           120000
          ],
          [
           "Vendedor de Mostrador en Zapopan",
           "Radiadores Unidos SA de CV",
           144000
          ],
          [
           "Vendedor Mostrador Atención a Clientes",
           "TALLER DE TECNOLOGIA TECHHOUSE S.A DE C.V",
           null
          ],
          [
           "Auxiliar Administrativo en Zapopan",
           "Radiadores Unidos SA de CV",
           126000
          ],
          [
           "Gerente Mercadoctenia",
           "Safety Depot",
           444000
          ],
          [
           "Técnico de Ruta en control de plagas Zapopan Jalisco Ingresos desde 12700 Automóvil de la empresa Seguro de vida",
           "Rentokil",
           null
          ],
          [
           "Auxiliar de Marketing",
           "ETIQUETAS DE CALIDAD",
           null
          ],
          [
           "Recepcionista Atención al cliente",
           "CENTRO DE DIAGNOSTICO ORTOPEDICO DE MEXICO",
           110400
          ],
          [
           "Community manager",
           "Importante empresa del sector",
           null
          ],
          [
           "Asesora de ventas Sector Salud y Bienestar Ciudad Granja",
           "TALINK",
           180000
          ],
          [
           "Gerente e commerce",
           "SMART BAMBOO",
           504000
          ],
          [
           "Ejecutivo de ventas",
           "Tekman",
           null
          ],
          [
           "Líder de Marketing Zona venta del Astillero",
           "SISTEMAS AGROPECUARIOS JAT",
           192000
          ],
          [
           "Abogada corporativa Jr.",
           "RM Proactive Law",
           204000
          ],
          [
           "Asistente de dirección giro bancario",
           "BBVA",
           204000
          ],
          [
           "Recepcionista para Smart Fit Andares",
           "Smart Fit",
           101736
          ],
          [
           "Recepcionista para Smart Fit La Cima",
           "Smart Fit",
           101736
          ],
          [
           "Recepcionista para Smart Fit Andares Postúlate ya",
           "Smart Fit",
           101736
          ],
          [
           "Asistente de dirección Ciudad Granja",
           "TALINK",
           null
          ],
          [
           "Marketing DigitalBelleza y Bienestar Zona Puerta de Hierro",
           "TALINK",
           180000
          ],
          [
           "Gran Apertura Smart Fit Galerías Guadalajara busca Recepcionista",
           "Smart Fit",
           101736
          ],
          [
           "Asistente Ejecutivo Alta Dirección Sector Salud y Bienestar",
           "TALINK",
           240000
          ],
          [
           "Work From Home Software Delivery Manager Ref. 0338E",
           "BairesDev LLC",
           null
          ],
          [
           "Trabajo Desde Casa Gerente de QA Ref. 0027",
           "BairesDev LLC",
           null
          ],
          [
           "Work From Home Head of Delivery Ref. 0338",
           "BairesDev LLC",
           null
          ],
          [
           "Trabajo Desde Casa Líder Técnico C Ref. 0043",
           "BairesDev LLC",
           null
          ],
          [
           "Work From Home Proofreading Specialist Ref. 0969",
           "BairesDev LLC",
           null
          ],
          [
           "Work From Home Senior Product Owner Ref. 0140",
           "BairesDev LLC",
           null
          ],
          [
           "Work From Home Junior Data Analyst Ref. 1028",
           "BairesDev LLC",
           null
          ],
          [
           "Work From Home Security Engineer Ref. 0069",
           "BairesDev LLC",
           null
          ],
          [
           "Work From Home Events Manager Ref. 0233",
           "BairesDev LLC",
           null
          ],
          [
           "Work From Home Network Engineer Ref. 0044",
           "BairesDev LLC",
           null
          ],
          [
           "IT Administrator (Senior) ID36477",
           "AgileEngine",
           null
          ],
          [
           "Programador Senior (Back End)",
           "Coppel Enterprise",
           null
          ],
          [
           "Programador Senior",
           "Coppel Enterprise",
           null
          ],
          [
           "Java/React.js Full Stack Engineer (Middle) ID36054",
           "AgileEngine",
           null
          ],
          [
           "Mobile Developer (Senior/Lead) ID35532",
           "AgileEngine",
           null
          ],
          [
           "Site Reliability Engineer - SRE",
           "Oracle",
           null
          ],
          [
           "Account Coordinator, Remote",
           "Bluelight Consulting",
           null
          ],
          [
           "Especialista Ventas Ecommerce Licenciatura Terminada",
           "FERRETERIA INDAR",
           204000
          ],
          [
           "Auxiliar de Marketing Home Office",
           null,
           108000
          ],
          [
           "ejecutivo de marketing",
           "PLATAFORMEX",
           null
          ],
          [
           "Médicoa de consulta general Turno matutino",
           "Blive Farmacias",
           null
          ],
          [
           "Ejecutiva de Mercadotecnia Community Manager",
           "Equipos Chakong",
           216000
          ],
          [
           "Work From Home Senior Executive Assistant Ref. 0081",
           "BairesDev LLC",
           null
          ],
          [
           "Work From Home Junior Project Manager Ref. 0049",
           "BairesDev LLC",
           null
          ],
          [
           "Work From Home Semi Senior React Native Developer Ref. 0198",
           "BairesDev LLC",
           null
          ],
          [
           "Work From Home Accounts Payable Analyst Ref. 0771",
           "BairesDev LLC",
           null
          ],
          [
           "Work From Home QA Automation Senior Engineering Manager Ref. 0166",
           "BairesDev LLC",
           null
          ],
          [
           "Global Web Editor",
           "Arrow",
           453218
          ],
          [
           "Global Web Editor ?",
           "Arrow Electronics",
           null
          ],
          [
           "Software Development Manager, Amazon Music, App Foundry",
           "Amazon",
           6000
          ],
          [
           "Professional Services",
           "Amazon",
           6000
          ],
          [
           "Localization Manager, Program Management, Device Software & Services Localization team",
           "Amazon",
           6000
          ],
          [
           "Software Development Engineer - GDL, Guadalajara - Mexico",
           "Amazon",
           6000
          ],
          [
           "Support Engineer, Digital and Emerging Payments",
           "Amazon",
           6000
          ],
          [
           "Senior Quality Assurance Engineer",
           "Amazon",
           6000
          ],
          [
           "Repartidor para Amazon",
           "Amazon Flex",
           null
          ],
          [
           "Chofer Repartidor - Amazon",
           "Amazon Flex",
           null
          ],
          [
           "Chofer de Auto - Amazon",
           "Amazon Flex",
           null
          ],
          [
           "Chofer de Auto - Guadalajara",
           "Amazon Flex",
           null
          ],
          [
           "Chofer de Auto con Seguro",
           "Amazon Flex",
           null
          ],
          [
           "Software Development Engineer, Amazon Devices Demand Forecasting",
           "Amazon",
           6000
          ],
          [
           "Software Development Engineer, Devices Retail Inventory and Financial Record Keeping Technology[]",
           "Amazon",
           6000
          ],
          [
           "Process Engineer, Network Losses , Central Functions - Rest of the World (RoW)",
           "Amazon",
           6000
          ],
          [
           "Network Loss Manager RoW, Central Functions - Rest of the World (RoW)",
           "Amazon",
           6000
          ],
          [
           "Delivery Consultant Artificial Intelligence, Professional Services",
           "Amazon",
           6000
          ],
          [
           "Software Development Engineer, Frustration Free Setup",
           "Amazon",
           6000
          ],
          [
           "Software Dev Engineer II, Beta Tech",
           "Amazon",
           6000
          ],
          [
           "Software Development Manager, Devices Offline Retail Tech",
           "Servicios Comerciales Amazon Mexico S. de R.L. de C.V.",
           null
          ],
          [
           "Loss Prevention Specialist, Seguridad Patrimonial",
           "Amazon",
           null
          ],
          [
           "Líder de Marketing Market Place",
           "DAMSA",
           null
          ],
          [
           "Learning Coordinator (Guadalajara-Last Mile), Amazon Customer Excellence Systems (ACES)",
           "Amazon",
           null
          ],
          [
           "Inbound/Outbound Area Manager, Worldwide Operations",
           "Amazon",
           null
          ],
          [
           "Area Manager, Worldwide Operations",
           "Amazon",
           null
          ],
          [
           "Area Manager Jr , Worldwide Operations",
           "Amazon",
           null
          ],
          [
           "Workplace Health and Safety Manager, Workplace Health Safety",
           "Amazon",
           null
          ],
          [
           "Especialista de Capacitacin, FC Support",
           "Amazon",
           null
          ],
          [
           "Regional Parntership Manager, WFS",
           "Amazon",
           null
          ],
          [
           "Responsable de Suministros y Materiales Operativos, Non-Inventory",
           "Amazon",
           null
          ],
          [
           "Vendedora Ecommerce Con experiencia en Plataformas",
           "LILIA LORENA GARCIA RUIZ",
           223200
          ],
          [
           "Auxiliar de flotilla",
           "Finvivir México",
           144000
          ],
          [
           "Full Stack Senior Developer (Java & Angular / React)",
           "Azka IT",
           8400
          ],
          [
           "Analista administrativo market place",
           "MAMALOV",
           132000
          ],
          [
           "iOS Developer (Guadalajara)",
           "Corporativo Lumston",
           6000
          ],
          [
           "Lead DevOps Engineer (AWS)",
           "Deloitte",
           null
          ],
          [
           "Marketing manager",
           "INSTITUTO EXPANSION",
           120000
          ],
          [
           "Asistente Ecommerce",
           "Comercializadora Stesco, S.A. de C.V.",
           129600
          ],
          [
           "Android Developer Semi Sr",
           "Corporativo GEB",
           6000
          ],
          [
           "AWS Cloud Engineer",
           "HCLTech",
           6000
          ],
          [
           "Jefe de e commerce Av. 8 de Julio",
           "GRUPO UNIVERSAL",
           null
          ],
          [
           "CHOFER DE AMAZON REPARTIR PAQUETERIA",
           "PAQUETERIA Y MENSAJERIA ARCE",
           null
          ],
          [
           "CHOFER DE AMAZON REPARTIR PAQUETERIA",
           "PAQUETERIA Y MENSAJERIA ARCE",
           null
          ],
          [
           "Ejecutivo de Ecommerce",
           "INDICE JOB",
           200568
          ],
          [
           "CHOFER REPARTIDOR DE PAQUETERIA DE AMAZON",
           "PAQUETERIA Y MENSAJERIA ARCE",
           null
          ],
          [
           "Android Developer Semi Sr",
           "Lumston",
           6000
          ],
          [
           "Ejecutivo Ecommerce Atención a clientes",
           "People Zone",
           192000
          ],
          [
           "Auxiliar comercial",
           "Finvivir México",
           192000
          ],
          [
           "Gerente de Canales Digitales - Indispensable experiencia en ecommerce propio",
           "Importante empresa del sector",
           15000
          ],
          [
           "Auxiliar de atención al cliente y cobranza",
           "Finvivir México",
           145200
          ],
          [
           "Staff Software Engineer Java/Angular",
           "Western Governors University",
           null
          ],
          [
           "iOS Developer (Guadalajara)",
           "Lumston",
           6000
          ],
          [
           "Senior Site Reliability Engineer",
           "Zillow",
           null
          ],
          [
           "Model Execution QA Automation Engineer 1",
           "FICO",
           6000
          ],
          [
           "Learning Coordinator (Guadalajara-Last Mile), Amazon Customer Excellence Systems (ACES)",
           "Servicios Comerciales Amazon Mexico S. de R.L. de C.V.",
           null
          ],
          [
           "Inbound/Outbound Area Manager, Worldwide Operations",
           "Servicios Comerciales Amazon Mexico S. de R.L. de C.V.",
           null
          ],
          [
           "Area Manager, Worldwide Operations",
           "Servicios Comerciales Amazon Mexico S. de R.L. de C.V.",
           null
          ],
          [
           "Workplace Health and Safety Manager, Workplace Health Safety",
           "Servicios Comerciales Amazon Mexico S. de R.L. de C.V.",
           null
          ],
          [
           "Regional Parntership Manager, WFS",
           "Servicios Comerciales Amazon Mexico S. de R.L. de C.V.",
           null
          ],
          [
           "Responsable de Suministros y Materiales Operativos, Non-Inventory",
           "Servicios Comerciales Amazon Mexico S. de R.L. de C.V.",
           null
          ],
          [
           "Especialista de Capacitación, FC Support",
           "Servicios Comerciales Amazon Mexico S. de R.L. de C.V.",
           null
          ],
          [
           "Loss Prevention Specialist, Seguridad Patrimonial",
           "Servicios Comerciales Amazon Mexico S. de R.L. de C.V.",
           null
          ],
          [
           "Full Stack Engineer",
           "BRI",
           6000
          ],
          [
           "OT Systems Analyst (Data Historian)",
           "Koch",
           6000
          ],
          [
           "Customer Solutions Specialist",
           "Newark Electronics",
           6000
          ],
          [
           "Site Reliability Engineer (SRE) Mexico",
           "Zoolatech",
           6000
          ],
          [
           "Senior Cloud Operations Engineer I",
           "Varicent",
           6000
          ],
          [
           "Full Stack/AI Engineer - Python Expert- Sólo para México",
           "DaCodes.",
           6000
          ],
          [
           "Senior Engineering Manager",
           "Paylocity",
           6000
          ],
          [
           "Software Engineer",
           "AstraZeneca GmbH",
           6000
          ],
          [
           "Software Engineers / Product Engineer - (AI Development Company)",
           "rocket code",
           6000
          ],
          [
           "Staff Full Stack Software Engineer (Java/Angular)",
           "Western Governors University",
           6000
          ],
          [
           "Engineering Manager, Ubuntu Server - cloud-init",
           "Canonical",
           6000
          ],
          [
           "Customer Solution Specialist",
           "Newark Electronics",
           6000
          ],
          [
           "Engineering Manager - Public Cloud, Python, Golang",
           "Canonical",
           6000
          ],
          [
           "CHOFER REPARTIDOR",
           "ENVIXI Express",
           null
          ],
          [
           "Operations Coordinator",
           "Koda Brands",
           6000
          ],
          [
           "CyberSecurity Consultant",
           "Avertium",
           null
          ],
          [
           "Customer Service Partner",
           "Kueski",
           null
          ],
          [
           "Customer Service Partner - Oportunidad para recién egresados",
           "Kueski",
           null
          ],
          [
           "Model Execution QA Automation Engineer 1",
           "FICO",
           null
          ],
          [
           "Senior Security Engineer",
           "Misys International Banking Systems Mexico De Cv",
           null
          ],
          [
           "Chofer Repartidor - Amazon",
           "Amazon Flex",
           null
          ],
          [
           "Repartidor para Amazon",
           "Amazon Flex",
           null
          ],
          [
           "Chofer de Auto - Amazon",
           "Amazon Flex",
           null
          ],
          [
           "Chofer de Auto con Seguro",
           "Amazon Flex",
           null
          ],
          [
           "Chofer de Auto - Guadalajara",
           "Amazon Flex",
           null
          ],
          [
           "Software Development Engineer - Amazon Devices, DS2 (Device Software & Services)",
           "Amazon",
           null
          ],
          [
           "Software Development Engineer, Concept to Launch",
           "Amazon",
           null
          ],
          [
           "Software Development Engineer - GDL, Guadalajara - Mexico",
           "Amazon",
           null
          ],
          [
           "Software Support Engineer, Devices Support Engineering",
           "Amazon",
           null
          ],
          [
           "Software Support Engineer, Devices Support Engineering",
           "Amazon",
           null
          ],
          [
           "Software Development Engineer - Amazon Devices, Devices Supply Chain Technologies",
           "Amazon",
           null
          ],
          [
           "Software Dev Engineer II - Amazon, Devices Supply Chain Technologies",
           "Amazon",
           null
          ],
          [
           "Software Development Engineer - Amazon Devices, Devices Supply Chain Technologies",
           "Amazon",
           null
          ],
          [
           "Software Development Engineer, DSTA-LATAM",
           "Amazon",
           null
          ],
          [
           "Software Development Engineer, Concept to Launch",
           "Amazon",
           null
          ],
          [
           "Software Development Engineer Internship, Guadalajara",
           "Amazon",
           null
          ],
          [
           "Software Development Manager, Devices Cost Management Systems",
           "Amazon",
           null
          ],
          [
           "Software Development Manager, Devices Offline Retail Tech",
           "Amazon",
           null
          ],
          [
           "Senior EDI Engineer, Devices Software and Services",
           "Amazon",
           null
          ],
          [
           "Software Dev Engineer II, Beta Tech",
           "Amazon",
           null
          ],
          [
           "Software Development Engineer, Frustration Free Setup",
           "Amazon",
           null
          ],
          [
           "Software Development Engineer, Frustration Free Setup",
           "Amazon",
           null
          ],
          [
           "AWS Cloud Engineer",
           "HCLTech",
           null
          ],
          [
           "coordinador de ecommerce y ai",
           "GGGROUP",
           192000
          ],
          [
           "Coordinador E commerce",
           "Importante empresa del sector",
           360000
          ],
          [
           "Gerente de Canales Digitales Indispensable experiencia en ecommerce propio",
           "Importante empresa del sector",
           80000
          ],
          [
           "Telemarketing Empresa Líder de Autopartes",
           "Autopartes Importadas de Occidente sa de cv",
           120000
          ],
          [
           "Ejecutivo a Ecommerce Experiencia indispensable",
           "ManpowerGroup",
           192000
          ],
          [
           "Software Dev Engineer II - Amazon, Devices Supply Chain Technologies",
           "Servicios Comerciales Amazon Mexico S. de R.L. de C.V.",
           null
          ],
          [
           "Software Development Engineer - Amazon Devices, Devices Supply Chain Technologies",
           "Servicios Comerciales Amazon Mexico S. de R.L. de C.V.",
           null
          ],
          [
           "Software Development Engineer - Amazon Devices, DS2 (Device Software & Services)",
           "Servicios Comerciales Amazon Mexico S. de R.L. de C.V. - D44",
           null
          ],
          [
           "Software Development Engineer - Amazon Devices, Devices Supply Chain Technologies",
           "Servicios Comerciales Amazon Mexico S. de R.L. de C.V. - D44",
           null
          ],
          [
           "Gerente de operaciones Logística E commerce Experiencia 3 años",
           "NestBrands",
           288000
          ],
          [
           "Software Development Engineer, Concept to Launch",
           "Servicios Comerciales Amazon Mexico S. de R.L. de C.V.",
           null
          ],
          [
           "Software Development Manager, Devices Cost Management Systems",
           "Servicios Comerciales Amazon Mexico S. de R.L. de C.V.",
           null
          ],
          [
           "Software Development Engineer, Device Cloud Services - Device Messaging",
           "Servicios Comerciales Amazon México S. de R.L. de C.V.",
           null
          ],
          [
           "Senior EDI Engineer, Devices Software and Services",
           "Servicios Comerciales Amazon Mexico S. de R.L. de C.V.",
           null
          ],
          [
           "Software Development Manager, Devices Offline Retail Tech",
           "Servicios Comerciales Amazon Mexico S. de R.L. de C.V.",
           null
          ],
          [
           "Software Development Engineer, Frustration Free Setup",
           "Servicios Comerciales Amazon Mexico S. de R.L. de C.V.",
           null
          ],
          [
           "Software Dev Engineer II, Beta Tech",
           "Servicios Comerciales Amazon Mexico S. de R.L. de C.V.",
           null
          ],
          [
           "Software Development Engineer, Frustration Free Setup",
           "Servicios Comerciales Amazon Mexico S. de R.L. de C.V.",
           null
          ],
          [
           "Software Support Engineer, Device Support Engineering",
           "Servicios Comerciales Amazon Mexico S. de R.L. de C.V.",
           null
          ],
          [
           "Diseñador Jr. Pre prensa etiquetado",
           "NestBrands",
           180000
          ],
          [
           "Software Development Engineer, Concept to Launch",
           "Servicios Comerciales Amazon Mexico S. de R.L. de C.V. - D44",
           null
          ],
          [
           "Software Development Engineer Internship, Guadalajara",
           "Servicios Comerciales Amazon Mexico S. de R.L. de C.V. - D44",
           null
          ],
          [
           "Software Development Engineer - GDL, Guadalajara - Mexico",
           "Servicios Comerciales Amazon Mexico S. de R.L. de C.V. - D44",
           null
          ],
          [
           "Chofer Repartidor - Amazon",
           "Amazon Flex",
           null
          ],
          [
           "Repartidor para Amazon",
           "Amazon Flex",
           null
          ],
          [
           "Chofer de Auto - Amazon",
           "Amazon Flex",
           null
          ],
          [
           "Chofer de Auto - Guadalajara",
           "Amazon Flex",
           null
          ],
          [
           "Chofer de Auto con Seguro",
           "Amazon Flex",
           null
          ],
          [
           "CHOFER DE AMAZON REPARTIR PAQUETERIA",
           "PAQUETERIA Y MENSAJERIA ARCE",
           null
          ],
          [
           "CHOFER DE AMAZON REPARTIR PAQUETERIA",
           "PAQUETERIA Y MENSAJERIA ARCE",
           null
          ],
          [
           "CHOFER REPARTIDOR DE PAQUETERIA DE AMAZON",
           "PAQUETERIA Y MENSAJERIA ARCE",
           null
          ],
          [
           "CHOFER REPARTIDOR DE PAQUETERIA DE AMAZON",
           "PAQUETERIA Y MENSAJERIA ARCE",
           null
          ],
          [
           "Operador de Camión Licencia C1",
           "Grupo CarBe",
           156000
          ],
          [
           "UNETE A NUESTRO EQUIPO DE CHOFERES DE AMAZON",
           "PAQUETERIA Y MENSAJERIA ARCE",
           null
          ],
          [
           "CHOFER REPARTIDOR",
           "PAQUETERIA Y MENSAJERIA ARCE",
           null
          ],
          [
           "CHOFER REPARTIDOR DE PAQUETERIA",
           "PAQUETERIA Y MENSAJERIA ARCE",
           null
          ],
          [
           "CHOFER DE PAQUETERIA",
           "PAQUETERIA Y MENSAJERIA ARCE",
           null
          ],
          [
           "CHOFER REPARTIDOR",
           "PAQUETERIA Y MENSAJERIA ARCE",
           null
          ],
          [
           "Remote Search Analyst Mexico",
           "TELUS Digital AI Data Solutions",
           6000
          ],
          [
           "Técnico en Reparación de Computadoras",
           "Mixup",
           192000
          ],
          [
           "Atención a clientes Próxima apertura MacStore Vía Viva",
           "MacStore",
           108000
          ],
          [
           "iOS Developer",
           "Infosys",
           6000
          ],
          [
           "Sr. Fullstack Engineer",
           "Grid Dynamics International, Inc.",
           6000
          ],
          [
           "Ejecutivo de inversión home office",
           "Atila Financiera",
           null
          ],
          [
           "Community Manager 15,000 libres",
           "ASESORES DEL TALENTO MEXICANO S.C",
           180000
          ],
          [
           "Diseñadora gráfica 15,000 libres",
           "ASESORES DEL TALENTO MEXICANO S.C",
           180000
          ],
          [
           "Senior tvOS Engineer (Mexico)",
           "Think Future Technologies Pvt Ltd",
           null
          ],
          [
           "Mobile Developer (Senior/Lead) ID35532",
           "AgileEngine",
           null
          ],
          [
           "Soporte Tecnico MacStore Gran Plaza",
           "MacStore",
           null
          ],
          [
           "Community Manager 12000 libres Zapopan",
           "ASOSA PERSONAL",
           144000
          ],
          [
           "Técnico en Reparación de Computadoras",
           "Mixup",
           192000
          ],
          [
           "4552 Diseñador community Manager 140000 Zapopan, Jalisco",
           "ASOSA PERSONAL",
           240000
          ],
          [
           "(Fully Remote) Media Search Analyst",
           "TELUS Digital AI Data Solutions",
           null
          ],
          [
           "Freelance Media Search Analyst",
           "TELUS Digital AI Data Solutions",
           null
          ],
          [
           "Traffiker de redes sociales Experiencia en Meta",
           "Quintanni Comunicacion",
           null
          ],
          [
           "Promotor de ventas de telefonia Sueldo baseComisionesBonosPrestaciones",
           "PROHUMANIARRHh",
           180000
          ],
          [
           "Director Comercial Hotelería Experiencia en Hoteles de Lujo",
           "Importante empresa del sector",
           null
          ],
          [
           "Promotora ejecutivo Ventas Institucionales",
           "Instituto de Educación Superior y Desarrollo Académico",
           144000
          ],
          [
           "Asesora de ventas DE LUJO Plaza Midtown Plaza Midtown",
           "Samsonite México SA de CV",
           176400
          ],
          [
           "Asesores de venta para nuestras sucursales de Gran Plaza, Galerías Guadalajara",
           "Prada Mx",
           102000
          ],
          [
           "Asesor financier bróker comisionista",
           "TEVA RH",
           240000
          ],
          [
           "Coordinador de ventas",
           "Castalia",
           168000
          ],
          [
           "Encargado de Ventas Turno Completo",
           "DCO Distribuidora de Carnes de Occidente",
           null
          ],
          [
           "Promotora de ventas turno completo yo medio turno",
           "Building dreams",
           180000
          ],
          [
           "Ejecutivo de Colocación de tarjeta de crédito",
           "TANIA FERNANDA RIVERA RICO",
           120000
          ],
          [
           "Asesor Financiero AXA Gusto por las ventas",
           "Promotorías AXA",
           null
          ],
          [
           "asistente de ventas con experiencia",
           "NBA APPAREL",
           120000
          ],
          [
           "Atención a clientes Contratación inmediata",
           "ECLA BC COMPANY",
           108000
          ],
          [
           "Supervisor Tarjetas de Crédito",
           "Soluciones Integrales de Personal",
           120000
          ],
          [
           "Supervisora de TelefoníaContratación Inmediata y Directa Gana de 27,000 a 35,000 la mes",
           "ManpowerGroup",
           420000
          ],
          [
           "Ejecutivoa de ventas empresarial",
           "Megacable",
           115416
          ],
          [
           "Gerente de clinica",
           "Salud Digna",
           216000
          ],
          [
           "PROMOTOR BANCA PRIVADA",
           "MONEX GRUPO FINANCIERO",
           null
          ],
          [
           "Ejecutivo de Ventas Comercial",
           "Marina Robles HH",
           300000
          ],
          [
           "Asesor de ventas industriales Industria de plásticos",
           "TALINK",
           null
          ],
          [
           "Reclutador Internacional",
           "Alegro Industries",
           null
          ],
          [
           "Auxiliar Contable Experiencia mínima 1 año",
           "Lend",
           null
          ],
          [
           "Promotor de Ventas Premium 12,000 mensuales más comisionesGDL",
           "Importante empresa del sector",
           144000
          ],
          [
           "Ventas Atencion al cliente",
           "HEMODITEK",
           108000
          ],
          [
           "Coordinador comercial",
           "Tumut Tree Farm",
           8400
          ],
          [
           "Asesor de ventas Plaza independencia",
           "Grupo Autofin",
           120000
          ],
          [
           "Supervisora Importante marca de la Industria",
           "Inteligencia Avanzada AM S.A. de C.V.",
           222000
          ],
          [
           "Supervisor de farmacia Lunes a Sábado",
           "Farmacias del Ahorro",
           194388
          ],
          [
           "Líder Comercial.",
           "INOVACAPS",
           192000
          ],
          [
           "Instructo Academia",
           "Price Shoes México",
           132000
          ],
          [
           "Ejecutivo Entregas Santander",
           "ATRABAJARSANTANDER",
           null
          ],
          [
           "Asesora comercial",
           "Birlos Internacionales S.A. de C.V.",
           179988
          ],
          [
           "Asesor comercial independiente comisiones inmediatas",
           "TEVA RH",
           null
          ],
          [
           "Ejecutivo Entregas",
           "ATRABAJAR SANTANDER",
           null
          ],
          [
           "ingeniero industrial ventas inmobiliaria Industrial",
           "Merkcon",
           180000
          ],
          [
           "Vendedora turno completo",
           "TOPM GROUP LOGISTIC",
           144000
          ],
          [
           "Asesor de credito federalismo GDL Federalismo esquina Avila Camacho a un costado de la estacion del tren Avila Camacho",
           "Financiera Independencia",
           100368
          ],
          [
           "Ejecutivo Fiscal Contador fiscalista",
           "People Zone",
           360000
          ],
          [
           "Auxiliar de almacén Turnos Fijos",
           "Grupo Tenerife",
           null
          ],
          [
           "Promotor de ventas Telefonía Contratación inmediata",
           "ManpowerGroup",
           100356
          ],
          [
           "Human Resources Sr. Manager",
           "Confidential",
           null
          ],
          [
           "Sales Executive",
           "OEC Group",
           null
          ],
          [
           "Ejecutivo Comercial Ventas Sector Industrial Metalmecanico",
           "Importante empresa del sector",
           null
          ],
          [
           "Ejecutivoa de Ventas por Telefóno",
           "Enseñanza e Investigacion Superior AC",
           null
          ],
          [
           "Ejecutivo cuenta clave Ejecuivo ventas hibrido",
           "People Zone",
           204000
          ],
          [
           "Promotor de Telefonia Guadalajara y Zapopan Sueldo Base Comisiones sin tope",
           "ATT México",
           144000
          ],
          [
           "Coffee Specialist Medio Tiempo (Galerías Guadalajara)",
           "Nestlé Nespresso SA",
           null
          ],
          [
           "Gerente de ventas",
           "TEVA RH",
           144000
          ],
          [
           "Gerente Comercial Zona Bajío",
           "Importante empresa del sector",
           null
          ],
          [
           "Asesora de ventas",
           "ManpowerGroup",
           115200
          ],
          [
           "Cosmetologa con experiencia",
           "Osoyparis wellness studio",
           120000
          ],
          [
           "Ejecutivo Ecommerce ventas redes sociales",
           "People Zone",
           192000
          ],
          [
           "Promotor Crédito Autos",
           "Coppel S.A. de C.V.",
           null
          ],
          [
           "chofer vendedor",
           "Importante empresa del sector",
           127992
          ],
          [
           "Jefe de flotilla",
           "Fibrum",
           null
          ],
          [
           "Ejecutivo de cuenta clave Autoservicio Vendedor mayorista en autoservicio",
           "People Zone",
           216000
          ],
          [
           "Preventista",
           "GEPP",
           195600
          ],
          [
           "Chofer de almacén Con licencia tipo B",
           "Grupo Tenerife",
           null
          ],
          [
           "Asesor Santander Experiencia en Ventas de Seguros",
           "ATRABAJAR SANTANDER",
           null
          ],
          [
           "Chofer de Reparto paqueteria",
           "Human Experience",
           120000
          ],
          [
           "Ejecutivo de cuenta clave Ventas",
           "People Zone",
           216000
          ],
          [
           "Auxiliar administrativoa",
           "GRUPO PECUARIO ARCE",
           144000
          ],
          [
           "Promotor en zona Hermosa Provincia y alrededores",
           "SURTIDORA DEPARTAMENTAL.",
           120000
          ],
          [
           "Demovendedora",
           "Liqui Moly Mexico S.A. de C.V.",
           100368
          ],
          [
           "Supervisor Zonal Experiencia en Ventas Financieras",
           "ATRABAJAR SANTANDER",
           180000
          ],
          [
           "Channel Sales (CCTV/Seguridad Electrónica)",
           "Dahua Technology México",
           null
          ],
          [
           "Analista de reclutamiento",
           "MASTER TALENT",
           null
          ],
          [
           "Ejecutivo Comercial Pymes",
           "LOCALIZA",
           null
          ],
          [
           "Supervisor de Ventas Call Center",
           "Megacable",
           150000
          ],
          [
           "Agente de ventas",
           "VYM Asesores",
           null
          ],
          [
           "Comprador Buyer",
           "Profesionales, Asesores Corporativos GGT",
           288000
          ],
          [
           "Asesor Comercial Excelentes Comisiones",
           "Profuturo",
           180000
          ],
          [
           "Gerente de Cuenta - M. Holland",
           "Ravago Americas",
           null
          ],
          [
           "Promotora de Skin Care Guadalajara",
           "Evolucione",
           null
          ],
          [
           "Representante de ventas Zona occidente",
           "Importante empresa del sector",
           null
          ],
          [
           "Agente Comercial Inmobiliario",
           "vitecuisine",
           103200
          ],
          [
           "Gestor de cobranza",
           "Grupo Salinas",
           150000
          ],
          [
           "Feria de Empleo Ejecutivo de Crédito PDV Jalisco",
           "Citibanamex",
           152400
          ],
          [
           "Coordinador de ventas Renault Americas",
           "RH Grupo Vanguardia Automotriz",
           660000
          ],
          [
           "Gerente de Gimnasio",
           "Empleo Express",
           204000
          ],
          [
           "Ejecutivo Comercial Pyme En Zona Metropolitana de Guadalajara",
           "BANBAJIO",
           null
          ],
          [
           "GERENTE RELACIONES LABORALES",
           "Grupo Financiero Banorte",
           8400
          ],
          [
           "Gestor de Cobranza Multiplaza del Valle Tlajomulco",
           "Financiera Independencia",
           120000
          ],
          [
           "Gestor de Cobranza Domiciliaria Multiplaza Multiplaza del Valle Tlajomulco",
           "Financiera Independencia",
           120000
          ],
          [
           "Vendedor de tarjetas Belenes",
           "SURTIDORA DEPARTAMENTAL.",
           108000
          ],
          [
           "Aux. admón. Área de Cobranza Turno vespertino",
           "Vivo 47 Wellness Company",
           null
          ],
          [
           "Agencia automotriz solicita vendedor sin experiencia requerida",
           "Importante empresa del sector",
           144000
          ],
          [
           "Mesero Para rastaurante de comida y cena",
           "Leña Bruta",
           100800
          ],
          [
           "Supervisora de TelefoníaContratación Inmediata y Directa Gana de 27,000 a 35,000 la mes",
           "ManpowerGroup",
           420000
          ],
          [
           "Ejecutivo de ventas sector empresarial",
           "Radiomovil Dipsa SA de CV",
           null
          ],
          [
           "Promotor de ventas en telefonia",
           "ManpowerGroup",
           100368
          ],
          [
           "Asesora de ventas Women Secret Galerías GDL Asesora de ventas Women Secret Galerías GDL",
           "Tendam",
           96000
          ],
          [
           "Cajera vendedora Plaza del sol",
           "27 MICRAS INTERNACIONAL",
           null
          ],
          [
           "Asesor de ventas con comisiones",
           "CGS CONSULTORES",
           180000
          ],
          [
           "Asistente Administrativa Zona Agua Blanca Industrial",
           "ContaCrece S.C.",
           null
          ],
          [
           "EnfermeraCosmetologa Zapopan",
           "Europiel Laser Center",
           120000
          ],
          [
           "Id 20037 Promotor Zona Zapopan Norte Con experiencia en Autoservicio",
           "Idea Market Solutions",
           156000
          ],
          [
           "Superintendente Experiencia en terracerias",
           "MT GALVAN",
           360000
          ],
          [
           "Asesor de Interiorismo",
           "MM Talento Humano",
           null
          ],
          [
           "Abogado Litigante",
           "Despacho Jurídico DOA",
           132000
          ],
          [
           "Asesor inmobiliario Forma parte de nuestro equipo",
           "INVERSIONES Y SOLUCIONES FINANCIERAS",
           null
          ],
          [
           "Promotor de Crédito Federalismo",
           "Smart Jobs",
           100800
          ],
          [
           "Gestores de cobranza Ventas Zapopan",
           "Grupo Salinas",
           148800
          ],
          [
           "Gestor de cobranza",
           "Grupo Salinas",
           148800
          ],
          [
           "Ejecutivo Entregas Santander",
           "ATRABAJAR SANTANDER",
           null
          ],
          [
           "Asesor de credito Belenes Plaza Terraza Belenes GDL Belenes Plaza Terraza Belenes y GDL Federalismo esquina Avila Camacho",
           "Financiera Independencia",
           114768
          ],
          [
           "Vendedor a Medio tiempo La Gran Plaza",
           "SERVICIOS EN RH TEI",
           null
          ],
          [
           "Hostess recepcionista Nissan Vallarta",
           "Daosa Nissan",
           147600
          ],
          [
           "Agente de ventas telefónicas",
           "Megacable",
           null
          ],
          [
           "Gestor de cobranza en Zapopan",
           "Grupo Salinas",
           148800
          ],
          [
           "Asesor de ventas con experiencia en la industria plástica",
           "WESTEAGLE INDUSTRIES SA DE CV",
           null
          ],
          [
           "GERENTE DE ALMACÉN",
           "DB Schenker",
           null
          ],
          [
           "Asesor Educativo HH Ventas Educativas",
           "Talisis",
           108000
          ],
          [
           "Gerente sustituto",
           "Aceites, Grasas y Derivados",
           null
          ],
          [
           "Asesora de ventas Galerías Guadalajara",
           "Joyerías Bizzarro",
           144000
          ],
          [
           "Vendedora",
           "GOTH",
           100368
          ],
          [
           "Asesor Bancario Venta de Seguros",
           "Smart Solutions",
           null
          ],
          [
           "Gerente comercial",
           "Excel commercial products sa de cv",
           360000
          ],
          [
           "Gestor de cobranza",
           "Grupo Salinas",
           148800
          ],
          [
           "Asesor Ventas Institucion Bancaria",
           "Smart Solutions",
           null
          ],
          [
           "Paramédico Operador de Ambulancia",
           "SERVICIOS MEDICOS DOMICILIARIOS AMI",
           138000
          ],
          [
           "Subgerente de sucursal La perla",
           "Juguetibici",
           126000
          ],
          [
           "Asesora de Servico Agencia de Autos",
           "Agencia Automotriz",
           252000
          ],
          [
           "Ejecutivo de Ventas Interiorista",
           "CAO CAO",
           120000
          ],
          [
           "Promotor credito de nomina",
           "Grupo Financiero Banorte",
           114528
          ],
          [
           "BBR EjecutivoPromotor de Ventas de Telefonía en Walmart Vallarta 1,800 libres semanales más comisiones semanales",
           "ATT México",
           100728
          ],
          [
           "Líder de Piso Sucursal Belenes 2 Días de descanso",
           "SURTIDORA DEPARTAMENTAL.",
           120000
          ],
          [
           "Promotora Tarjeta Departamental Medio tiempo",
           "CA MEXICO S DE RL",
           84000
          ],
          [
           "Asesor de Moda Gran Plaza Gdl",
           "Ben Frank",
           126000
          ],
          [
           "Coordinador regional de mkt",
           "Cirsa Gaming Corporation",
           240000
          ],
          [
           "Supervisor de Promotores Tienda de Autoservicio",
           "Reclutando Valor",
           null
          ],
          [
           "Comisionista Automotriz Acura",
           "RH Grupo Vanguardia Automotriz",
           360000
          ],
          [
           "Optometrista Patio Patria Gdl. Optometrista Zapopan Jalisco",
           "Ben Frank",
           156000
          ],
          [
           "Cajero a Smart Store Real Center Ventas y Atencion al Cliente",
           "Teknei S.A. de C.V.",
           100440
          ],
          [
           "Promotora Tarjeta Departamental Medio tiempo",
           "CA MEXICO S DE RL",
           78000
          ],
          [
           "Gerente punto de ventas Gerente de sucursal",
           "Importante empresa del sector",
           276000
          ],
          [
           "Ejecutivo de ventas Atencion a clientes y gusto por las ventas",
           "DAVID ALEJANDRO CHAVEZ MAGAÑA",
           144000
          ],
          [
           "Coordinador de ventas Telemarketing indispensable uso CRM",
           "TALINK",
           300000
          ],
          [
           "Ingenieroa de Ventas",
           "VR Talent",
           240000
          ],
          [
           "Asesor de ventas sin experiencia plaza del sol",
           "Grupo Autofin",
           144000
          ],
          [
           "Asesor educativo Ventas Telemarketing",
           "Tecnológico de Monterrey",
           176160
          ],
          [
           "Entrenador deportivo Gimnasios Easy fit Estancia Easyfit la estancia vespertino",
           "Vivo 47 Wellness Company",
           89604
          ],
          [
           "Técnico Mecánico Tornero y Perfilador",
           "IP INDUSTRIAL",
           144000
          ],
          [
           "Vendedores Total Play",
           "Grupo Salinas",
           102000
          ],
          [
           "Community manager",
           "Centro Universitario UNE",
           120000
          ],
          [
           "Abogado gerente VC Experiencia Mercantil y civil",
           "Despacho Jurídico DOA",
           480000
          ],
          [
           "Promotora Liverpool La Gran Plaza Fashion Mall",
           "Corporativo Ivonne",
           168000
          ],
          [
           "Ejecutivo de Ventas completo",
           "Eurodento",
           120000
          ],
          [
           "Marketingventas turno completo",
           "Biofertility Center",
           180000
          ],
          [
           "Promotor de créditos Trabajo en Campo",
           "SURTIDORA DEPARTAMENTAL.",
           108000
          ],
          [
           "Reclutador Sr.",
           "SEGADI",
           null
          ],
          [
           "Asesora de ventas marcas deportivas",
           "Gio Consultores",
           100800
          ],
          [
           "Jefe de producción experiencia en industria Alimentos o Farmacéutica",
           "BARRINOLAS",
           240000
          ],
          [
           "Agente de Seguros Asesor Patrimonial",
           null,
           480000
          ],
          [
           "Labores de Promotoria Vilebrequin, Palacio de Hierro Guadalajara",
           "Vilebrequin",
           null
          ],
          [
           "Ejecutiva de ventas",
           "TECNOLOGIAS DE MINIMA INVASION",
           null
          ],
          [
           "Encargado de tienda Experiencia necesaria como encargado de tienda",
           "Motoplus",
           120000
          ],
          [
           "Promotora de relojería",
           "Aliato",
           101400
          ],
          [
           "Administrativo en el área de cobranzaT Vespertino Club deportivo VIVO47 Naciones Unidas",
           "Vivo 47 Wellness Company",
           null
          ],
          [
           "Director de Operaciones",
           "KARNE GARIBALDI",
           null
          ],
          [
           "Ejecutivo de cuenta Bancaria San Isidro",
           "Atento Servicios SA de CV",
           100800
          ],
          [
           "Profesor de Agricultura Honorarios",
           "Albergue Infantil Los Pinos",
           null
          ],
          [
           "Asesor patrimonial y de seguros independiente Seguros",
           "Brunet Asociados",
           null
          ],
          [
           "Agencia automotriz solicita vendedor sin experiencia requerida",
           "Importante empresa del sector",
           144000
          ],
          [
           "Asesor Comercial Guadalupe Guadalajara",
           "Quick Learning",
           null
          ],
          [
           "Agentes de ventas de autos plaza del sol",
           "Grupo Autofin",
           144000
          ],
          [
           "Vendedor de mostrador Turno completo",
           "STOP",
           124368
          ],
          [
           "Gerente de tienda",
           "2 box",
           156000
          ],
          [
           "Agente de ventas abarrotes y medicamento",
           "MEDIMEX",
           null
          ],
          [
           "Asesora Educativoa Ejecutivoa de Ventas",
           "Universidad del Valle de México, S.C.",
           null
          ],
          [
           "Gerente comercial Agencia de camiones",
           "Importante empresa del sector",
           null
          ],
          [
           "Promotor Comercial Con o sin Experiencia",
           "Comercializadora Macegan",
           144000
          ],
          [
           "Supervisora de TelefoníaContratación Inmediata y Directa Gana de 27,000 a 35,000 la mes",
           "ManpowerGroup",
           420000
          ],
          [
           "Directora de Planter",
           "Centro Intensivo de Certificación",
           null
          ],
          [
           "Ejecutivo comercial B2B Relaciones públicas y ventas",
           "Tecnológico de Monterrey",
           176160
          ],
          [
           "Ventas logística Con Experencia",
           "Comsi Logistics",
           null
          ],
          [
           "Subgerente Tlaquepaque centro parian",
           "Grupo ViZion",
           120000
          ],
          [
           "Lider de Cobranza en Moto centro sur",
           "RAC Mexico Operaciones S de RL de CV",
           132000
          ],
          [
           "Promotora asesor de créditos Mega Elektra Centro Sur Jalisco",
           "Smart Jobs",
           120000
          ],
          [
           "Ejecutivo de ventas empresariales Sueldo base y comisiones sin tope",
           "PMM Paqueteria y Mensajeria",
           120000
          ],
          [
           "Gerente de sucursal Guadalajara",
           "Autrotransportes Tufesa sa de cv",
           null
          ],
          [
           "Asesor de ventas Surtidora Departamental San Pedrito",
           "SURTIDORA DEPARTAMENTAL.",
           100368
          ],
          [
           "Gerente de Ventas B2B",
           "Importante empresa del sector",
           480000
          ],
          [
           "auxiliar en logistica e inventarios Experiencia en facturacion",
           "Lancero",
           null
          ],
          [
           "Ventas logística",
           "Comsi Logistics",
           null
          ],
          [
           "Demostradora",
           "DISTRIBUIDORA CIAS VIPAIGUA SA DE CV",
           105600
          ],
          [
           "Ejecutivo de ventas B2B Jalisco Toluqilla",
           "Comercial Roshfrans",
           null
          ],
          [
           "Jefe de Gestion de Almacen con experiencia en empresa comercializadora",
           "Importante empresa del sector",
           null
          ],
          [
           "Promotora En Tienda Plaza Forum",
           "CA MEXICO S DE RL",
           77400
          ],
          [
           "Vendedor Servicios Turisticos Experiencia deseable",
           "Grupo Autofin",
           null
          ],
          [
           "Promotor de ventas de telefonía Contratación inmediata",
           "ManpowerGroup",
           100368
          ],
          [
           "Chofer repartidor en moto chofer motociclista",
           "DISTRIBUIDORA DE TRACTOPARTES MEZA",
           150000
          ],
          [
           "Coordinador de cobranza",
           "DAMSA",
           null
          ],
          [
           "Chofer Repartidor",
           "DISTRIBUIDORA DE TRACTOPARTES MEZA",
           150000
          ],
          [
           "Ejecutivo de Cuentas Clave Kam",
           "Connexus",
           143976
          ],
          [
           "Asesor de ventas UVM SUR Tiempo completo",
           "Universidad del Valle de México, S.C.",
           156000
          ],
          [
           "asesor de ventas UVM D Ventas",
           "Universidad del Valle de México, S.C.",
           156000
          ],
          [
           "Campaign Manager",
           "Arrow",
           412999.5
          ],
          [
           "Campaign Manager",
           "Arrow Electronics",
           null
          ],
          [
           "Becario De Community Manager",
           "Soulflower",
           100368
          ],
          [
           "Especialista en Reclutamiento de Campo masivo",
           "Prowork",
           156000
          ],
          [
           "Cybersecurity Tooling Engineer",
           "AstraZeneca",
           6000
          ],
          [
           "Community manager con experiencia en creación de contenido",
           "Insiders Clinic",
           156000
          ],
          [
           "Mercadotecnia y Atención a Clientes Turno Matutino",
           "IMER Fertility Center",
           156000
          ],
          [
           "Community manager Con experiencia en Diseño gráfico",
           "Castalia",
           103968
          ],
          [
           "SAP PP Consultant",
           "Bosch México",
           6000
          ],
          [
           "Cybersecurity Tooling Engineer",
           "AstraZeneca",
           6000
          ],
          [
           "SAP Variant Configuration Consultant",
           "Bosch Group",
           6000
          ],
          [
           "SAP EWM Consultant",
           "Bosch Group",
           6000
          ],
          [
           "SAP MM Consultant",
           "Bosch Group",
           6000
          ],
          [
           "SAP Test manager",
           "Bosch Group",
           6000
          ],
          [
           "Analista de Mercadotecnia",
           "Almacenadora Mercader",
           156000
          ],
          [
           "Especialista en Reclutamiento de Campo",
           "Prowork",
           156000
          ],
          [
           "Únete a nuestro equipo de Ventas Educativas Nosotros te Capacitamos Proyecto de Entrenamiento Gerencial",
           "BT latina",
           144000
          ],
          [
           "Asesora de ventas digitales Hyundai Solana González Gallo",
           "Grupo Solana",
           600000
          ],
          [
           "Atención al Cliente en depto. inscripciones Oportunidad Laboral",
           "BT latina",
           144000
          ],
          [
           "Cierre de Ventas en Línea. Atención de redes Sociales Gran capacidad de conversión de mensajes en ventas",
           "Capacitación Profesional Estética en Línea",
           null
          ],
          [
           "Coordinador de Marketing Digital Mitsubishi Country",
           "MITSUBISHI",
           null
          ],
          [
           "Auxiliar de ventas en linea Auxiliar de ventas",
           "AGUIAR NOVIAS",
           100368
          ],
          [
           "Gerente parques de diversión infantil",
           "Depas en playa",
           180000
          ],
          [
           "Coordinador de Talent Acquisition Masivo",
           "Importante empresa del sector",
           300000
          ],
          [
           "Citrix Administrator",
           "Genpact",
           6000
          ],
          [
           "Asesor financiero y patrimonal Dirigida a ExBanqueros",
           "Agencia nannies",
           600000
          ],
          [
           "Social Media Manager Agencia de Marketing Digital",
           "Netcommerce",
           null
          ],
          [
           "Asesor de Ventas Digitales Inmobiliarias",
           "JAVER",
           null
          ],
          [
           "Embedded Software Engineer Senior - Software Engineer Qualcomm Platform",
           "Bosch México",
           8400
          ],
          [
           "Embedded Software Engineer Senior - Software Architect",
           "Bosch México",
           8400
          ],
          [
           "Social Media Manager con dominio de photoshop, contenido audio visual y comunicación interna",
           "Importante empresa del sector",
           180000
          ],
          [
           "SAP Consultant PP - P2F",
           "Bosch Group",
           6000
          ],
          [
           "Team Leader SAP",
           "Bosch México",
           6000
          ],
          [
           "Project Manager en Citlali Joyas",
           "Emma de Torre",
           6000
          ],
          [
           "Senior Cyber Security Engineer – Cloud Security",
           "AstraZeneca GmbH",
           6000
          ],
          [
           "Senior Cyber Security Engineer – Cloud Security",
           "AstraZeneca",
           6000
          ],
          [
           "Technical Start-Up and Delivery Director - Evinova",
           "AstraZeneca GmbH",
           6000
          ],
          [
           "Ejecutivo Comercial",
           "Amedirh TALENTO",
           null
          ],
          [
           "Ejecutivo Comercial Guadalajara",
           "Amedirh TALENTO",
           null
          ],
          [
           "Community Manager (Guadalajara)",
           "Grupo Stt",
           null
          ],
          [
           "Key Account Manager -CHIHUAHUA",
           "Procter & Gamble",
           null
          ],
          [
           "Cocinero Profesional para Creación de Contenidos en Redes Sociales",
           "Unemplojorempleo",
           null
          ],
          [
           "Senior Data Engineer",
           "AstraZeneca",
           null
          ],
          [
           "Platform Integration Engineer",
           "AstraZeneca",
           null
          ],
          [
           "DevOps Test Engineer for EDC",
           "AstraZeneca",
           null
          ],
          [
           "SAP MDG Solution Architect",
           "AstraZeneca",
           null
          ],
          [
           "Consultor de Ventas Oncologa (Guadalajara)",
           "AbbVie",
           null
          ],
          [
           "SDET Senior (SEI) IRC264046",
           "GlobalLogic",
           6000
          ],
          [
           "Account Coordinator, Remote",
           "Bluelight Consulting",
           null
          ],
          [
           "Talent Acquisition Operations Specialist",
           "Diligent Corporation",
           null
          ],
          [
           "Contract Administrator",
           "Diligent Corporation",
           null
          ],
          [
           "Talent Acquisition Specialist",
           "Diligent Corporation",
           null
          ],
          [
           "Customer Success Program Manager",
           "Diligent Corporation",
           null
          ],
          [
           "IAG Research Analyst",
           "Diligent Corporation",
           null
          ],
          [
           "Ingeniero de Empaque Recién Egresado Sin Experiencia López Mateos Sur, Zapopan",
           "A F OPERADORA DE NEGOCIOS",
           180000
          ],
          [
           "Accountant Analyst",
           "Genpact",
           null
          ],
          [
           "Auxiliar de Marketing Marketing y estrategias digitales",
           null,
           null
          ],
          [
           "Accounts Payable Assistant",
           "Genpact",
           null
          ],
          [
           "Especialista en Reclutamiento de Campo",
           "Prowork",
           156000
          ],
          [
           "Community manager con experiencia",
           "cb4u s.a de c.v",
           168000
          ],
          [
           "Community Manager Amerike GDL",
           "Grupo Procorp",
           156000
          ],
          [
           "Diseñador de Arte Digital para Agencia de Marketing Digital",
           "Caragu",
           156000
          ],
          [
           "auxiliar de sistemas Zapopan",
           "Grupo Ypenza de México",
           null
          ],
          [
           "Técnico de Automatización con Conocimiento Básico en PLC, HMI y Scada Con Experiencia López Mateos Sur, Zapopan",
           "A F OPERADORA DE NEGOCIOS",
           228000
          ],
          [
           "Process developer - Customer Care",
           "Genpact",
           null
          ],
          [
           "Asociado de proceso - Auxiliar Contable - Zapopan, Jal.",
           "Genpact",
           null
          ],
          [
           "Management trainee - Accounts Payable Analyst",
           "Genpact",
           null
          ],
          [
           "Desarrollador de procesos - Cuentas por pagar",
           "Genpact",
           null
          ],
          [
           "Desarrollador de Procesos - Auxiliar Contable en Cuentas por Pagar, Generalista",
           "Genpact",
           null
          ],
          [
           "Process Developer, Accounting Assistant AP",
           "Genpact",
           null
          ],
          [
           "Desarrollador de Procesos-Auxiliar Contable RTR",
           "Genpact",
           null
          ],
          [
           "Auxiliar de procesos- Cuentas por Pagar",
           "Genpact",
           null
          ],
          [
           "Desarrollador de Procesos - Auxiliar Contable, Generalista",
           "Genpact",
           null
          ],
          [
           "Process Developer - Accounts Payable",
           "Genpact",
           null
          ],
          [
           "Process Associate - Accounts Payable",
           "Genpact",
           null
          ],
          [
           "Analista en Cuentas por Cobrar",
           "Genpact",
           null
          ],
          [
           "IT Tech Support L1 - 5A Process Associate",
           "Genpact",
           null
          ],
          [
           "Desarrollador de procesos - Auxiliar en pedidos y cadena de suministro.",
           "Genpact",
           null
          ],
          [
           "Desarrollador de procesos - Auxiliar en gestión cadena de suministro.",
           "Genpact",
           null
          ],
          [
           "Coordinadora Talent Acquisition Masivo",
           "Prowork",
           240000
          ],
          [
           "Coordinador Sr. de Atracción de Talento",
           "Prowork",
           360000
          ],
          [
           "Desarrollador Salesforce",
           "Stefanini LATAM",
           null
          ],
          [
           "Senior Salesforce Developer",
           "InfoVision Inc.",
           null
          ],
          [
           "Senior Salesforce Developer",
           "Endava Limited",
           6000
          ],
          [
           "Salesforce Integration Developer",
           "Endava",
           6000
          ],
          [
           "Senior Salesforce Development Engineer",
           "Zillow",
           null
          ],
          [
           "Salesforce Developer",
           "Kryptos Technologies limited",
           6000
          ],
          [
           "Salesforce Developer",
           "Jabil Circuit",
           6000
          ],
          [
           "Salesforce Developer",
           "Kryptos Technologies UK Limited",
           6000
          ],
          [
           "Salesforce Developer",
           "Jabil",
           6000
          ],
          [
           "Senior Salesforce Developer",
           "Talavera Solutions",
           6000
          ],
          [
           "Salesforce Solution Architect",
           "Ottimate",
           6000
          ],
          [
           "Senior Salesforce Developer",
           "Nexaminds",
           6000
          ],
          [
           "Senior Salesforce Developer",
           "InfoVision Inc.",
           6000
          ],
          [
           "Sr Salesforce Developer",
           "CargoSprint LLC",
           6000
          ],
          [
           "Senior Salesforce Developer",
           "Endava",
           6000
          ],
          [
           "Salesforce Team Lead",
           "Jade Global",
           6000
          ],
          [
           "Salesforce Scrum Master (Remote)",
           "DX Foundation",
           6000
          ],
          [
           "Senior/Staff Salesforce engineer Mexico",
           "Zoolatech",
           6000
          ],
          [
           "Acceleration Center - AES - Salesforce Developer - Analyst",
           "PwC México",
           6000
          ],
          [
           "Acceleration Center - AES - Salesforce Developer - Analyst",
           "PricewaterhouseCoopers International",
           6000
          ],
          [
           "Inside sales manager",
           "Omron Automation",
           null
          ],
          [
           "Billing & Collections",
           "Q4",
           6000
          ],
          [
           "Remote SAP Security consultant",
           "Applicable Limited",
           6000
          ],
          [
           "SAP CAA",
           "HCLTech",
           null
          ],
          [
           "Key Account Executive",
           "Empresa Confidencial",
           6000
          ],
          [
           "Sales Executive Digital Industries",
           "Siemens Mobility",
           6000
          ],
          [
           "Blueserv Services Consultant",
           "Mcwork",
           360000
          ],
          [
           "Senior Salesforce Developer",
           "Endava",
           null
          ],
          [
           "Técnico de Campo Casino",
           "EURO GAMES TECHNOLOGY MÉXICO",
           null
          ],
          [
           "Senior Sales Operations Specialist",
           "Radian Generation LLC",
           6000
          ],
          [
           "Scaled Customer Success Manager",
           "Salesloft",
           6000
          ],
          [
           "Negociadora de expansión Con experiencia en ventas",
           "ManpowerGroup",
           300000
          ],
          [
           "BI Test Engineer",
           "KMS Technology",
           6000
          ],
          [
           "Marketing generación de demanda",
           "Compucloud",
           null
          ],
          [
           "Data Analyst",
           "Elanco Tiergesundheit AG",
           6000
          ],
          [
           "Asesor comercial",
           "INDICE JOB",
           300000
          ],
          [
           "Gerente de Cuentas Clave Guadalajara",
           "Pochteca",
           8400
          ],
          [
           "Representative, Omnichannel Bilingual",
           "Herbalife International, Inc.",
           6000
          ],
          [
           "Salesforce Marketing Cloud Support Engineer Jr.",
           "Xideral",
           null
          ],
          [
           "Blueserv Service Technician",
           "Mcwork",
           360000
          ],
          [
           "Gerente Regional OCCIDENTE",
           "Grupo Pochteca",
           15000
          ],
          [
           "Customer Success Manager, Enterprise - Guadalajara, MX New Mexico - Remote",
           "Motive",
           6000
          ],
          [
           "Sales Director IT",
           "Robert Walters",
           8400
          ],
          [
           "Enterprise Customer Success Manager",
           "Canonical",
           6000
          ],
          [
           "Senior DevOps Engineer",
           "Neostella",
           6000
          ],
          [
           "Enterprise Customer Success Manager",
           "Canonical",
           6000
          ],
          [
           "BI Test Engineer",
           "KMS Technology, Inc.",
           6000
          ],
          [
           "Sales Executive Digital Industries",
           "Siemens",
           6000
          ],
          [
           "QA Engineer",
           "Neostella",
           6000
          ],
          [
           "Remote SAP Security consultant",
           "NTT DATA North America",
           null
          ],
          [
           "Booking Specialist",
           "Nextiva",
           6000
          ],
          [
           "Customer Success Manager (Remote, based in Mexico)",
           "Visit.org, Inc.",
           6000
          ],
          [
           "Social Security Analyst/Tax Analyst",
           "Brown-Forman",
           null
          ],
          [
           "Data Analyst",
           "IIBA",
           6000
          ],
          [
           "Senior Sales Operations Analyst - English Speaking",
           "Cognex Corporation",
           null
          ],
          [
           "Customer Support Associate",
           "Specright Inc.",
           null
          ],
          [
           "Senior Business Systems Analyst",
           "Brown-Forman",
           null
          ],
          [
           "KAM b2b",
           "Dentegra",
           null
          ],
          [
           "Android Developer",
           "Vimerse InfoTech",
           1080000
          ],
          [
           "Senior Sales Development Representative",
           "Misys International Banking Systems Mexico De Cv",
           null
          ],
          [
           "Senior Sales Development Representative",
           "Misys International Banking Systems Mexico De Cv",
           null
          ],
          [
           "Generator Service Sales Representative",
           "W.W. Williams Company",
           null
          ],
          [
           "Shopify Support Developer (Junior/Middle) ID32267",
           "AgileEngine",
           null
          ],
          [
           "Shopify Support Developer (Junior) ID33280",
           "AgileEngine",
           null
          ],
          [
           "Infor M3 MFG consultant",
           "Vimerse InfoTech",
           1200000
          ],
          [
           "Representante de ventas de servicio de generador",
           "W.W. Williams Company",
           null
          ],
          [
           "Global Master Data Management Analyst-U.S.",
           "Brown-Forman",
           null
          ],
          [
           "Partner Support Specialist",
           "Truveta",
           null
          ],
          [
           "GBS Invoice to Pay Lead",
           "Brown-Forman",
           null
          ],
          [
           "Customer Success Manager (Remote, based in Mexico)",
           "Visit.org",
           null
          ],
          [
           "Web Developer",
           "Varicent",
           null
          ],
          [
           "Key Account Manager",
           "Redarbor",
           null
          ],
          [
           "Shopify Support Developer (Junior) ID33280",
           "AgileEngine",
           null
          ],
          [
           "Coordinador CRM",
           "Importante empresa del sector",
           null
          ],
          [
           "Ejecutivo Comercial 3 pl",
           "Adecco",
           null
          ],
          [
           "Senior Java Software Engineer",
           "HCLTech",
           null
          ],
          [
           "Software Engineer",
           "SPAN Digital Innovation",
           6000
          ],
          [
           "Sr. Software Engineer -Mobile robots",
           "Omron Automation",
           null
          ],
          [
           "Principal Software Engineer (Search Engine)",
           "O'Reilly Autopartes México",
           null
          ],
          [
           "Principal Software Engineer - Digital Commerce",
           "O'Reilly Autopartes México",
           null
          ],
          [
           "Staff Software Engineer Python/Django",
           "Western Governors University",
           null
          ],
          [
           "Staff Software Engineer - (Python/Django)",
           "Western Governors University",
           null
          ],
          [
           "Software Engineer - OpenStack",
           "Canonical",
           6000
          ],
          [
           "JAVA Software Engineer",
           "MMC Group",
           6000
          ],
          [
           "Java Software Engineer",
           "GovOS",
           6000
          ],
          [
           "Sr Software Engineer",
           "Avature",
           6000
          ],
          [
           "Senior Software Engineer",
           "Yotepresto",
           8400
          ],
          [
           "Senior Software Engineer",
           "Michael Page International México Reclutamiento Especializado S.A. de C.V",
           8400
          ],
          [
           "Software Engineer, iOS - Mexico",
           "Zillow",
           null
          ],
          [
           "Ubuntu Core Software Engineer",
           "Canonical",
           6000
          ],
          [
           "Senior Backend Software Engineer",
           "KMS Technology",
           6000
          ],
          [
           "Software Engineer, Payroll Compliance",
           "Paylocity",
           6000
          ],
          [
           "Senior Fullstack Software Engineer",
           "KMS Technology",
           6000
          ],
          [
           "Senior Software Engineer, Big Data",
           "Zillow",
           null
          ],
          [
           "Senior Software Engineer, Full-Stack",
           "C3 AI",
           6000
          ],
          [
           "Senior Software Engineer - Fountain Hire",
           "Fountain",
           8400
          ],
          [
           "Software Engineer, Ceph & Distributed Storage",
           "Canonical",
           6000
          ],
          [
           "Embedded Software Engineer Senior - Audio",
           "Robert Bosch Group",
           6000
          ],
          [
           "Software Engineer, Ruby on Rails",
           "Portside",
           6000
          ],
          [
           "Senior Software Engineer (C#/.net)",
           "Nexaminds",
           6000
          ],
          [
           "Software Engineer - Python and K8s",
           "Canonical",
           6000
          ],
          [
           "Sr. Software Engineer -Mobile robots",
           "Omron Automation",
           6000
          ],
          [
           "Software Engineer - Python and K8s",
           "Canonical",
           6000
          ],
          [
           "Principal Software Engineer - Digital Commerce",
           "O'Reilly Autopartes México",
           6000
          ],
          [
           "Senior Software Engineer - Remote, Mexico",
           "Paylocity",
           8400
          ],
          [
           "Software Engineer - Fully Remote - Mexico Only",
           "Scalepex",
           6000
          ],
          [
           "Senior Software Engineer JavaScript/TypeScript React",
           "Western Governors University",
           6000
          ],
          [
           "Software Development Engineer",
           "Zillow",
           null
          ],
          [
           "Software Developer Engineer",
           "Conceivable Life Sciences",
           6000
          ],
          [
           "Software Engineer",
           "Fountain",
           6000
          ],
          [
           "Software Engineer",
           "NUVIT Innovation & Technology",
           6000
          ],
          [
           "Open Source Networking Software Engineer - ToR Switch / SmartNIC / DPU",
           "Canonical",
           6000
          ],
          [
           "Senior Software Engineer",
           "TLNT & Spin Hire",
           8400
          ],
          [
           "HPC Software Engineer",
           "Canonical",
           6000
          ],
          [
           "HPC Software Engineer",
           "Canonical",
           6000
          ],
          [
           "Java Software Engineer",
           "HCLTech",
           6000
          ],
          [
           "Automation Software Engineer",
           "flex",
           6000
          ],
          [
           "Software Engineer (.Net )",
           "Q4",
           6000
          ],
          [
           "Scala Software Engineer",
           "GovOS",
           6000
          ],
          [
           "Graduate Software Engineer",
           "Amdocs",
           6000
          ],
          [
           "Software Engineer III",
           "Thermo Fisher Scientific",
           6000
          ],
          [
           "Senior Software Development Engineer, Platform",
           "Zillow",
           null
          ],
          [
           "Software Development Engineer,Big Data",
           "Zillow",
           null
          ],
          [
           "Senior Software Development Engineer - Observability",
           "Zillow",
           null
          ],
          [
           "Senior Software Development Engineer, Android",
           "Zillow",
           null
          ],
          [
           "Field Service Software Engineer",
           "Panasonic de Mexico, S.A. de C.V.",
           6000
          ],
          [
           "Senior Software Engineer - MAAS",
           "Canonical",
           8400
          ],
          [
           "Senior Software Engineer - MAAS",
           "Canonical",
           8400
          ],
          [
           "Staff Software Engineer, Payroll",
           "Paylocity",
           6000
          ],
          [
           "Software Engineer - App Stores",
           "Canonical",
           6000
          ],
          [
           "Ubuntu Core Software Engineer",
           "Canonical",
           6000
          ],
          [
           "Software Engineer - Solutions Engineering",
           "Canonical",
           6000
          ],
          [
           "Software Engineer ELK - Remote",
           "UST",
           6000
          ],
          [
           "Sr Software Engineer - SRE",
           "Insulet",
           6000
          ],
          [
           "Software Engineer in Test",
           "GlobalLogic Latinoamérica",
           6000
          ],
          [
           "Senior Software Development Engineer I",
           "Travelport",
           6000
          ],
          [
           "Sr. Software Development Engineer, Platform (Golang)",
           "Zillow",
           null
          ],
          [
           "Principal Backend Software Development Engineer - Mexico",
           "Zillow",
           null
          ],
          [
           "Senior Backend Software Development Engineer - Mexico",
           "Zillow",
           null
          ],
          [
           "Senior Software Development Engineer, Big Data",
           "Zillow",
           null
          ],
          [
           "Full Stack Software Development Engineer - Mexico",
           "Zillow",
           null
          ],
          [
           "Senior Software Development Engineer, Big Data",
           "Zillow",
           null
          ],
          [
           "Senior Software Development Engineer, Big Data",
           "Zillow",
           null
          ],
          [
           "Senior Software Development Engineer - Big Data",
           "Zillow",
           null
          ],
          [
           "Senior Software Development Engineer, Big Data",
           "Zillow",
           null
          ],
          [
           "Linux devices software engineer - snapd",
           "Canonical",
           6000
          ],
          [
           "Senior Software Engineer - Digital Workplace",
           "Canonical",
           8400
          ],
          [
           "Senior Golang Software Engineer, Mexico",
           "SailPoint",
           6000
          ],
          [
           "Mid Software Engineer (C#/.Net)",
           "Nexaminds",
           6000
          ],
          [
           "Linux devices software engineer - snapd",
           "Canonical",
           6000
          ],
          [
           "Senior Staff Embedded Software Engineer",
           "Plexus",
           6000
          ],
          [
           "Software Engineer, Back-end (Java)",
           "Pcgs",
           6000
          ],
          [
           "Senior Software Engineer - JavaScript/React",
           "Western Governors University",
           6000
          ],
          [
           "Fullstack Software Engineer (Remote - Mexico Only)",
           "Varicent",
           6000
          ],
          [
           "Golang System Software Engineer - Containers / Virtualisation",
           "Canonical",
           6000
          ],
          [
           "Fullstack Software Engineer (Remote - Mexico Only)",
           "Varicent Corporation",
           6000
          ],
          [
           "Software Engineer (On-Site - Guadalajara Based)",
           "Age of Learning",
           6000
          ],
          [
           "Senior Software Engineer",
           "Oracle",
           null
          ],
          [
           "Senior Software Engineer",
           "Oracle",
           null
          ],
          [
           "Graduate Software Engineer",
           "Oracle",
           null
          ],
          [
           "Graduate Software Engineer - IC2",
           "Oracle",
           null
          ],
          [
           "Intern Software Engineer-(Java/C/C#)",
           "Oracle",
           null
          ],
          [
           "Intern Software Engineer - VACANTE AFIRMATIVA PARA MUJERES",
           "Oracle",
           null
          ],
          [
           "Software Engineer (Principal/Senior/Technical Staff Member) – Database Migration Services (DMS)",
           "Oracle",
           null
          ],
          [
           "Full Stack Engineer (Senior/Lead) ID36664",
           "AgileEngine",
           null
          ],
          [
           "Senior Fullstack Developer - Python/Flask  React - Remote, Latin America",
           "Bluelight Consulting",
           null
          ],
          [
           "Security Point of Contact (SPOC)",
           "Oracle",
           null
          ],
          [
           "Security Point of Contact (SPOC)",
           "Oracle",
           null
          ],
          [
           "Data Scientist",
           "Zillow",
           null
          ],
          [
           "Data Scientist",
           "Astra Solutions Inc.",
           6000
          ],
          [
           "Data Scientist",
           "Cognizant",
           6000
          ],
          [
           "Data Scientist",
           "Wizeline",
           6000
          ],
          [
           "Remote Data Scientist",
           "NTT DATA, Inc.",
           6000
          ],
          [
           "Business Data Scientist",
           "Kinaxis",
           6000
          ],
          [
           "Data Scientist (Guadalajara, MX)",
           "MezTal",
           6000
          ],
          [
           "Data Scientist Senior - Remote | REF179053",
           "BairesDev",
           6000
          ],
          [
           "Data Scientist - R01549139",
           "Brillio",
           null
          ],
          [
           "Remote Data Scientist",
           "NTT America, Inc.",
           null
          ],
          [
           "Senior Data Scientist",
           "Misys International Banking Systems Mexico De Cv",
           null
          ],
          [
           "Senior Machine Learning & LLM Engineer - Remote Work | REF281828",
           "BairesDev",
           6000
          ],
          [
           "Data Analyst | CyberSecurity",
           "Avertium",
           null
          ],
          [
           "Senior Data Engineer",
           "StartupGDL",
           null
          ],
          [
           "Machine Learning Engineer - Remote",
           "Capgemini",
           8400
          ],
          [
           "Machine Learning Engineer (Remoto en Mexico)",
           "Capgemini",
           8400
          ],
          [
           "Machine Learning Engineer (Remote)",
           "Blue Orange Digital",
           8400
          ],
          [
           "Senior Machine Learning Developer |LATAM| - Remote Work | REF152552",
           "BairesDev",
           6000
          ],
          [
           "Senior Machine Learning Developer |LATAM| - Remote Work | REF152547",
           "BairesDev",
           6000
          ],
          [
           "Senior AWS Cloud AI Engineer",
           "Robert Bosch Group",
           6000
          ],
          [
           "Senior AI Engineer",
           "Wizeline",
           6000
          ],
          [
           "Senior Software Development Engineer, Databricks and AI Platform",
           "Zillow",
           null
          ],
          [
           "Data Engineer [AI & Data]",
           "HeyDonto",
           6000
          ],
          [
           "Senior Data Engineer",
           "Programming.com",
           null
          ],
          [
           "Full Stack Engineer",
           "Suplari, Inc.",
           null
          ],
          [
           "Applications Engineering, Engineer",
           "Synopsys, Inc.",
           6000
          ],
          [
           "AI Training for Business to Business Digital Domain",
           "Outlier",
           6000
          ],
          [
           "AI Engineer",
           "WIZELINE",
           6000
          ],
          [
           "IT Services Manager/Lead Systems Engineer",
           "STAND 8 Technology Consulting",
           null
          ],
          [
           "Full Stack Engineer",
           "Suplari, Inc.",
           6000
          ],
          [
           "Senior R Shiny Developer (LATAM - Remote)",
           "Scale Up Recruiting Partners",
           6000
          ],
          [
           "AI Engineer (Lead) ID34949",
           "AgileEngine",
           6000
          ],
          [
           "Cloud Engineer",
           "Mechanized AI",
           6000
          ],
          [
           "- AI Experts – Join Exclusive Opportunities",
           "Scale Up Recruiting Partners",
           6000
          ],
          [
           "AI Training for Robotics",
           "Outlier",
           6000
          ],
          [
           "Verification Application Engineer, Principal",
           "Synopsys, Inc.",
           6000
          ],
          [
           "AI/ML Engineer",
           "NTT DATA",
           6000
          ],
          [
           "Cybersecurity Automation Engineer Lead",
           "FICO",
           6000
          ],
          [
           "AI Training for Business to Consumer Digital Domain",
           "Outlier",
           6000
          ],
          [
           "Senior Angular Developer / RD - Remote Work | REF281453",
           "BairesDev",
           6000
          ],
          [
           "Data Analyst (GUADALAJARA)",
           "Slalom Build",
           6000
          ],
          [
           "AI/ML Engineer",
           "NTT DATA North America",
           6000
          ],
          [
           "Python and Kubernetes Software Engineer - Data, Workflows, AI/ML & Analytics",
           "Canonical",
           6000
          ],
          [
           "Software Engineering- Lead Engineer",
           "FICO",
           6000
          ],
          [
           "Trabajo Desde Casa Desarrollador Backend .NET Investigación y Desarrollo Ref. 0001",
           "BairesDev LLC",
           null
          ],
          [
           "Product Manager / RD - Remote Work | REF179294",
           "BairesDev",
           6000
          ],
          [
           "AI Engineer (Lead) ID34949",
           "AgileEngine",
           6000
          ],
          [
           "AI Engineer (Senior) ID34931",
           "AgileEngine",
           6000
          ],
          [
           "Work From Home Software Development Engineer in Test Tech Lead RD Ref. 0686E RD",
           "BairesDev LLC",
           null
          ],
          [
           "Director, Next-Generation Sequencing for Biologics Engineering",
           "AstraZeneca GmbH",
           8400
          ],
          [
           "AI Engineer",
           "Mechanized AI Inc.",
           6000
          ],
          [
           "AI/ML Engineer",
           "Applicable Limited",
           6000
          ],
          [
           "Comprador Digital Agencia de Viajes",
           "Logística, Viajes y Bodas SA de CV",
           228000
          ],
          [
           "Senior Software Development Engineer, Big Data - Mexico",
           "Zillow",
           null
          ],
          [
           "IT Services Manager/Lead Systems Engineer",
           "STAND 8 Technology Consulting",
           6000
          ],
          [
           "Senior Physical Design Engineer",
           "Synopsys Inc",
           8400
          ],
          [
           "AI/ML Engineer",
           "NTT DATA, Inc.",
           6000
          ],
          [
           "Senior Consultant Process Mining",
           "Roboyo Group",
           6000
          ],
          [
           "Artificial Intelligence (AI) Solutions Architect",
           "Lenovo",
           8400
          ],
          [
           "Artificial Intelligence (AI) Solutions Architect",
           "Avature",
           8400
          ],
          [
           "Senior AWS Cloud AI Engineer",
           "Bosch Group",
           null
          ],
          [
           "Delivery Management – Release Train Engineer",
           "FICO",
           6000
          ],
          [
           "CCS DevOps - Engineer II",
           "FICO",
           6000
          ],
          [
           "Senior Java Developer - Lead Engineer",
           "FICO",
           6000
          ],
          [
           "Systems Integration Specialist Advisor",
           "NTT America, Inc.",
           null
          ],
          [
           "Senior Software Engineer",
           "TLNT & Spin Hire",
           null
          ],
          [
           "Applications Engineering, Sr Staff Engineer",
           "Synopsys, Inc.",
           6000
          ],
          [
           "Senior SOC Design Verification Engineer",
           "Synopsys, Inc.",
           6000
          ],
          [
           "Design Verification Engineer, Senior Staff",
           "Synopsys, Inc.",
           6000
          ],
          [
           "AI Engineer (Senior) ID34931",
           "AgileEngine",
           null
          ],
          [
           "AI Engineer (Lead) ID34949",
           "AgileEngine",
           null
          ],
          [
           "Software Development Advisor",
           "NTT America, Inc.",
           null
          ],
          [
           "Business Recruiter (US Based Start-Up)",
           "Traba",
           null
          ],
          [
           "AI/ML Engineer",
           "NTT America, Inc.",
           null
          ],
          [
           "CCS DevOps - Engineer II",
           "FICO",
           null
          ],
          [
           "Cybersecurity Automation Engineer Lead",
           "FICO",
           null
          ],
          [
           "Auxiliar Controller Data Analyst",
           "BBVA",
           300000
          ],
          [
           "AI Engineer (Senior) ID34931",
           "AgileEngine",
           null
          ],
          [
           "AI Engineer (Lead) ID34949",
           "AgileEngine",
           null
          ],
          [
           "Software Developer",
           "Oracle",
           null
          ],
          [
           "Database Admin Specialist Advisor",
           "Applicable Limited",
           6000
          ],
          [
           "Full Stack Lead",
           "NTT DATA, Inc.",
           6000
          ],
          [
           "Applied Mathematician",
           "Outlier",
           6000
          ],
          [
           "Applied Mathematician - Ukrainian",
           "Outlier",
           6000
          ],
          [
           "Applied Mathematician - Indonesian",
           "Outlier",
           6000
          ],
          [
           "Advance Packaging Technology Development Engineer",
           "Micron Technology, Inc",
           6000
          ],
          [
           "Windows and Virtualization Engineer",
           "Micron Technology, Inc",
           6000
          ],
          [
           "DevOps Engineer (Azure  Terraform)",
           "Nexaminds",
           6000
          ],
          [
           "Research Professor - Institute for Advanced Science and Sustainable Manufacturing (IAMSM) (180965)",
           "Why Join Us?",
           6000
          ],
          [
           "Medical Expert",
           "Outlier",
           6000
          ],
          [
           "Software Quality Assurance Specialist",
           "NTT Data",
           6000
          ],
          [
           "Database Admin Specialist Advisor",
           "NTT DATA",
           6000
          ],
          [
           "Software Development Specialist",
           "Applicable Limited",
           6000
          ],
          [
           "Applications Engineering, Senior Engineer",
           "Synopsys, Inc.",
           6000
          ],
          [
           "Automation Engineer",
           "NTT DATA, Inc.",
           6000
          ],
          [
           "Data Science Expert",
           "Outlier",
           6000
          ],
          [
           "Software Development Advisor",
           "NTT DATA, Inc.",
           6000
          ],
          [
           "Quality Analysis Engineer",
           "Nexaminds",
           6000
          ],
          [
           "Full Stack Lead",
           "NTT DATA",
           6000
          ],
          [
           "Research Professor - Institute for Advanced Science and Sustainable Manufacturing (IAMSM) (180965)",
           "Tecnológico de Monterrey",
           6000
          ],
          [
           "Network Director - Cisco Routing & Switching",
           "NTT Data",
           8400
          ],
          [
           "Repair Operations Engineer",
           "Awake Security",
           6000
          ],
          [
           "Software Quality Assurance Specialist Advisor",
           "NTT DATA",
           6000
          ],
          [
           "Product Owner (Web Technology)",
           "NXP Semiconductors",
           6000
          ],
          [
           "Network Director - Cisco Routing & Switching",
           "NTT DATA, Inc.",
           8400
          ],
          [
           "Network Director - Cisco Routing & Switching",
           "Applicable Limited",
           8400
          ],
          [
           "Advance Packaging Technology Development Engineer",
           "Micron Technology, Inc",
           6000
          ],
          [
           "Information Security Specialist Advisor",
           "NTT DATA, Inc.",
           6000
          ],
          [
           "Senior Manager, Financial Accounting (Account Payable)",
           "Micron Memory Malaysia Sdn Bhd",
           6000
          ],
          [
           "Software Engineering QA/Test Automation Interoperability Professional GUADALAJARA, MX",
           "Avature",
           6000
          ],
          [
           "Manufacturing Test Engineer",
           "Avature",
           6000
          ],
          [
           "UX Designer",
           "Avature",
           6000
          ],
          [
           "Software Development Specialist Advisor",
           "NTT DATA North America",
           6000
          ],
          [
           "Singapore TD (Technology Development) Facilities Coordinator Principal Engineer",
           "Micron Memory Malaysia Sdn Bhd",
           6000
          ],
          [
           "Software Engineering Software Test Engineer - Storage GUADALAJARA, MX",
           "Avature",
           6000
          ],
          [
           "UX/UI Designer (Mid Level)",
           "Avature",
           6000
          ],
          [
           "UX Designer Mid",
           "Avature",
           6000
          ],
          [
           "Software Development Specialist",
           "NTT DATA, Inc.",
           6000
          ],
          [
           "Infrastructure & Technology App Developer AWS Cloud Full Stack Professional GUADALAJARA, MX",
           "Avature",
           6000
          ],
          [
           "Software Engineer III",
           "ThermoFisher Scientific",
           null
          ],
          [
           "Software Quality Assurance Specialist",
           "NTT DATA North America",
           null
          ],
          [
           "Automation Engineer",
           "NTT DATA North America",
           null
          ],
          [
           "Fuctional Tester",
           "NTT DATA North America",
           null
          ],
          [
           "Software Development Advisor",
           "NTT America, Inc.",
           null
          ],
          [
           "Software Engineer III",
           "ThermoFisher Scientific",
           null
          ],
          [
           "Database Administration(SQL DBA)",
           "NTT America, Inc.",
           null
          ],
          [
           "Software Quality Assurance Advisor",
           "NTT DATA North America",
           null
          ],
          [
           "Principal Program Manager",
           "Oracle",
           null
          ],
          [
           "Principal Program Manager",
           "Oracle",
           null
          ],
          [
           "Cloud DevOps Engineer",
           "Cognizant",
           6000
          ],
          [
           "Senior Cloud Network Engineer",
           "Zillow",
           null
          ],
          [
           "AWS Cloud Engineer",
           "Slalom",
           6000
          ],
          [
           "Sr. System Engineer (Cloud)",
           "O'Reilly Autopartes México",
           null
          ],
          [
           "Linux and Private Cloud Engineer",
           "Micron Technology, Inc",
           6000
          ],
          [
           "Cloud Solutions Engineer",
           "AstraZeneca GmbH",
           6000
          ],
          [
           "Sr. Information Security Engineer (Cloud)",
           "O'Reilly Autopartes México",
           6000
          ],
          [
           "Senior Cloud Platform Engineer",
           "AstraZeneca",
           6000
          ],
          [
           "Python Engineer [Synchronizer-Cloud]",
           "HeyDonto AI API",
           6000
          ],
          [
           "Cloud Operations Engineer II - Active",
           "Varicent",
           6000
          ],
          [
           "Senior AWS Cloud AI Engineer",
           "Bosch Group",
           6000
          ],
          [
           "Senior DevOps Engineer (AWS)",
           "Deloitte",
           null
          ],
          [
           "Cloud Engineer (Remote, Mexico)",
           "Nova",
           null
          ],
          [
           "Senior Cloud Platform Engineer",
           "AstraZeneca",
           null
          ],
          [
           "Senior Cloud Solutions Engineer",
           "AstraZeneca",
           null
          ],
          [
           "Senior Cloud Platform Engineer",
           "AstraZeneca",
           null
          ],
          [
           "Cloud Security and Compliance and Governance Architect",
           "Capgemini",
           6000
          ],
          [
           "DevOps Engineer (Contract to Hire)",
           "CargoSprint",
           6000
          ],
          [
           "DevOps (English Requerid)",
           "DaCodes.",
           6000
          ],
          [
           "Data Engineer",
           "TLNT & Spin Hire",
           null
          ],
          [
           "Cloud Services Engineer",
           "Oracle",
           null
          ],
          [
           "Cloud Services Engineer",
           "Oracle",
           null
          ],
          [
           "Cloud Services Engineer",
           "Oracle",
           null
          ],
          [
           "DevOps Engineer",
           "Oracle",
           null
          ],
          [
           "DevOps Engineer",
           "Oracle",
           null
          ],
          [
           "DevOps Engineer",
           "Brillio",
           null
          ],
          [
           "AWS Cloud DevOps",
           "Luxoft",
           null
          ],
          [
           "DevOps AWS",
           "Capital Empresarial Horizonte",
           6000
          ],
          [
           "DevOps Engineer",
           "Brillio",
           6000
          ],
          [
           "DevOps Engineer",
           "Infosys",
           6000
          ],
          [
           "DevOps Engineer",
           "Amdocs",
           6000
          ],
          [
           "Senior DevOps Engineer",
           "UPLIFT Talent Partners",
           6000
          ],
          [
           "AWS Cloud DevOps",
           "Luxoft",
           6000
          ],
          [
           "DevOps Code Integration (Embedded)",
           "Auriz",
           6000
          ],
          [
           "Senior DevOps Engineer - English Required",
           "DaCodes.",
           6000
          ],
          [
           "DevOps Engineer",
           "Uplift Talent",
           70000
          ],
          [
           "DevOps",
           "Capgemini Engineering",
           6000
          ],
          [
           "DevOps Developer",
           "Infosys",
           6000
          ],
          [
           "DevOps Developer",
           "Infosys Limited",
           6000
          ],
          [
           "DevOps Azure",
           "Turtle Trax S.A.",
           6000
          ],
          [
           "DevOps Engineer",
           "Grid Dynamics International, Inc.",
           6000
          ],
          [
           "DevOps (Guadalajara, Mexico)",
           "Howdy",
           6000
          ],
          [
           "Principal DevOps Engineer",
           "KMS Technology, Inc.",
           8400
          ],
          [
           "DevOps Senior - Híbrido",
           "Capital Empresarial Horizonte",
           6000
          ],
          [
           "Cloud DevOps Lead",
           "Virtusa",
           6000
          ],
          [
           "Senior Azure DevOps Engineer",
           "Bluelight",
           6000
          ],
          [
           "DevOps & Site Reliability Engineer",
           "Oowlish Technology",
           6000
          ],
          [
           "Senior DevOps Engineer - Azure",
           "EPAM Systems",
           6000
          ],
          [
           "Senior Azure DevOps Engineer",
           "Bluelight Consulting LLC",
           6000
          ],
          [
           "AWS/Azure DevOps Engineer",
           "Capital Empresarial Horizonte",
           6000
          ],
          [
           "Senior DevOps Tech Lead | REF281737",
           "BairesDev",
           6000
          ],
          [
           "DevOps Tech Lead - Remote | REF96163",
           "BairesDev",
           6000
          ],
          [
           "DevOps Engineer - Remote, Latin America",
           "Bluelight Consulting LLC",
           6000
          ],
          [
           "DevOps - CloudOps Engineer - Remote Work | REF249132",
           "BairesDev",
           6000
          ],
          [
           "Senior DevOps Engineer (Kubernetes, AWS, Terraform, CI/CD)",
           "equalstrue",
           6000
          ],
          [
           "QA Engineer (JMeter)",
           "Programming.com",
           null
          ],
          [
           "Senior Fullstack Engineer (Java/ReactJS)",
           "KMS Technology",
           6000
          ],
          [
           "Full Stack Engineer (.net / react)",
           "Agave Lab",
           null
          ],
          [
           "ETL LEAD TEST ENGINEER",
           "Wipro",
           6000
          ],
          [
           "Principal Advisor Engineer (Linux)",
           "Apex Systems",
           null
          ],
          [
           "Especialista en Infraestructura Cloud (Azure & Kubernetes)",
           "DaCodes.",
           6000
          ],
          [
           "Senior Fullstack Developer (React)",
           "Luxoft",
           null
          ],
          [
           ".Net ( Full Stack) Engineer",
           "GlobalLogic",
           null
          ],
          [
           "Consultant – Business Analytics – Mexico",
           "Infosys",
           6000
          ],
          [
           "Angular Developer",
           "Infosys",
           6000
          ],
          [
           "Backend Java Developer (Guadalajara)",
           "Corporativo Lumston",
           6000
          ],
          [
           "Backend Java Developer (Guadalajara)",
           "Lumston",
           6000
          ],
          [
           "Senior Front End Engineer Mexico",
           "Zoolatech",
           6000
          ],
          [
           "Project Manager w/Gaming experience",
           "Plan A Technologies",
           6000
          ],
          [
           "Azure Developer",
           "Infosys Limited",
           6000
          ],
          [
           "Associate Director, Engineering Delivery",
           "Brillio",
           6000
          ],
          [
           "DevSecOps - EQS",
           "Infosys Limited",
           6000
          ],
          [
           "Tech Lead / Architect",
           "People Centro",
           6000
          ],
          [
           "Data Engineer – QA & Release Management",
           "Solidigm",
           null
          ],
          [
           "Infrastructure & Networking Engineer (Senior) ID35139",
           "AgileEngine",
           null
          ],
          [
           "Principal Site Reliability Developer",
           "Oracle",
           null
          ],
          [
           "Principal Site Reliability Developer",
           "Oracle",
           null
          ],
          [
           "Senior Release Developer",
           "Oracle",
           null
          ],
          [
           "Sr Principal Site Reliability Developer",
           "Oracle",
           null
          ],
          [
           "Site Reliability Developer 5",
           "Oracle",
           null
          ],
          [
           "Release Developer 3",
           "Oracle",
           null
          ],
          [
           "Java Full Stack",
           "HCLTech",
           null
          ],
          [
           "Desarrollador Full-Stack GIS Junior",
           "Implemental Systems",
           null
          ],
          [
           "Mid Java Full Stack Developer",
           "GlobalLogic",
           null
          ],
          [
           "Senior .Net Full Stack",
           "Turtle Trax S.A.",
           6000
          ],
          [
           "Senior Full Stack Java",
           "Turtle Trax",
           10800
          ],
          [
           "Senior Java Full Stack Developer English",
           "Jones Lang LaSalle México",
           85000
          ],
          [
           "Senior Full Stack Software Development Engineer - Mexico",
           "Zillow",
           null
          ],
          [
           "Principal Full Stack Software Development Engineer - Mexico",
           "Zillow",
           null
          ],
          [
           "Full Stack Engineer (C#  React.js) - Remote inside México",
           "Capgemini Engineering",
           6000
          ],
          [
           "Desarrollador Java Full Stack",
           "Capital Empresarial Horizonte",
           420000
          ],
          [
           "Full Stack Engineer",
           "GlobalLogic Latinoamérica",
           6000
          ],
          [
           "Full Stack Engineer",
           "GlobalLogic",
           6000
          ],
          [
           "Java Full Stack",
           "HCLTech",
           10800
          ],
          [
           "Full Stack Engineer",
           "Infosys",
           6000
          ],
          [
           "Full Stack Engineer",
           "MHP – A Porsche Company",
           6000
          ],
          [
           "Desarrollador Web Full Stack con experiencia",
           "Minerales y Minas Mexicanas",
           240000
          ],
          [
           "Java Full Stack Senior Developer",
           "Azkait",
           8400
          ],
          [
           "Senior Full-Stack (Node / Vue.JS) Engineer Mexico",
           "Zoolatech",
           6000
          ],
          [
           "Full Stack Engineer (C#  React.js) - Remote inside México",
           "Capgemini",
           6000
          ],
          [
           "SRE Developer",
           "Tata Consultancy Services",
           null
          ],
          [
           "React Developer | Remoto en México",
           "Capgemini",
           6000
          ],
          [
           "React Developer | Remoto en México",
           "Capgemini Engineering",
           6000
          ],
          [
           "Java with Spring, Angular",
           "HCLTech",
           null
          ],
          [
           "(Guadalajara, Mexico) Full-Stack NodeJS & React Developer or Back-end Node",
           "Howdy.com",
           6000
          ],
          [
           "PHP, Next.js Developer",
           "STAND 8 Technology Consulting",
           null
          ],
          [
           "PHP, Next.js Developer",
           "STAND 8 Technology Consulting",
           6000
          ],
          [
           "Senior React/React Native Developer",
           "Sparq",
           6000
          ],
          [
           "Sr. Fullstack Engineer",
           "Paystand",
           6000
          ],
          [
           "Mid Fullstack Engineer",
           "Paystand",
           6000
          ],
          [
           "Java with Spring, Angular",
           "HCLTech",
           6000
          ],
          [
           "Full Stack Lead",
           "NTT DATA North America",
           null
          ],
          [
           "Fullstack Engineer",
           "Infosys",
           6000
          ],
          [
           "Full Stack Software Engineer",
           "Atrato",
           null
          ],
          [
           "Senior Fullstack Engineer Mexico",
           "Zoolatech",
           6000
          ],
          [
           "Senior Java Developer",
           "HCLTech",
           6000
          ],
          [
           "Software Development Engineer",
           "myGwork - LGBTQ+ Business Community",
           6000
          ],
          [
           "Senior Full Stack Software Engineer",
           "Atrato",
           null
          ],
          [
           "Sr. Fullstack Web Developer",
           "Toshiba Global Commerce Solutions",
           6000
          ],
          [
           "SRE Developer",
           "Tata Consultancy Services",
           6000
          ],
          [
           "Angular UI Developer - Remote",
           "Capgemini",
           6000
          ],
          [
           "Senior Java Developer",
           "Varicent",
           6000
          ],
          [
           "Full Stack Engineer with GraphQL  Typescript",
           "STI",
           null
          ],
          [
           "Elixir Full Stack Engineer (Lead) ID34499",
           "AgileEngine",
           null
          ],
          [
           "Full Stack Engineer (Middle/Senior) ID36289",
           "AgileEngine",
           null
          ],
          [
           "React  Node Developer – Web Applications",
           "Oowlish",
           6000
          ],
          [
           "Elixir Full Stack Engineer (Middle/Senior) ID34499",
           "AgileEngine",
           null
          ],
          [
           "Software Engineer (React.js, TypeScript, Web & Cloud Integration)",
           "equalstrue",
           6000
          ],
          [
           "Senior Back End Engineer Mexico",
           "Zoolatech",
           6000
          ],
          [
           "Java Lead",
           "Infosys",
           6000
          ],
          [
           "RPA Developer (Middle/Senior) ID34067",
           "AgileEngine",
           6000
          ],
          [
           "Java/React.js Full Stack Engineer (Middle) ID36054",
           "AgileEngine",
           null
          ],
          [
           "SRE Dev with Azure",
           "Azkait",
           6000
          ],
          [
           "Sr .Net Developer",
           "ARCOS LLC",
           6000
          ],
          [
           "Senior Java Developer IRC263318",
           "Hitachi Vantara Corporation",
           6000
          ],
          [
           "Fullstack Engineer (C#/ ReactJS)",
           "KMS Technology",
           6000
          ],
          [
           "Fullstack SAP Hybris Developer",
           "Azkait",
           6000
          ],
          [
           "High-Performance Computing (HPC) Solutions Architect",
           "Lenovo",
           6000
          ],
          [
           "Elixir Full Stack Engineer (Lead) ID34499",
           "AgileEngine",
           null
          ],
          [
           "Full Stack Engineer (Middle/Senior) ID36289",
           "AgileEngine",
           null
          ],
          [
           "Elixir Full Stack Engineer (Middle/Senior) ID34499",
           "AgileEngine",
           null
          ],
          [
           "Programador",
           "CORPORATIVO SERYSI S. de R.L. de C.V.",
           399600
          ],
          [
           "Site Reliability Developer 3",
           "Oracle",
           null
          ],
          [
           "Principal UX Designer",
           "Oracle",
           null
          ],
          [
           "Site Reliability Developer 3",
           "Oracle",
           null
          ],
          [
           "Principal UX Designer",
           "Oracle",
           null
          ],
          [
           "Principal UX Designer",
           "Oracle",
           null
          ],
          [
           "Backend Developer JR",
           "Mex Rent A Car",
           6000
          ],
          [
           "Java Backend Mid-Level IRC262700",
           "GlobalLogic",
           6000
          ],
          [
           "Sr Java Backend Engineer Mexico",
           "Zoolatech",
           6000
          ],
          [
           "Backend Developer",
           "Azkait",
           6000
          ],
          [
           "Software Developer (Backend SaaS)",
           "Canonical",
           6000
          ],
          [
           "Software Developer (Backend SaaS)",
           "Canonical",
           6000
          ],
          [
           "Senior Frontend Developer",
           "Streamlinevrs",
           6000
          ],
          [
           "Senior Java Developer",
           "Varicent Corporation",
           6000
          ],
          [
           "Senior Angular developer",
           "Programming.com",
           null
          ],
          [
           "Senior Frontend Developer",
           "Agave Lab",
           null
          ],
          [
           "Desarrollador Java",
           "Travelport",
           null
          ],
          [
           "Sr. MEAN Developer",
           "Scale Up Recruiting Partners",
           6000
          ],
          [
           "Back End Developer",
           "MHP – A Porsche Company",
           6000
          ],
          [
           "Technical Product Manager (Senior) ID26703",
           "JobFinder Spain",
           8400
          ],
          [
           "Sr. Python Developer",
           "Grid Dynamics International, Inc.",
           6000
          ],
          [
           "Security Engineer (Middle/Senior) ID35384",
           "AgileEngine",
           6000
          ],
          [
           "Senior Front End Developer (React/Typescript) Mexico",
           "Zoolatech",
           6000
          ],
          [
           "Front End Senior Developer / React NextJs",
           "Intersog",
           6000
          ],
          [
           "Support Engineering Manager",
           "Canonical",
           6000
          ],
          [
           "Sr. React Native Engineer (Project Based)",
           "Amber",
           6000
          ],
          [
           "Python developer",
           "Azkait",
           6000
          ],
          [
           "Backend Engineer ID35377",
           "AgileEngine",
           null
          ],
          [
           "Senior Backend Software Engineer",
           "KMS Technology",
           null
          ],
          [
           "Senior Software Engineer, Back-end Python (PSA Applications)",
           "Collectors",
           6000
          ],
          [
           "Java Engineer (Senior) ID29059",
           "JobFinder Spain",
           6000
          ],
          [
           "Java Developer (Spring Boot)",
           "Oowlish",
           6000
          ],
          [
           "Sr FullStack Developer (Vue.js - Python)",
           "Scale Up Recruiting Partners",
           6000
          ],
          [
           "Test Automation Engineer",
           "Scale Up Recruiting Partners",
           6000
          ],
          [
           "Workaday ERP Consultant",
           "HCLTech",
           6000
          ],
          [
           "Trabajo Desde Casa Node.js Senior Tech Lead Ref. 0111",
           "BairesDev LLC",
           null
          ],
          [
           "Java Developer (Spring Boot)",
           "Oowlish Technology",
           6000
          ],
          [
           "Backend Engineer (Compliance) ID35382",
           "AgileEngine",
           null
          ],
          [
           "WMS Developer (Koerber/HighJump)",
           "Pcgs",
           6000
          ],
          [
           "Senior Android Developer",
           "Luxoft",
           6000
          ],
          [
           "Desarrollador Back End / Hybris Developer",
           "Keyrus",
           6000
          ],
          [
           "Senior Python Developer",
           "Intersog",
           6000
          ],
          [
           "iOS Developer (Swift-Middle) ID28375",
           "JobFinder Spain",
           6000
          ],
          [
           "Backend Java Engineer (Senior/Lead) ID31860",
           "AgileEngine",
           null
          ],
          [
           "Sr Fullstack Engineer",
           "AstraZeneca",
           6000
          ],
          [
           "Technical Product Manager",
           "In All Media",
           8400
          ],
          [
           "Senior/Lead QA Automation Engineer",
           "C3.ai",
           6000
          ],
          [
           "iOS Developer (Swift-Senior/Lead) ID28375",
           "JobFinder Spain",
           6000
          ],
          [
           "Fullstack Engineer (C#/ ReactJS)",
           "KMS Technology, Inc.",
           6000
          ],
          [
           "Desarrollador PHP",
           "Label week",
           168000
          ],
          [
           "Backend Engineer ID35377",
           "AgileEngine",
           null
          ],
          [
           "Backend Engineer (Compliance) ID35382",
           "AgileEngine",
           null
          ],
          [
           "Backend Java Engineer (Lead) ID31860",
           "AgileEngine",
           null
          ],
          [
           "QA Engineer (Senior) ID35731",
           "AgileEngine",
           null
          ],
          [
           "Security Engineer (Middle/Senior) ID35384",
           "AgileEngine",
           null
          ],
          [
           "Frontend Developer",
           "HCLTech",
           6000
          ],
          [
           "Frontend Developer",
           "Programming.com",
           6000
          ],
          [
           "Frontend Engineer",
           "Backbase",
           6000
          ],
          [
           "Frontend (React  Angular)",
           "Azkait",
           6000
          ],
          [
           "Frontend Developer Exp. en Angular",
           "Monocromática",
           300000
          ],
          [
           "Frontend Software Developer – AI SaaS Platform",
           "Oowlish",
           6000
          ],
          [
           "Frontend Software Developer – AI SaaS Platform",
           "Oowlish Technology",
           6000
          ],
          [
           "Work From Home React Frontend Developer Ref. 0169",
           "BairesDev LLC",
           null
          ],
          [
           "React Micro Front End - Remote",
           "Capgemini",
           6000
          ],
          [
           "React Developer - REMOTE",
           "Capgemini Engineering",
           6000
          ],
          [
           "Desarrollador de front-end",
           "MHP – A Porsche Company",
           8400
          ],
          [
           "Senior Frontend Developer",
           "Inhabit Iq",
           null
          ],
          [
           "React Developer - Remote",
           "Capgemini Engineering",
           6000
          ],
          [
           "React Developer REMOTE",
           "Capgemini",
           6000
          ],
          [
           "Trabajo Desde Casa Desarrollador Angular Senior Ref. 0615",
           "BairesDev LLC",
           null
          ],
          [
           "Perl Programmer",
           "Wipro",
           6000
          ],
          [
           "Product Manager (Senior) ID26702",
           "JobFinder Spain",
           8400
          ],
          [
           "C# Engineer IRC264045",
           "Hitachi Vantara Corporation",
           6000
          ],
          [
           "Tech Lead (Hands-On) Engineer (Remote)",
           "UP.Labs",
           6000
          ],
          [
           "QA Automation Leader - Remote Work | REF175391",
           "BairesDev",
           6000
          ],
          [
           "Trabajo Desde Casa Desarrollador Fullstack .NET Angular Investigación y Desarrollo Ref. 0001",
           "BairesDev LLC",
           null
          ],
          [
           "Trabajo Desde Casa Líder Técnico Ruby Ref. 0026",
           "BairesDev LLC",
           null
          ],
          [
           "QA Automation Engineer",
           "Intersog",
           6000
          ],
          [
           "Front-End React Developer Senior",
           "CATALYST",
           6000
          ],
          [
           "Senior React Developer (Remote)",
           "Capgemini",
           6000
          ],
          [
           "Sr Front-End React JS Software Developer / Engineer | 100% Remote | SaaS | Construction Tech",
           "Clue Insights",
           6000
          ],
          [
           "Senior Software Development Lead - R01549525",
           "Brillio",
           null
          ],
          [
           "Fullstack Engineer (C#/ ReactJS)",
           "KMS Technology",
           null
          ],
          [
           "C# Engineer IRC264045",
           "GlobalLogic",
           6000
          ],
          [
           "Go (Golang) Software Engineer for Identity Management",
           "Canonical",
           6000
          ],
          [
           "Go (Golang) Software Engineer for Identity Management",
           "Canonical",
           6000
          ],
          [
           "Senior Engineer Software - Marketplace",
           "Paylocity",
           8400
          ],
          [
           "Sr. Fullstack Web Developer",
           "External",
           null
          ],
          [
           "Senior .Net Developer",
           "Inhabit Iq",
           null
          ],
          [
           "Site Reliability Engineer Middle-Sr.",
           "GrainChain Inc",
           null
          ],
          [
           "Software Development Lead - R01547467",
           "Brillio",
           null
          ],
          [
           "Sr Fullstack Engineer",
           "AstraZeneca",
           null
          ],
          [
           "Security Engineer (Middle/Senior) ID35384",
           "AgileEngine",
           null
          ],
          [
           "Front End Web Developer Intern",
           "Travelport",
           null
          ],
          [
           "Docente Programación y diseño de aplicaciones",
           "Escuela Bancaria y Comercial.",
           null
          ],
          [
           "Docente de Diseño Gráfico o Mercadotecnia Con estudios de maestría",
           "Escuela Bancaria y Comercial.",
           null
          ],
          [
           "Docente de diseño gráfico Programación y diseño de aplicaciones",
           "Escuela Bancaria y Comercial.",
           null
          ],
          [
           "Docente en Mercadotecnia Programación y diseño de aplicaciones",
           "Escuela Bancaria y Comercial.",
           null
          ],
          [
           "Mobile Developer",
           "ARCOS LLC",
           6000
          ],
          [
           "Senior iOS Engineer",
           "Backbase",
           6000
          ],
          [
           "Senior iOS Engineer - Mexico",
           "Zillow",
           null
          ],
          [
           "Software Development Advisor",
           "NTT America, Inc.",
           null
          ],
          [
           "Senior Android Developer",
           "Nova",
           null
          ],
          [
           "Senior iOS Engineer",
           "Backbase",
           null
          ],
          [
           "Cybersecurity Lead - Remote",
           "Capgemini",
           6000
          ],
          [
           "Cybersecurity Engineer I",
           "Radian Generation",
           6000
          ],
          [
           "Lead Cybersecurity Engineer - Remote inside México",
           "Capgemini Engineering",
           6000
          ],
          [
           "CyberSecurity Intern",
           "Avertium",
           null
          ],
          [
           "IoT & Automation Engineer",
           "Flextronics - The Flex Company",
           6000
          ],
          [
           "Cyber Defence Center Specialist for Automotive",
           "Continental",
           6000
          ],
          [
           "Security Engineer",
           "InfoVision Inc.",
           6000
          ],
          [
           "Vendor Business Manager (Cybersecurity)",
           "TD Synnex",
           null
          ],
          [
           "Voice of Customer Analyst",
           "F5 Networks",
           6000
          ],
          [
           "IoT & Automation Engineer",
           "Flex",
           6000
          ],
          [
           "Cyber Defense Engineer",
           "F5 Networks, Inc",
           6000
          ],
          [
           "Senior Corporate Counsel (LATAM)",
           "F5 Networks",
           8400
          ],
          [
           "Site Reliability Engineer III - Privileged Access and Endpoint Management",
           "F5 Networks",
           6000
          ],
          [
           "Voice of Customer Analyst",
           "F5 Networks, Inc.",
           6000
          ],
          [
           "Senior Enterprise Risk Analyst",
           "Finastra",
           6000
          ],
          [
           "Cyber Defence Center Specialist for Automotive",
           "Continental",
           null
          ],
          [
           "Database Administrator (Remote - LATAM)",
           "TrackStreet",
           null
          ],
          [
           "Soc Analyst L2",
           "Amerigo Services",
           null
          ],
          [
           "System Administrator I",
           "Plexus Electronica",
           null
          ],
          [
           "Systems Engineer I",
           "Plexus Electronica",
           null
          ],
          [
           "IT Internal Auditor",
           "Brown-Forman",
           null
          ],
          [
           "Data Analyst",
           "System Soft Technologies",
           6000
          ],
          [
           "Data Analyst",
           "Corteva, Inc.",
           6000
          ],
          [
           "Senior Data Analyst",
           "Wizeline",
           6000
          ],
          [
           "Senior Data Analyst (SQL, Tableau, Python)",
           "EQUALS TRUE",
           6000
          ],
          [
           "Junior Power BI Developer",
           "Quantum",
           6000
          ],
          [
           "Sr. Analyst, Business Data, SQL",
           "Herbalife",
           6000
          ],
          [
           "Data Analyst",
           "Corteva Agriscience",
           null
          ],
          [
           "Data Analyst",
           "Corteva Agriscience",
           null
          ],
          [
           "Acceleration Center - Guidewire - Data Developer Senior Analyst",
           "PwC México",
           6000
          ],
          [
           "Supply Chain Data Analyst 2",
           "Panduit",
           null
          ],
          [
           "Client Solutions Engineer",
           "Snatch UP",
           6000
          ],
          [
           "Senior Go Developer",
           "Endava",
           6000
          ],
          [
           "Voice of Customer Analyst",
           "F5",
           6000
          ],
          [
           "Product manager Tecnologia",
           "Corporativo Brokbox",
           null
          ],
          [
           "Senior Product Manager",
           "GovOS",
           8400
          ],
          [
           "Product Manager - Remote, Latin America",
           "Bluelight Consulting",
           6000
          ],
          [
           "Ejecutivo de ventas Product Manager Tecnología y computo",
           "Grupo CVA S.A. de C.V.",
           192000
          ],
          [
           "Product Development Sourcing Manager",
           "Plexus",
           6000
          ],
          [
           "Field Service Technician",
           "Fortress Power",
           null
          ],
          [
           "Product Development Sourcing Manager",
           "Plexus Corp.",
           6000
          ],
          [
           "Senior Product Manager",
           "MMC Group",
           null
          ],
          [
           "Especialista en ventas técnicas",
           "UNOX México",
           null
          ],
          [
           "Product Materials Manager",
           "Cisco",
           null
          ],
          [
           "Project Purchasing Specialist - Part Family Management",
           "Robert Bosch Group",
           6000
          ],
          [
           "Product Engineering Delivery Manager",
           "Brillio",
           null
          ],
          [
           "Technical Product Owner - ONLY México - Fully Remote",
           "Scalepex",
           6000
          ],
          [
           "Project Manager en Diseño de Productos Exp. en Desarrollo de Software",
           "Monocromática",
           null
          ],
          [
           "Auxiliar administrativo Turno diurno con experiencia",
           "Rockit",
           120000
          ],
          [
           "Sr Mgr, IT – IT Campus Network Lead",
           "Guadalajara, Jalisco",
           6000
          ],
          [
           "Analista de ventas",
           "Pinsa Comercial S.A. de C.V.",
           null
          ],
          [
           "Sr. Production Control Analyst",
           "Jabil",
           6000
          ],
          [
           "Project Lead - L1",
           "Wipro",
           6000
          ],
          [
           "Gerente Comercial - Guadalajara",
           "Importante empresa de Guadalajara",
           15000
          ],
          [
           "Gerente Comercial Guadalajara",
           "Importante empresa de Guadalajara",
           360000
          ],
          [
           "Sr Spec, IT Finance Function Lead",
           "Guadalajara, Jalisco",
           6000
          ],
          [
           "Store Manager- Guadalajara",
           "Valentino",
           6000
          ],
          [
           "Boutique Manager Midtown",
           "Fashion United",
           6000
          ],
          [
           "Software Development Manager",
           "Toshiba Global Commerce Solutions",
           6000
          ],
          [
           "Sr. Production Control Analyst",
           "Jabil Malaysia",
           6000
          ],
          [
           "Ingeniero de soporte EUC / Analista de sistemas",
           "Capital Empresarial Horizonte",
           6000
          ],
          [
           "Product Head of Design (UI/UX)",
           "Paystand",
           6000
          ],
          [
           "Sr Program Manager",
           "flex",
           6000
          ],
          [
           "Project Purchasing Specialist - Part Family Management",
           "Bosch Group",
           null
          ],
          [
           "Program Management Manager( Electronic Experience )",
           "flex",
           6000
          ],
          [
           "Regulatory & Quality Compliance Manager (m/f/d)",
           "Fresenius Medical Care North America",
           null
          ],
          [
           "Boutique Manager Midtown",
           "Richemont",
           6000
          ],
          [
           "Customer Solutions Specialist",
           "Avnet",
           6000
          ],
          [
           "Customer Solution Specialist",
           "Avnet",
           6000
          ],
          [
           "Senior Platform Engineer",
           "AstraZeneca",
           6000
          ],
          [
           "National Accounts Representative",
           "Avnet",
           6000
          ],
          [
           "Customer Solution Specialist",
           "Avnet LLC",
           6000
          ],
          [
           "Quality Program Manager",
           "Quantum Default Brand",
           null
          ],
          [
           "Product Owner (Web Technology)",
           "NXP Semiconductors México",
           null
          ],
          [
           "Engineering Manager",
           "Backbase",
           null
          ],
          [
           "Shipboard Medispa Physician",
           "OneSpaWorld",
           null
          ],
          [
           "Senior Platform Engineer",
           "AstraZeneca",
           null
          ],
          [
           "Product Manager - Remote, Latin America",
           "Bluelight Consulting",
           null
          ],
          [
           "Product Manager/Strategy 3-ProdDev",
           "Oracle",
           null
          ],
          [
           "Project Manager",
           "SKF Group",
           null
          ],
          [
           "Senior Manager, BCC (Sales/Customer Service/Customer Support) North America",
           "Avnet Mexico",
           null
          ],
          [
           "Senior Proposal Engineer",
           "Eaton Corporation",
           null
          ],
          [
           "Delivery Manager & Scrum Master",
           "HeyDonto AI API",
           6000
          ],
          [
           "Fullstack ARCHITECT- Remote",
           "UST",
           null
          ],
          [
           "Principal Solution Architect - Remote",
           "UST",
           null
          ],
          [
           "Java Tech Lead- Remote",
           "UST",
           6000
          ],
          [
           "Senior Product Owner IRC264170",
           "Hitachi Vantara Corporation",
           6000
          ],
          [
           "Product OwnerPM Scrum Máster Jr",
           "CA MEXICO S DE RL",
           null
          ],
          [
           "Senior Product Owner IRC264170",
           "GlobalLogic",
           6000
          ],
          [
           "Enterprise Project Manager",
           "Canonical",
           6000
          ],
          [
           "Acceleration Center - SPMS - PMO - Senior Analyst",
           "PwC México",
           6000
          ],
          [
           "Principal I, Application Development.",
           "Herbalife International, Inc.",
           6000
          ],
          [
           "Acceleration Center - SPMS - PMO - Senior Analyst",
           "PricewaterhouseCoopers International",
           6000
          ],
          [
           "Enterprise Project Manager",
           "Canonical",
           6000
          ],
          [
           "Product Owner II",
           "CSG Systems",
           6000
          ],
          [
           "Technical Lead Manufacturing Engineering",
           "Cisco",
           null
          ],
          [
           "Technical Leader - Electrical Engineer",
           "Cisco",
           null
          ],
          [
           "Tecnico de Servicio I",
           "Fresenius Medical Care",
           8400
          ],
          [
           "Java Tech Lead - (Job Number: 00054796391)",
           "cognizant technologies",
           6000
          ],
          [
           "Supervisor de Producción",
           "Flextronics - The Flex Company",
           8400
          ],
          [
           "Sr .Net Developer",
           "Vista Equity Partners Management, LLC",
           6000
          ],
          [
           "Supervisor de Producción Metalmecánica T2",
           "Flextronics - The Flex Company",
           8400
          ],
          [
           "Supervisor de Producción Metalmecánica",
           "Flex",
           8400
          ],
          [
           "Senior Site Reliability / Gitops Engineer",
           "Canonical",
           6000
          ],
          [
           "Infrastructure Solutions Architect",
           "Lenovo",
           6000
          ],
          [
           "Infrastructure Solutions Architect",
           "Avature",
           6000
          ],
          [
           "Senior Engineer Software - Core Platforms",
           "Paylocity",
           8400
          ],
          [
           "Software Engineering Manager - Ubuntu Linux Kernel",
           "Canonical",
           8400
          ],
          [
           "Photonics Engineering SME",
           "Ciena",
           6000
          ],
          [
           "Supervisor de Producción",
           "Flex",
           8400
          ],
          [
           "Supervisor de Producción Metalmecánica T2",
           "flex",
           8400
          ],
          [
           "Work From Home Senior Python Developer Ref. 0071E",
           "BairesDev LLC",
           null
          ],
          [
           "Tecnico de Servicio I",
           "Fresenius Medical Care North America",
           null
          ],
          [
           "Consultant IT, Digital Health",
           "Guadalajara, Jalisco",
           6000
          ],
          [
           "Global PCBA Manufacturing Process Technology Staff Engineer",
           "Plexus Electronica",
           null
          ],
          [
           "PHP WordPress Engineer (Lead) ID34987",
           "JobFinder Spain",
           6000
          ],
          [
           "PHP WordPress Engineer (Lead) ID34987",
           "AgileEngine",
           6000
          ],
          [
           "IT Application Development and Delivery - Finance & Medical Affairs",
           "Vantive",
           6000
          ],
          [
           "Digital Verification Team Lead",
           "NXP Semiconductors México",
           null
          ],
          [
           "Digital Verification Engineer",
           "NXP Semiconductors México",
           null
          ],
          [
           "PHP WordPress Engineer (Lead) ID34987",
           "AgileEngine",
           null
          ],
          [
           "DataStage Technical Lead",
           "HCLTech",
           null
          ],
          [
           "Appian Developer",
           "HCLTech",
           null
          ],
          [
           "Senior Network Developer",
           "Oracle",
           null
          ],
          [
           "NetSuite Developer",
           "Oracle",
           null
          ],
          [
           "NetSuite Developer",
           "Oracle",
           null
          ],
          [
           "Principal Software Developer",
           "Oracle",
           null
          ],
          [
           "PHP WordPress Engineer (Lead) ID34987",
           "AgileEngine",
           null
          ],
          [
           "Vendedor inmobiliario Software",
           "Humaniq Middle and Top Management",
           120000
          ],
          [
           "Software Developer",
           "NUVIT Innovation & Technology",
           6000
          ],
          [
           "Sr. Software Developer",
           "O'Reilly Autopartes México",
           6000
          ],
          [
           "Software Architect - Containers / Virtualisation",
           "Canonical",
           8400
          ],
          [
           "Senior Software Development Lead - R01549133",
           "Brillio",
           6000
          ],
          [
           "Software Development Analyst",
           "NTT DATA, Inc.",
           6000
          ],
          [
           "Sales Executive - Servicios de Desarrollo de Software a la Medida",
           "DaCodes.",
           6000
          ],
          [
           "Software Solution Architect",
           "Toshiba Global Commerce Solutions - External",
           8400
          ],
          [
           "Software Development Specialist",
           "NTT DATA North America",
           6000
          ],
          [
           "Software Development Analyst",
           "Applicable Limited",
           6000
          ],
          [
           "Software Development Specialist",
           "NTT DATA",
           6000
          ],
          [
           "Software Architect - Containers / Virtualisation",
           "Canonical",
           8400
          ],
          [
           "Mid-Level Software Developer",
           "Unkown Destination",
           6000
          ],
          [
           "Software Quality Assurance Specialist",
           "NTT DATA, Inc.",
           6000
          ],
          [
           "Software Developer in Test",
           "ARCOS LLC",
           6000
          ],
          [
           "C# .NET Software Developer",
           "Turtle Trax S.A.",
           6000
          ],
          [
           "SENIOR SOFTWARE DEVELOPER - DIGITALIZATION",
           "HELLA Automotive Mexico S.A. de C.V.",
           6000
          ],
          [
           "Software Engineering Manager, Ubuntu Gaming",
           "Canonical",
           8400
          ],
          [
           "Software Test Engineer, Payroll Compliance",
           "Paylocity",
           6000
          ],
          [
           "Software Testing Engineer - Remote, Mexico",
           "Paylocity",
           6000
          ],
          [
           "Senior Software Development Lead – R01549133",
           "Brillio",
           6000
          ],
          [
           "Staff Engineer Software - Core Platforms",
           "Paylocity",
           6000
          ],
          [
           "Gerente de arquitectura de software",
           "Toka Internacional",
           85000
          ],
          [
           "Ejecutivo de Ventas De Tecnologías Ventas",
           "People Zone",
           null
          ],
          [
           "SSD Validation Technician",
           "Solidigm",
           null
          ],
          [
           "Soporte Técnico Atención al cliente",
           "ETIQUETAS DE CALIDAD",
           null
          ],
          [
           "Consultor de Sistema Alpha ERP Implementador de Sistemas",
           "Castelec Internacional",
           204000
          ],
          [
           "Ingeniero de Control y Automatización",
           "Auto Partes y Más",
           264000
          ],
          [
           "Coordinador de nominas Contadores para nominas",
           "CONEJO CORRIENDO",
           null
          ],
          [
           "Recepcionista",
           "Fiat Legal",
           120000
          ],
          [
           "Accounts Payable Accountant Sr",
           "BerryMex",
           null
          ],
          [
           "Financial Analyst",
           "Asaak",
           null
          ],
          [
           "Ingeniero de Soporte JR",
           "Oropeza Ingenieros SA de CV",
           141600
          ],
          [
           "Ingenieroa Planeador de compras",
           "EL SURTIDOR DEL TAPICERO",
           240000
          ],
          [
           "Promotor Zapopan Jalisco",
           "Evolucione",
           null
          ],
          [
           "CAD Engineer - Product Design",
           "ENNOVI",
           null
          ],
          [
           "Auxiliar contable y fiscal",
           "Empresa de Reclutamiento",
           168000
          ],
          [
           "Senior Quality Test Engineer",
           "DEW SOFTWARE",
           null
          ],
          [
           "Gerente de IT Desarrollo de aplicaciones",
           "EVC Consultores",
           600000
          ],
          [
           "Programador PLC Automatizacion",
           "GD INSTALLAZIONI",
           null
          ],
          [
           "Senior Application Engineer",
           "DEW SOFTWARE",
           null
          ],
          [
           "Auxiliar sistemas",
           "Importante empresa del sector",
           180000
          ],
          [
           "Jefe De Mantenimiento",
           "OPERADORA DE HOSPITALES ANGELES SA DE CV",
           null
          ],
          [
           "Docente de Robótica Tecnología Maker",
           "Colegio Privado",
           312000
          ],
          [
           "Soporte técnico Exp. no requerida",
           "Grupo Plasencia Automotriz",
           162000
          ],
          [
           "Senior Software Developer",
           "Oracle",
           null
          ],
          [
           "Software Development Manager",
           "Oracle",
           null
          ],
          [
           "Software Development Manager",
           "Oracle",
           null
          ],
          [
           "soporte técnico sistemasTI",
           "Salud Digna",
           144000
          ],
          [
           "Asesor Financiero Telefónico Hsbc",
           "ManpowerGroup",
           null
          ],
          [
           "Supervisor de Instalaciones Experiencia en Vertical",
           "OBJETIVA",
           null
          ],
          [
           "Monitorista",
           "SEGADI",
           176568
          ],
          [
           "Diseñadora de Interiores",
           "Importante empresa del sector",
           null
          ],
          [
           "Analista de sistemas Soporte Técnico",
           "Centro Universitario UNE",
           null
          ],
          [
           "Arquitecto proyectista Diseño Industrial",
           "Grupo Constructor y Promotor Industrial",
           264000
          ],
          [
           "Contador Zapopan",
           "FIDELIS",
           120000
          ],
          [
           "Auditora Administrativo",
           "FINANCIERA GDL",
           144000
          ],
          [
           "Ejecutivos de Ventas Experiencia en venta de servicio",
           "Asi Team Building",
           144000
          ],
          [
           "Analista de Soporte TIC",
           "Komatsu Maquinarias México",
           null
          ],
          [
           "Mantenimiento General",
           "ETIQUETAS DE CALIDAD",
           null
          ],
          [
           "Auxiliar de facturación con experiencia",
           "SOLUCION DINAMICA DE NEGOCIOS",
           156000
          ],
          [
           "contadora",
           "A Constructora",
           null
          ],
          [
           "Capturista de datos",
           "FINANCIERA GDL",
           144000
          ],
          [
           "Auxiliar de Producción Disponibilidad de rolar turno",
           "ETIQUETAS DE CALIDAD",
           null
          ],
          [
           "Realizador Audiovisual Grabación y Edición",
           "Rectángulo",
           120000
          ],
          [
           "Soporte Técnico Zapopan",
           "Maycky BTL",
           134868
          ],
          [
           "Supervisora Textil Jr",
           "Metova",
           null
          ],
          [
           "Asesor Telefonico Call Center",
           "Importante empresa del sector",
           86400
          ],
          [
           "Contadora Calculo y control de impuestos",
           "Idea Consultores",
           168000
          ],
          [
           "Software Developer (Java/C/C#) - Graduates 2025",
           "Oracle",
           null
          ],
          [
           "Recepcionista Turnos Rotativos",
           "Cirsa Gaming Corporation",
           100368
          ],
          [
           "Docentes nivel superior Ingenierías y Negocios Internacionales",
           "Universidad del Valle de México, S.C.",
           null
          ],
          [
           "Ingeniero en sistemas",
           "Importante empresa del sector",
           252000
          ],
          [
           "Jefe de Almacén y Logística Zona Paraisos del Colli",
           "Ferreteria Zapopan SA de CV",
           156000
          ],
          [
           "Experience Technology Manager",
           "Eaton",
           6000
          ],
          [
           "Procurement Technology Services PM Consultant",
           "Jabil Circuit",
           6000
          ],
          [
           "Procurement Technology Services PM Consultant",
           "Jabil Circuit",
           6000
          ],
          [
           "Analista Microbiologia Quimico Technology Park Zapopan",
           "ManpowerGroup",
           180000
          ],
          [
           "Junior Java Developer",
           "HCLTech",
           null
          ],
          [
           "Dotnet Developer",
           "HCLTech",
           null
          ],
          [
           "Service Desk - Portugues- Tech Support",
           "HCLTech",
           null
          ],
          [
           "Security Engineer",
           "HCLTech",
           null
          ],
          [
           "Field Application Engineer - Guadalajara, MX",
           "Mccsemi",
           6000
          ],
          [
           "Senior Layout Engineer",
           "Micron Technology",
           8400
          ],
          [
           "Acceleration Center - - Data Science/BI - Manager",
           "PwC México",
           6000
          ],
          [
           "Senior Technology Transfer Agronomist",
           "Driscoll's",
           null
          ],
          [
           "SAP EWM",
           "Tata Consultancy Services",
           null
          ],
          [
           "Solutions Engineer - Citrix",
           "Arrow Electronics",
           6000
          ],
          [
           "Automation Engineer",
           "NTT DATA North America",
           6000
          ],
          [
           "Computer science / Information technology graduate",
           "Cognizant",
           null
          ],
          [
           "SAP SD (ECC)",
           "HCLTech",
           6000
          ],
          [
           "SDET (Java  Selenium) - Remote",
           "Capgemini",
           6000
          ],
          [
           "Tech Lead Electrical Engineer (Remote)",
           "Capgemini",
           6000
          ],
          [
           "Sales Booking Analyst",
           "DXC Technology",
           6000
          ],
          [
           "Senior Project Manager",
           "Wipro",
           6000
          ],
          [
           "Power Apps Developer - Remote inside México",
           "Capgemini",
           6000
          ],
          [
           "Voice Network Engineer",
           "HCLTech",
           6000
          ],
          [
           "SAP QM Consultant",
           "Bosch Group",
           6000
          ],
          [
           "Installation and Commissioning Engineer",
           "SERVIAP Mexico",
           6000
          ],
          [
           "Manager II Engineering (Calendar - Mexico)",
           "Paylocity",
           6000
          ],
          [
           "Lead Business Analyst",
           "Virtusa",
           6000
          ],
          [
           "UX/UI Designer/Developer (Web Technology)",
           "NXP Semiconductors México",
           null
          ],
          [
           "Manufacturing & Process Engineer",
           "Avnet",
           6000
          ],
          [
           "Service Desk Agent",
           "Tata Consultancy Services",
           null
          ],
          [
           "Test Engineer",
           "Wipro",
           6000
          ],
          [
           "QA Automation",
           "Tata Consultancy Services",
           6000
          ],
          [
           "Graduate Legal Counsel - Tech Sector",
           "Canonical",
           8400
          ],
          [
           "Embedded Linux Field Engineer for Devices/IoT",
           "Canonical",
           6000
          ],
          [
           "Design Verification Engineer",
           "Micron",
           6000
          ],
          [
           "SAP Data Migration – Consultant",
           "Bosch Group",
           6000
          ],
          [
           "SDET (Java & Selenium) | Remote in Mexico",
           "Capgemini",
           6000
          ],
          [
           "HR Business Partner - Labor Relations",
           "Avnet",
           6000
          ],
          [
           "Engineering Manager for IAM (Identity and Access Management)",
           "Canonical",
           6000
          ],
          [
           "Senior Business Analyst",
           "NTT DATA, Inc.",
           6000
          ],
          [
           "Acceleration Center - AES - SAP MDG - Manager",
           "PwC México",
           6000
          ],
          [
           "Global Program Manager II",
           "Avnet",
           6000
          ],
          [
           "Vigilante 24X24 Technology Park Carretera Nogales",
           "GRUPO PREMIER DE OCCIDENTE S.A. DE C.V.",
           144000
          ],
          [
           "Auxiliar de almacén Ciosa AutoTodo Technology Park",
           "Ciosa Autopartes",
           120000
          ],
          [
           "Ingeniero de Procesos de Mejora continua Zona Technology Park",
           "LPET",
           276000
          ],
          [
           "Ayudante General para Almacen Bodega Sabritas GDL Technology Park",
           "ManpowerGroup",
           131496
          ],
          [
           "Analista de reclutamiento y selección de personal Technology Park",
           "PROHUMANIARRHh",
           288000
          ],
          [
           "Chofer Foraneo Technology park",
           "GRUPO PREMIER DE OCCIDENTE S.A. DE C.V.",
           192000
          ],
          [
           "Auxiliar de Almacén Technology Park",
           "Vitasanitas SA de CV",
           150000
          ],
          [
           "Auxiliar de almacén Technology Park",
           "Vitasanitas SA de CV",
           150000
          ],
          [
           "Analista Microbiologia Quimico Technology Park Zapopan",
           "ManpowerGroup",
           180000
          ],
          [
           "Auxiliar de almacén Technology Park Carretera Nogales",
           "GRUPO PREMIER DE OCCIDENTE S.A. DE C.V.",
           108000
          ],
          [
           "Java developer CI/CD",
           "HCLTech",
           null
          ],
          [
           "SAP MM/WM Consultant",
           "ENNOVI",
           null
          ],
          [
           "Guardia Controlador de accesos",
           "ALPEZZI CHOCOLATE",
           120000
          ],
          [
           "Learning & Development Partner",
           "Solidigm",
           null
          ],
          [
           "Operador de Almacén",
           "IGT",
           null
          ],
          [
           "Diseño de interiores y decoración Ejecutiva de ventas Ventas, vendedora, atención a clientes",
           "Reclutapro Pandapé",
           144000
          ],
          [
           "auxiliar administrativo inplant",
           "Escarh",
           null
          ],
          [
           "Ejecutivo de Cuenta Comercio Exterior Negocios Internacionales",
           "CABRERA LLAMAS Y ASOCIADOS",
           204000
          ],
          [
           "Capturista de Trafico Trafico, logística, Analista",
           "Mabe",
           132000
          ],
          [
           "Auxiliar Administrativo de Ventas Temporal",
           "GRUPO PREMIER DE OCCIDENTE S.A. DE C.V.",
           144000
          ],
          [
           "Auxiliar Contable",
           "Ciosa Autopartes",
           180000
          ],
          [
           "Ventas",
           "TALINK",
           144000
          ],
          [
           "Asesor de Servicio DHL Atencion en mostrador",
           "Human Experience",
           136440
          ],
          [
           "Coordinador de Almacén",
           "Gio Consultores",
           120000
          ],
          [
           "Auxiliar Técnico de Laboratorio en Guadalajara Prestaciones Superiores y Crecimiento",
           "ManpowerGroup",
           126000
          ],
          [
           "Principal iOS Developer",
           "Oracle",
           null
          ],
          [
           "Principal iOS Developer",
           "Oracle",
           null
          ],
          [
           "Supervisor, Inside Sales",
           "Avnet Mexico",
           null
          ],
          [
           "DB Cloud Test Developer / Multi-cloud testing - Data Safe",
           "Oracle",
           null
          ],
          [
           "Applications Developer 2",
           "Oracle",
           null
          ],
          [
           "IT Manufacturing Apps Manager",
           "NatureSweet",
           null
          ],
          [
           "IT Recruitment Team Leader",
           "Randstad México",
           6000
          ],
          [
           "IT Operations Manager - Desktop Support & Field Services",
           "O'Reilly Autopartes México",
           null
          ],
          [
           "Coordinador de Soporte Técnico IT",
           "Nohau Capital Humano",
           8400
          ],
          [
           "IT Project Manager (Guadalajara, Jal)",
           "Corporativo GEB",
           6000
          ],
          [
           "IT Operations Manager - Desktop Support & Field Services",
           "oreillyauto",
           6000
          ],
          [
           "IT Infrastructure & Platform Engineer (RPA Platform Support)",
           "AstraZeneca",
           6000
          ],
          [
           "Product Owner",
           "Pyramid Consulting, Inc",
           6000
          ],
          [
           "Sourcer / Recruiter Jr",
           "Tata Consultancy Services",
           null
          ],
          [
           "SAP SD Consultant (O2C)",
           "Robert Bosch Group",
           6000
          ],
          [
           "Network Implementation Engineer",
           "Tata Consultancy Services",
           6000
          ],
          [
           "Human Resources Generalist",
           "Tata Consultancy Services",
           null
          ],
          [
           "Programmer Analyst II",
           "Jabil Circuit",
           6000
          ],
          [
           "Mainframe Developer",
           "Azkait",
           6000
          ],
          [
           "Lead SIEM Engineer - QRadar",
           "Azkait",
           6000
          ],
          [
           "Gestión de Servicios Cibernéticos",
           "Capital Empresarial Horizonte",
           8400
          ],
          [
           "Sr. AWS Solution Architect",
           "Lumston",
           6000
          ],
          [
           "IT Administrator (Senior) ID36477",
           "AgileEngine",
           null
          ],
          [
           "Strategic Sourcing Manager, IT",
           "Misys International Banking Systems Mexico De Cv",
           null
          ],
          [
           "QA Mobile Engineer (m/f/d)",
           "Zoi",
           6000
          ],
          [
           "FP&A Analyst",
           "Paystand",
           6000
          ],
          [
           "Local IT Software Developer Intern",
           "Continental",
           null
          ],
          [
           "Linux Patching Engineer",
           "Apex Systems",
           null
          ],
          [
           "Social Impact Manager",
           "ISPROX",
           null
          ],
          [
           "Procure to Pay Senior Manager Americas",
           "Ingredion Incorporated",
           6000
          ],
          [
           "Senior Go Developer",
           "Endava Limited",
           6000
          ],
          [
           "Senior Consultant SAP IBP",
           "MHP – A Porsche Company",
           6000
          ],
          [
           "Junior Customer Support Analyst",
           "Tata Consultancy Services",
           null
          ],
          [
           "Tax Data Lead - SAP(S/4 Hana)",
           "AstraZeneca GmbH",
           6000
          ],
          [
           "Full Time Marketing Professor",
           "Vice Rectory for International Affairs",
           6000
          ],
          [
           "Senior Site Reliability Engineer",
           "Zillow",
           null
          ],
          [
           "SW Test Automation Specialist",
           "Amdocs",
           6000
          ],
          [
           "Human Resources Business Partner \"Guadalajara\"",
           "Tata Consultancy Services",
           6000
          ],
          [
           "Senior Sourcing Recruiter",
           "Zillow",
           null
          ],
          [
           "QA Automation Engineer",
           "Programming.com",
           6000
          ],
          [
           "OneStream Systems Analyst",
           "flex",
           6000
          ],
          [
           "Senior Incident Manager",
           "Zillow",
           null
          ],
          [
           "Gerente de Telemarketing. Contact Center IT",
           "ECO",
           null
          ],
          [
           "Customer Service representative",
           "Tata Consultancy Services",
           null
          ],
          [
           "Assistant F and B Manager Gerente asistente de alimentos y bebidas",
           "Alliance Abroad LATAM",
           null
          ],
          [
           "Industrial Seals Sales & Business Development Manager MX and LAM",
           "SKF Group",
           null
          ],
          [
           "Ejecutivo de ventas TI 1 año de experiencia",
           "Gectech de Mexico SA de CV",
           132000
          ],
          [
           "Encargado de sistemas Informática",
           "Importante empresa del sector",
           180000
          ],
          [
           "Ingeniero calidad procesos",
           "SOPORTE REMOTO DE MEXICO SAPI DE CV",
           144000
          ],
          [
           "Contracts Manager",
           "Genpact IT",
           null
          ],
          [
           "Asociado Sr. de Capacitación de Ventas",
           "Elanco",
           null
          ],
          [
           "SQL Support Engineer - Fresh Graduated",
           "Oracle",
           null
          ],
          [
           "Associate - Operations",
           "Wesco",
           null
          ],
          [
           "BANAMEX - BANQUERO ASOCIADO BANCA PRIVADA",
           "Citigroup",
           null
          ],
          [
           "Global Customer Accounts Manager II",
           "AIT Worldwide Logistics, Inc",
           null
          ],
          [
           "Fusion ERP Techno Functional Analyst",
           "Oracle",
           null
          ],
          [
           "Fusion SCM Techno Functional Analyst",
           "Oracle",
           null
          ],
          [
           "ServiceNow Developer",
           "Tata Consultancy Services",
           null
          ],
          [
           "Angular Developer",
           "Programming.com",
           null
          ],
          [
           "Developer, Application",
           "Flextronics - The Flex Company",
           6000
          ],
          [
           "c# developer",
           "Venteks",
           6000
          ],
          [
           "Java/Android developer",
           "Toshiba Global Commerce Solutions",
           6000
          ],
          [
           "Java/Android Drivers Developer I",
           "Toshiba Global Commerce Solutions",
           6000
          ],
          [
           "Business Developer Data Center Guadalajara, Jalisco, México",
           "ManpowerGroup",
           null
          ],
          [
           "Ruby on Rails Developer (Middle/Senior) ID34620",
           "JobFinder Spain",
           6000
          ],
          [
           "Developer netsuite Jr",
           "INOBELLA",
           180000
          ],
          [
           "React Developer",
           "UST",
           6000
          ],
          [
           "Python Developer",
           "Infosys Limited",
           6000
          ],
          [
           "PowerBI Developer",
           "Infosys",
           6000
          ],
          [
           "Angular Developer",
           "Infosys Limited",
           6000
          ],
          [
           "Drupal Developer",
           "Cognizant",
           6000
          ],
          [
           "Lead PHP Developer",
           "Perficient Inc.",
           6000
          ],
          [
           "Senior MDM Developer",
           "Net2Source Inc.",
           6000
          ],
          [
           "Senior Tableau Developer",
           "KMS Technology",
           6000
          ],
          [
           "Senior Java Developer",
           "Luxoft",
           6000
          ],
          [
           "Principal Applications Developer",
           "Infoempregos",
           6000
          ],
          [
           "Senior Java Developer IRC263318",
           "GlobalLogic",
           6000
          ],
          [
           "Senior Java Developer IRC263318",
           "GlobalLogic",
           6000
          ],
          [
           "Python Developer - Remote | REF76525",
           "BairesDev",
           6000
          ],
          [
           "Ruby Senior Developer | REF281754",
           "BairesDev",
           6000
          ],
          [
           "Angular UI Developer (Remote)",
           "Capgemini",
           6000
          ],
          [
           "ServiceNow Developer Senior - Híbrido",
           "Capital Empresarial Horizonte",
           6000
          ],
          [
           "Sales Business Development Manager",
           "SKF Group",
           null
          ],
          [
           "User Experience Developer",
           "Oracle",
           null
          ],
          [
           "Senior Applications Developer",
           "Oracle",
           null
          ],
          [
           "Applications Developer 2",
           "Oracle",
           null
          ],
          [
           "Senior Applications Developer",
           "Oracle",
           null
          ],
          [
           "Senior Applications Developer",
           "Oracle",
           null
          ],
          [
           "Senior Applications Developer",
           "Oracle",
           null
          ],
          [
           "Applications Developer 3",
           "Oracle",
           null
          ],
          [
           "Principal Member of Technical Staff",
           "Oracle",
           null
          ],
          [
           "SuiteApp Release Engineer",
           "Oracle",
           null
          ],
          [
           "React Native Engineer (Lead) ID36430",
           "AgileEngine",
           null
          ],
          [
           "Senior Java Engineer",
           "StartupGDL",
           null
          ],
          [
           "Program Manager, Global Intern Program",
           "Oracle",
           null
          ],
          [
           "Senior Member of Technical Staff - Java Client Sustaining",
           "Oracle",
           null
          ],
          [
           "QA Automation Engineer (Middle) ID33676",
           "AgileEngine",
           null
          ],
          [
           "Data Infrastructure Engineer ID35383",
           "AgileEngine",
           null
          ],
          [
           "Customer Advisor / Asesor de Clientes VACANTE AFIRMATIVA PARA MUJERES",
           "Oracle",
           null
          ],
          [
           "Python Automation Engineer",
           "InfoVision Inc.",
           null
          ],
          [
           "Senior Python Engineer",
           "Suplari, Inc.",
           null
          ],
          [
           "Voice Network Engineer",
           "HCLTech",
           null
          ],
          [
           "Digital Verification Engineer",
           "NXP Semiconductors",
           null
          ],
          [
           "QA Automation Engineer (Mid)",
           "Incedo Inc.",
           null
          ],
          [
           "Tooling Engineer",
           "flex",
           6000
          ],
          [
           "ICT engineer",
           "Wipro Technologies",
           6000
          ],
          [
           "Test Engineer",
           "Cisco Systems, Inc.",
           6000
          ],
          [
           "Simulation Engineer",
           "Global Connect Technologies",
           6000
          ],
          [
           "Site Reliability Engineer",
           "Canonical",
           6000
          ],
          [
           "Supplier Quality Engineer",
           "Flextronics - The Flex Company",
           6000
          ],
          [
           "Senior Test Engineer",
           "Cadence",
           6000
          ],
          [
           "Field Service Engineer",
           "Lutron Electronics Co., Inc",
           6000
          ],
          [
           "Test Engineer SME I (MSS - Test Engineer SME)",
           "Jabil Malaysia",
           6000
          ],
          [
           "Test Engineer SME I (MSS - Test Engineer SME)",
           "Jabil",
           6000
          ],
          [
           "Data Infrastructure Engineer ID35383",
           "AgileEngine",
           6000
          ],
          [
           "Sr. EC Technical Engineer",
           "Jabil Malaysia",
           6000
          ],
          [
           "Field Service Engineer - Mechanics",
           "Sidel",
           6000
          ],
          [
           "ServiceNow Engineer (Middle) ID29579",
           "JobFinder Spain",
           6000
          ],
          [
           "Supplier Quality Engineer (m/f)",
           "IEE Sensing",
           6000
          ],
          [
           "Sales Engineer",
           "VR Talent",
           240000
          ],
          [
           "AQA Engineer/SDET (Senior/Lead) ID35385",
           "AgileEngine",
           null
          ],
          [
           "Netsuite - Principal Consultant",
           "Oracle",
           null
          ],
          [
           "Netsuite - Principal Consultant",
           "Oracle",
           null
          ],
          [
           "Senior Member of Technical Staff - Java Client Sustaining",
           "Oracle",
           null
          ]
         ],
         "hovertemplate": "job_type=remote<br>x=%{x}<br>y=%{y}<br>title=%{customdata[0]}<br>company=%{customdata[1]}<br>salary_avg=%{customdata[2]}<extra></extra>",
         "legendgroup": "remote",
         "marker": {
          "color": "#636efa",
          "symbol": "circle"
         },
         "mode": "markers",
         "name": "remote",
         "showlegend": true,
         "type": "scattergl",
         "x": [
          9.627443313598633,
          22.075868606567383,
          28.462427139282227,
          28.432390213012695,
          28.384977340698242,
          -3.1338562965393066,
          9.766617774963379,
          28.462705612182617,
          9.694172859191895,
          9.632781028747559,
          22.075410842895508,
          22.155988693237305,
          -2.6721761226654053,
          22.072389602661133,
          24.022226333618164,
          22.18008804321289,
          28.417098999023438,
          28.437875747680664,
          28.412546157836914,
          9.702004432678223,
          9.7286376953125,
          -3.8804426193237305,
          23.849109649658203,
          22.160240173339844,
          9.74521541595459,
          9.664359092712402,
          9.64348316192627,
          -3.0370476245880127,
          28.455429077148438,
          28.466899871826172,
          -2.0590741634368896,
          24.147558212280273,
          28.380756378173828,
          9.660163879394531,
          28.490270614624023,
          24.502601623535156,
          9.698535919189453,
          28.404563903808594,
          24.481264114379883,
          -1.7500189542770386,
          -1.9742251634597778,
          -2.794379711151123,
          23.26377296447754,
          -2.3258495330810547,
          -2.225255012512207,
          24.0419979095459,
          9.674680709838867,
          -2.137831687927246,
          9.625868797302246,
          28.431350708007812,
          -2.827226161956787,
          24.14837646484375,
          28.376466751098633,
          24.153324127197266,
          24.042627334594727,
          9.648944854736328,
          9.72524356842041,
          24.535879135131836,
          -2.6795380115509033,
          -2.08535099029541,
          23.741641998291016,
          22.19394874572754,
          24.118196487426758,
          -2.820544719696045,
          -2.3281705379486084,
          24.218637466430664,
          -1.9940619468688965,
          16.49112892150879,
          -1.8755818605422974,
          -2.287360906600952,
          21.655027389526367,
          23.93256950378418,
          -2.135770797729492,
          -1.9884988069534302,
          -2.5146830081939697,
          9.69677448272705,
          -2.4539527893066406,
          -2.5358872413635254,
          -2.421942710876465,
          -2.221588134765625,
          -2.147969961166382,
          -2.5647971630096436,
          -2.7401254177093506,
          -2.734900712966919,
          -2.2298967838287354,
          -2.5979578495025635,
          -2.377244234085083,
          21.650497436523438,
          16.51968002319336,
          21.66263198852539,
          -2.206007957458496,
          24.43476676940918,
          -2.525400161743164,
          -2.790911912918091,
          9.747523307800293,
          28.42156982421875,
          28.440202713012695,
          28.4501895904541,
          9.766522407531738,
          9.728618621826172,
          28.388219833374023,
          28.491079330444336,
          9.670092582702637,
          24.505727767944336,
          17.497495651245117,
          24.533939361572266,
          9.685826301574707,
          9.680410385131836,
          9.675561904907227,
          9.664009094238281,
          9.535601615905762,
          28.437427520751953,
          9.723919868469238,
          9.699701309204102,
          9.603531837463379,
          28.406017303466797,
          9.577654838562012,
          28.39712142944336,
          28.46997833251953,
          9.66265869140625,
          9.67014217376709,
          9.639484405517578,
          22.086803436279297,
          9.736279487609863,
          22.119186401367188,
          28.507654190063477,
          28.425521850585938,
          28.476953506469727,
          9.720233917236328,
          28.449554443359375,
          28.33952522277832,
          9.647256851196289,
          9.616599082946777,
          24.1868896484375,
          24.19487953186035,
          22.085086822509766,
          24.42409896850586,
          28.376863479614258,
          22.058629989624023,
          28.409061431884766,
          22.07240867614746,
          28.473377227783203,
          24.397371292114258,
          22.09330177307129,
          22.04660415649414,
          22.071163177490234,
          22.05093765258789,
          28.36182975769043,
          28.49360466003418,
          9.625496864318848,
          28.37675666809082,
          23.813663482666016,
          9.613993644714355,
          28.47357749938965,
          28.52350616455078,
          28.385883331298828,
          24.534446716308594,
          28.367019653320312,
          9.612663269042969,
          9.730267524719238,
          -2.5611071586608887,
          22.092891693115234,
          22.07677459716797,
          9.721476554870605,
          9.61335277557373,
          9.663018226623535,
          9.626893997192383,
          9.728748321533203,
          -2.530250310897827,
          9.709447860717773,
          9.5587158203125,
          9.776880264282227,
          28.480281829833984,
          9.583498001098633,
          -2.22214937210083,
          28.455812454223633,
          22.09060287475586,
          9.743989944458008,
          9.5198974609375,
          28.488819122314453,
          24.526329040527344,
          28.43079948425293,
          17.609689712524414,
          24.523893356323242,
          24.527935028076172,
          -2.5109102725982666,
          9.567099571228027,
          9.541858673095703,
          22.175569534301758,
          -3.190805435180664,
          23.830997467041016,
          17.06232452392578,
          9.660196304321289,
          -2.7881736755371094,
          -2.239067554473877,
          28.386581420898438,
          9.683673858642578,
          -2.4210424423217773,
          28.439884185791016,
          28.488842010498047,
          9.499237060546875,
          -2.7207252979278564,
          -2.784186601638794,
          9.52375602722168,
          -2.6157307624816895,
          -2.9979982376098633,
          -2.742579698562622,
          -2.721266508102417,
          -2.6180810928344727,
          -2.4937169551849365,
          -2.875277042388916,
          -2.3327343463897705,
          -2.796887159347534,
          -2.8584206104278564,
          -2.425304889678955,
          -2.8955230712890625,
          -2.8395652770996094,
          -2.828650951385498,
          -2.791792631149292,
          -2.9344234466552734,
          -2.926023244857788,
          -2.971541404724121,
          -3.0367841720581055,
          -2.8039023876190186,
          -2.74172043800354,
          -2.7409586906433105,
          -3.0860466957092285,
          -2.5428555011749268,
          -2.6457557678222656,
          -3.0233843326568604,
          -2.991528272628784,
          -3.13712477684021,
          -3.0944135189056396,
          -2.692843198776245,
          -3.153777837753296,
          16.86367416381836,
          -2.889958620071411,
          -3.393446683883667,
          -2.9837749004364014,
          -3.1723620891571045,
          -2.646777629852295,
          -3.050828218460083,
          16.758771896362305,
          -3.1611580848693848,
          -3.0890982151031494,
          -3.063849925994873,
          -3.259302854537964,
          -3.1865808963775635,
          24.383304595947266,
          -3.0892467498779297,
          -3.234759569168091,
          -2.80788254737854,
          -3.062842845916748,
          16.965593338012695,
          -3.279794692993164,
          -3.0729498863220215,
          -3.0016062259674072,
          -3.263118267059326,
          -3.210801124572754,
          -3.4906296730041504,
          -3.3511831760406494,
          -3.3623828887939453,
          -3.4125967025756836,
          24.19175148010254,
          17.571346282958984,
          23.7203369140625,
          -3.3765861988067627,
          -3.119351863861084,
          -3.2782092094421387,
          -3.3300130367279053,
          24.357257843017578,
          -3.296029567718506,
          -3.1243064403533936,
          -3.555043935775757,
          -3.4685773849487305,
          -3.356564521789551,
          -3.0701348781585693,
          -3.3328840732574463,
          -3.7878599166870117,
          -3.3809242248535156,
          -3.4051449298858643,
          -3.548602342605591,
          -3.4013755321502686,
          -3.362379550933838,
          17.458070755004883,
          -3.540870428085327,
          -3.4047224521636963,
          -3.5001444816589355,
          -3.583515167236328,
          -3.3418493270874023,
          -3.7316417694091797,
          -3.546393394470215,
          -3.807516098022461,
          -3.514106035232544,
          -3.582838535308838,
          -3.4257943630218506,
          -3.5408530235290527,
          -3.5387024879455566,
          -3.4371001720428467,
          -3.6522042751312256,
          -3.6056201457977295,
          -3.3270907402038574,
          -3.449347734451294,
          -4.252926349639893,
          -3.8070595264434814,
          -3.846325159072876,
          -3.8765666484832764,
          -3.7186107635498047,
          -3.737279176712036,
          -3.5546176433563232,
          24.372249603271484,
          21.859371185302734,
          -3.918459177017212,
          22.613805770874023,
          21.874662399291992,
          17.589458465576172,
          17.496139526367188,
          -3.844299077987671,
          -3.8158912658691406,
          -3.888582944869995,
          -3.949228525161743,
          -4.023134231567383,
          -4.236964225769043,
          -4.316501617431641,
          -3.986426591873169,
          -4.064824104309082,
          -4.123284339904785,
          -3.9668281078338623,
          -3.9703192710876465,
          -4.354634761810303,
          -4.190516948699951,
          -4.279635906219482,
          -3.9685420989990234,
          -4.303596496582031,
          -3.6598801612854004,
          -4.989859580993652,
          -5.265114784240723,
          -5.276540279388428,
          -4.622971057891846,
          -3.94041109085083,
          -3.963047742843628,
          -3.987518548965454,
          -4.095073699951172,
          -4.636958122253418,
          -5.364638805389404,
          -4.276203632354736,
          -4.410746097564697,
          -4.521183967590332,
          -4.436944484710693,
          -4.204371452331543,
          -4.44389533996582,
          -4.899329662322998,
          -4.211287975311279,
          17.645986557006836,
          -4.99273157119751,
          17.55449867248535,
          -4.534035682678223,
          -4.173423767089844,
          -4.3559956550598145,
          -4.381834506988525,
          17.615262985229492,
          -4.566708564758301,
          -4.634201526641846,
          24.435388565063477,
          -4.719752788543701,
          -4.9473958015441895,
          -4.403667449951172,
          -4.628650665283203,
          -5.080539226531982,
          17.081716537475586,
          -4.913356781005859,
          24.344200134277344,
          24.414955139160156,
          -5.182153224945068,
          -4.933108806610107,
          -5.080443859100342,
          -4.94645357131958,
          -4.910222053527832,
          22.2005615234375,
          -4.166420936584473,
          -5.123968601226807,
          -4.712706089019775,
          22.02956199645996,
          -4.783908367156982,
          -4.582354545593262,
          -4.994332313537598,
          -4.507121562957764,
          -4.781298637390137,
          -4.836782932281494,
          -5.02581787109375,
          -4.8297319412231445,
          -4.437324523925781,
          -4.648585796356201,
          -5.003535270690918,
          -4.241011142730713,
          -4.673701763153076,
          -4.647583484649658,
          -4.745303630828857,
          -4.711018085479736,
          -4.412533760070801,
          -4.740039348602295,
          -4.583061695098877,
          -4.911056041717529,
          -4.776221752166748,
          23.936847686767578,
          -4.01472282409668,
          -4.332237720489502,
          -4.536166667938232,
          -4.471833229064941,
          -4.32979154586792,
          -4.629282474517822,
          -4.111464023590088,
          -4.610692501068115,
          -4.213099956512451,
          -4.324452877044678,
          -4.508808135986328,
          -4.147271156311035,
          -4.2391581535339355,
          -4.593384742736816,
          -4.395310878753662,
          -4.264962673187256,
          -4.097902297973633,
          -4.367916584014893,
          -3.9505553245544434,
          -3.9098715782165527,
          -4.200521469116211,
          -4.239428520202637,
          -4.260632514953613,
          -4.2687883377075195,
          -4.056612968444824,
          -4.462398529052734,
          -4.026252746582031,
          -3.917553424835205,
          -4.20017147064209,
          -4.106628894805908,
          -4.093723773956299,
          -4.029457092285156,
          -3.7841928005218506,
          -4.03732442855835,
          -3.957594394683838,
          -4.052768707275391,
          -4.111268043518066,
          -3.83512282371521,
          9.659587860107422,
          24.33840560913086,
          24.429697036743164,
          -4.005317687988281,
          -3.8100459575653076,
          -3.9587645530700684,
          -3.8082005977630615,
          -3.8850746154785156,
          9.549637794494629,
          -4.002392292022705,
          -3.9921047687530518,
          -3.8537583351135254,
          -3.8993539810180664,
          -3.9683594703674316,
          -3.917241096496582,
          -3.9342761039733887,
          -3.7999753952026367,
          -3.8451120853424072,
          -4.076834201812744,
          -3.9147396087646484,
          -3.803985834121704,
          -3.8801355361938477,
          -3.815793514251709,
          -3.7855913639068604,
          -3.802814245223999,
          -3.7975854873657227,
          -3.967719793319702,
          -3.9075064659118652,
          -3.8257598876953125,
          -3.869904041290283,
          -3.949492931365967,
          -3.9674503803253174,
          -3.7525320053100586,
          -3.7630178928375244,
          -3.808551073074341,
          -3.7993974685668945,
          -3.694110155105591,
          -3.7375805377960205,
          -3.8058853149414062,
          -3.8441121578216553,
          -3.84627366065979,
          17.543317794799805,
          -3.7647294998168945,
          -3.9166083335876465,
          -3.7380452156066895,
          24.459819793701172,
          -3.798157215118408,
          -3.8129899501800537,
          -3.6010584831237793,
          -3.7369182109832764,
          -3.861253023147583,
          -3.819434642791748,
          17.586097717285156,
          17.539966583251953,
          -3.6514194011688232,
          -3.7756266593933105,
          -3.671464681625366,
          -3.758739709854126,
          -3.7815682888031006,
          -3.571396827697754,
          24.45684051513672,
          22.648714065551758,
          -3.7690746784210205,
          -3.688875675201416,
          -3.8412294387817383,
          -3.6242620944976807,
          -3.6194372177124023,
          -3.5240023136138916,
          -3.685925245285034,
          -3.597139835357666,
          17.386699676513672,
          -3.6340441703796387,
          22.566280364990234,
          -3.714040756225586,
          22.634349822998047,
          -3.753355026245117,
          -3.446955680847168,
          16.518964767456055,
          -3.6249969005584717,
          -3.5798261165618896,
          23.906295776367188,
          -3.5141775608062744,
          -3.57593035697937,
          -3.624943971633911,
          -3.6268434524536133,
          -3.535935878753662,
          21.657121658325195,
          24.43277931213379,
          -3.534914493560791,
          -3.6293134689331055,
          -3.459571123123169,
          -3.5235302448272705,
          22.907535552978516,
          17.2423038482666,
          -3.548211097717285,
          -3.5341832637786865,
          -3.4544966220855713,
          -3.5205254554748535,
          -3.5392067432403564,
          -3.4640839099884033,
          -3.4048526287078857,
          -3.45043683052063,
          -3.460824728012085,
          -3.29142427444458,
          -3.318723440170288,
          -3.3382575511932373,
          -3.4262592792510986,
          24.47269058227539,
          24.671300888061523,
          -3.4098775386810303,
          -3.3259236812591553,
          -3.3733863830566406,
          -3.372255802154541,
          -3.360405445098877,
          16.86921501159668,
          -3.3574061393737793,
          -3.2287697792053223,
          -3.198827028274536,
          -3.3485910892486572,
          -3.2930121421813965,
          -3.30444073677063,
          -3.3162684440612793,
          -3.374345541000366,
          -3.3796374797821045,
          -3.2852137088775635,
          -3.2657201290130615,
          -3.368044137954712,
          -3.2338528633117676,
          -3.0651142597198486,
          -3.231157064437866,
          -3.179715871810913,
          -3.25138783454895,
          -3.1729414463043213,
          -3.1230905055999756,
          -3.1135165691375732,
          -3.1922576427459717,
          -3.068427085876465,
          -3.21087908744812,
          -2.8464949131011963,
          -3.086871862411499,
          -3.1168389320373535,
          -3.177205801010132,
          -3.1356630325317383,
          -2.9599153995513916,
          -3.1293399333953857,
          -3.04941725730896,
          -3.13673996925354,
          -3.097487688064575,
          -3.1076769828796387,
          -2.9504995346069336,
          -3.0062615871429443,
          -3.0335755348205566,
          -3.0885508060455322,
          -2.979551315307617,
          -3.0715930461883545,
          -2.3331422805786133,
          -2.411705732345581,
          -2.9337313175201416,
          -2.2643094062805176,
          -1.81206476688385,
          -3.049006938934326,
          -2.4652419090270996,
          -3.0412633419036865,
          -3.0000879764556885,
          -3.022244453430176,
          -2.0564916133880615,
          -2.362426519393921,
          -2.353245496749878,
          -2.128934383392334,
          -2.7594165802001953,
          -2.472109794616699,
          -2.039902925491333,
          -2.1780383586883545,
          -2.3705496788024902,
          -1.974094271659851,
          -2.5530102252960205,
          -1.507521629333496,
          -2.1888980865478516,
          17.50908660888672,
          -1.9757593870162964,
          -2.3649842739105225,
          22.757600784301758,
          17.036033630371094,
          28.407690048217773,
          -1.4554221630096436,
          -1.7773851156234741,
          -1.9464099407196045,
          -2.1738226413726807,
          -1.81698739528656,
          -2.2966487407684326,
          -1.8640257120132446,
          -1.7730891704559326,
          17.0741024017334,
          -1.468591332435608,
          -1.8411463499069214,
          -1.8138179779052734,
          -1.7488934993743896,
          -1.868965983390808,
          16.789785385131836,
          -1.646611213684082,
          -1.5298715829849243,
          -1.707049012184143,
          -1.6746292114257812,
          -1.7737675905227661,
          -1.7054181098937988,
          -1.5411568880081177,
          -2.0199193954467773,
          -2.1221940517425537,
          -1.779647946357727,
          -1.2710626125335693,
          -1.9551377296447754,
          -1.8192341327667236,
          16.730144500732422,
          17.512914657592773,
          -1.5756385326385498,
          -1.4759706258773804,
          -1.4069401025772095,
          -1.5150809288024902,
          -1.3084821701049805,
          -1.6457237005233765,
          -1.2106235027313232,
          -1.4118926525115967,
          -0.9444342255592346,
          -1.6211192607879639,
          -1.4771944284439087,
          -1.2541111707687378,
          -1.8781641721725464,
          -1.7474626302719116,
          23.537946701049805,
          -1.8350144624710083,
          -1.6591969728469849,
          17.42060661315918,
          -1.4022654294967651,
          -1.3775912523269653,
          -1.4171961545944214,
          16.869518280029297,
          -1.5142143964767456,
          -1.3756163120269775,
          -1.6454132795333862,
          -1.4902527332305908,
          -1.2071613073349,
          -1.2442433834075928,
          -1.4559366703033447,
          -1.7358105182647705,
          -1.9066908359527588,
          -1.6016532182693481,
          23.410198211669922,
          -1.1800942420959473,
          -1.3258247375488281,
          -1.8960806131362915,
          -1.6941554546356201,
          -1.9313706159591675,
          -1.1969444751739502,
          -1.1235880851745605,
          -1.1157146692276,
          -1.625766634941101,
          -1.9015783071517944,
          -1.3336056470870972,
          17.607894897460938,
          17.512340545654297,
          -1.514849066734314,
          -1.397445797920227,
          17.572582244873047,
          21.803485870361328,
          17.610729217529297,
          -1.3790919780731201,
          24.575063705444336,
          23.44786262512207,
          16.817426681518555,
          24.526880264282227,
          21.821672439575195,
          -1.6462236642837524,
          -1.3319915533065796,
          17.433837890625,
          -1.7231686115264893,
          -1.5342556238174438,
          -1.6404526233673096,
          -1.5236132144927979,
          -1.4390255212783813,
          -1.8022137880325317,
          -1.8340988159179688,
          -1.222727656364441,
          -1.2374168634414673,
          -1.3899894952774048,
          -1.1867316961288452,
          -1.8615835905075073,
          -1.6568671464920044,
          -1.4999717473983765,
          -1.365549921989441,
          -1.7316526174545288,
          -1.7060109376907349,
          17.504308700561523,
          -1.4083963632583618,
          -1.6725903749465942,
          -1.5472806692123413,
          -1.5124715566635132,
          -1.2912393808364868,
          -1.4287058115005493,
          17.59816551208496,
          17.589811325073242,
          16.770572662353516,
          24.53063201904297,
          -1.589242696762085,
          -1.5362403392791748,
          -1.4301297664642334,
          -1.2683453559875488,
          -1.392652988433838,
          -1.7233229875564575,
          -1.3873392343521118,
          -1.4581483602523804,
          -1.4542242288589478,
          -1.5354878902435303,
          -1.3011928796768188,
          17.570911407470703,
          -1.3863645792007446,
          -1.3331830501556396,
          17.477981567382812,
          -1.1379231214523315,
          17.5877685546875,
          -1.5615112781524658,
          -1.236760139465332,
          -1.4207804203033447,
          -1.3699307441711426,
          -1.3686637878417969,
          -1.244709849357605,
          -1.429126501083374,
          -1.638447880744934,
          -1.7162365913391113,
          -1.63619863986969,
          -1.4665359258651733,
          -1.254357933998108,
          -1.635780930519104,
          -1.8067843914031982,
          -1.0954132080078125,
          -1.6949514150619507,
          -1.2732834815979004,
          -1.0358641147613525,
          -1.2440847158432007,
          -1.3654311895370483,
          24.654333114624023,
          -1.3877018690109253,
          -1.0069215297698975,
          -1.2350877523422241,
          23.99224090576172,
          -1.5990296602249146,
          -1.4436414241790771,
          -1.1464104652404785,
          -1.4944266080856323,
          17.059921264648438,
          -1.074039340019226,
          -1.3155953884124756,
          -1.3818343877792358,
          -1.2453761100769043,
          -1.2268961668014526,
          -1.1388756036758423,
          -1.2978894710540771,
          -1.3150495290756226,
          -1.2873666286468506,
          -1.2195361852645874,
          -0.9213364720344543,
          -1.2254228591918945,
          -1.1093549728393555,
          -1.3445112705230713,
          -1.2354822158813477,
          -1.212187647819519,
          -1.177506685256958,
          -1.2339202165603638,
          -1.0804929733276367,
          -1.0852028131484985,
          -0.7914042472839355,
          -0.9725130796432495,
          -1.0228195190429688,
          -0.950627863407135,
          -1.3553587198257446,
          -1.1181293725967407,
          -0.788395345211029,
          -1.1337717771530151,
          -0.9183205366134644,
          -1.0971428155899048,
          -0.9480831027030945,
          -0.9507296085357666,
          -0.9236612915992737,
          -0.9472132921218872,
          -1.048351526260376,
          -0.9492648243904114,
          -0.7291866540908813,
          -0.8568882942199707,
          -1.1256699562072754,
          -0.9674267172813416,
          -1.0714969635009766,
          -1.1717625856399536,
          -0.673689603805542,
          -0.7595786452293396,
          -0.9302301406860352,
          -0.7902522087097168,
          -0.8959791660308838,
          -0.7764032483100891,
          -1.1272294521331787,
          -0.653222382068634,
          -0.8701460361480713,
          -0.8704467415809631,
          -0.9727765917778015,
          -0.5159040093421936,
          -0.49630263447761536,
          -0.848560094833374,
          -0.8808358907699585,
          -0.7532193660736084,
          -0.8158981800079346,
          -0.3845383822917938,
          -0.8383263349533081,
          -0.7886919379234314,
          -0.4195949137210846,
          -0.6708343625068665,
          -0.6228383779525757,
          -0.6938991546630859,
          -0.5186408162117004,
          -0.6777430176734924,
          -0.6715516448020935,
          -0.5283857583999634,
          -0.7386021018028259,
          -0.37302133440971375,
          -0.503955602645874,
          -0.6133762001991272,
          -0.721865713596344,
          -0.6342430710792542,
          -0.5313495397567749,
          -0.5920839905738831,
          -0.6400902271270752,
          -0.525703489780426,
          -0.5388172268867493,
          -0.7123662233352661,
          -0.705048143863678,
          -0.663016140460968,
          -0.5172348618507385,
          -0.49816417694091797,
          -0.6883801221847534,
          -0.4080064296722412,
          -0.6237491965293884,
          -0.5227658152580261,
          -0.7794793248176575,
          -0.5382580757141113,
          -0.32313990592956543,
          -0.5804466009140015,
          -0.6834390163421631,
          -0.597220778465271,
          -0.4753773510456085,
          -0.6001616716384888,
          -0.5357682108879089,
          -0.43875256180763245,
          -2.132943630218506,
          -2.1384730339050293,
          -2.1360321044921875,
          -2.1361143589019775,
          -2.1428487300872803,
          -2.1429805755615234,
          -2.140131711959839,
          -2.1453962326049805,
          -2.1381824016571045,
          -2.1441092491149902,
          -2.1458992958068848,
          -2.1432087421417236,
          -2.148594856262207,
          -2.1495509147644043,
          -3.3190157413482666,
          -1.7836203575134277,
          -5.642732620239258,
          -4.988362789154053,
          -5.728066921234131,
          -2.4379544258117676,
          -4.9351959228515625,
          -5.081254005432129,
          -4.489777565002441,
          -2.464607000350952,
          -2.3859169483184814,
          -2.207071542739868,
          -1.7808046340942383,
          -5.376001834869385,
          -1.8827730417251587,
          -4.301728248596191,
          -1.7740815877914429,
          -2.0166361331939697,
          -3.9660747051239014,
          -2.496297836303711,
          -2.0689923763275146,
          -2.4269838333129883,
          -2.3941969871520996,
          -1.9990620613098145,
          -2.2575018405914307,
          -1.8668972253799438,
          -2.1374998092651367,
          -2.1124675273895264,
          -2.1509921550750732,
          -4.619394779205322,
          -2.4910264015197754,
          -2.367015838623047,
          -2.250619649887085,
          -2.0934627056121826,
          -2.213809013366699,
          -2.0895071029663086,
          -2.0802812576293945,
          -2.1319494247436523,
          -2.2400074005126953,
          -2.1705379486083984,
          -2.2027783393859863,
          -2.2642221450805664,
          -2.2053489685058594,
          -2.0099589824676514,
          -1.8970409631729126,
          -2.122065544128418,
          -2.209841728210449,
          -2.23871111869812,
          -2.289323091506958,
          -1.9278384447097778,
          -2.1434531211853027,
          -2.104283571243286,
          -2.3664066791534424,
          -2.2928318977355957,
          -2.0047531127929688,
          -2.1367557048797607,
          -1.866944670677185,
          -2.035505533218384,
          -2.2262492179870605,
          -1.983259916305542,
          -2.0245039463043213,
          -2.2219314575195312,
          -2.083024501800537,
          -1.9446979761123657,
          -2.021385669708252,
          -2.038761854171753,
          -2.1561944484710693,
          -2.1877171993255615,
          -2.042586326599121,
          -2.2222793102264404,
          -2.021866798400879,
          -2.0993547439575195,
          -2.1789538860321045,
          -2.1428146362304688,
          -2.052501916885376,
          -1.9596951007843018,
          -2.1749939918518066,
          -2.06996488571167,
          -2.396176815032959,
          -2.0188450813293457,
          -2.1768810749053955,
          -2.3057026863098145,
          -2.2861711978912354,
          -2.3612565994262695,
          -2.3001012802124023,
          -2.2733211517333984,
          -2.3230350017547607,
          -2.1631922721862793,
          -2.17555832862854,
          -2.183889389038086,
          -2.205949544906616,
          -2.325284957885742,
          -2.3479743003845215,
          -2.3889665603637695,
          -2.2535784244537354,
          -2.345618963241577,
          -2.515113592147827,
          -2.410876989364624,
          24.62419891357422,
          -2.371802806854248,
          -2.334515333175659,
          -2.502566337585449,
          -2.3597559928894043,
          -2.415142059326172,
          -2.3994970321655273,
          -2.4736979007720947,
          -2.473393201828003,
          -2.4318089485168457,
          -2.4512534141540527,
          -2.502455234527588,
          -2.476754903793335,
          -2.427854061126709,
          -2.4154155254364014,
          -2.547983407974243,
          24.3958797454834,
          -2.682978868484497,
          -2.504868745803833,
          -2.505741834640503,
          -2.48862624168396,
          -2.6114823818206787,
          -2.3273046016693115,
          -2.5857698917388916,
          -2.442579746246338,
          -2.536719560623169,
          17.641359329223633,
          17.548118591308594,
          -2.5673389434814453,
          -2.5472137928009033,
          -2.5946526527404785,
          -2.613881826400757,
          -2.6764862537384033,
          -2.522357940673828,
          -2.624232769012451,
          -2.5850584506988525,
          -2.669846534729004,
          -2.6926767826080322,
          -2.639324903488159,
          -2.751971483230591,
          -3.0314953327178955,
          24.516172409057617,
          24.628189086914062,
          24.457887649536133,
          24.492015838623047,
          24.55917739868164,
          -2.720595359802246,
          24.447511672973633,
          -2.72613525390625,
          24.529407501220703,
          -2.67659068107605,
          -2.7991445064544678,
          -2.69153094291687,
          -2.884643077850342,
          -2.794149160385132,
          -2.8056812286376953,
          -2.932790517807007,
          24.408525466918945,
          24.50050926208496,
          24.50833511352539,
          24.401538848876953,
          24.53887367248535,
          24.509366989135742,
          24.46683692932129,
          24.433408737182617,
          24.461071014404297,
          24.475418090820312,
          24.36893081665039,
          24.642099380493164,
          24.45258903503418,
          24.398937225341797,
          -2.9213218688964844,
          -2.9854931831359863,
          23.722299575805664,
          17.545330047607422,
          -3.2163898944854736,
          -2.881781578063965,
          22.61777687072754,
          -3.339282989501953,
          -2.9376156330108643,
          -2.83447527885437,
          -2.847630500793457,
          -3.6902916431427,
          17.463848114013672,
          24.434329986572266,
          17.449888229370117,
          -2.9694392681121826,
          24.489927291870117,
          17.50965690612793,
          23.74001121520996,
          17.41195297241211,
          -2.9055380821228027,
          -2.9343771934509277,
          -2.7701292037963867,
          24.53990364074707,
          -3.922184467315674,
          17.43602752685547,
          -3.114098072052002,
          -3.214268922805786,
          -3.875805377960205,
          -3.0129387378692627,
          -4.951244831085205,
          -3.23813533782959,
          -3.9356770515441895,
          -3.002713918685913,
          -4.909822463989258,
          -3.0879554748535156,
          -3.288576364517212,
          -4.178469181060791,
          -3.1701104640960693,
          -3.332958221435547,
          17.439001083374023,
          -3.0596463680267334,
          -4.931273937225342,
          24.278305053710938,
          -4.817422866821289,
          17.024734497070312,
          24.488374710083008,
          16.817358016967773,
          -4.248713970184326,
          -4.760467529296875,
          -3.6496808528900146,
          -3.4749767780303955,
          -3.2182037830352783,
          -3.643974542617798,
          -4.236734390258789,
          -3.8928956985473633,
          -3.4651546478271484,
          -4.67232608795166,
          -3.596308946609497,
          -4.139654636383057,
          -3.35994815826416,
          -4.500526428222656,
          -4.395944118499756,
          -3.605001926422119,
          -4.298198699951172,
          -4.732024669647217,
          -4.351711273193359,
          -4.1022047996521,
          -4.195767402648926,
          -4.609516620635986,
          -4.438930988311768,
          -4.677217960357666,
          -3.2704527378082275,
          -3.9329986572265625,
          -3.9221630096435547,
          9.526305198669434,
          -3.9295737743377686,
          24.18435287475586,
          -4.417165279388428,
          -4.794280052185059,
          -4.385467052459717,
          -4.08593225479126,
          21.63009262084961,
          21.647611618041992,
          16.77531623840332,
          16.470619201660156,
          24.184856414794922,
          -4.045493125915527,
          -4.668271541595459,
          16.552217483520508,
          -4.50534725189209,
          16.839759826660156,
          -3.955143451690674,
          17.41387939453125,
          -4.0982818603515625,
          24.541587829589844,
          24.472135543823242,
          24.423099517822266,
          24.489213943481445,
          -4.138288497924805,
          24.40577507019043,
          24.40843963623047,
          21.886409759521484,
          -4.5518975257873535,
          21.900272369384766,
          -3.931715250015259,
          17.40237808227539,
          24.27855110168457,
          22.76575469970703,
          -4.217688083648682,
          -4.164648532867432,
          -3.868920087814331,
          -4.012853145599365,
          24.424091339111328,
          24.340627670288086,
          16.934268951416016,
          16.84039878845215,
          24.199121475219727,
          -4.365586757659912,
          24.45110511779785,
          17.545377731323242,
          -4.468587398529053,
          -4.395458221435547,
          -4.162510871887207,
          -4.403735160827637,
          -4.06305456161499,
          -3.96757435798645,
          -4.387762069702148,
          16.854753494262695,
          16.920549392700195,
          17.469406127929688,
          16.92447853088379,
          16.951087951660156,
          -4.030482769012451,
          -4.1199188232421875,
          -3.7239973545074463,
          -4.470060348510742,
          16.50562286376953,
          -4.153347015380859,
          -4.029175281524658,
          -4.0233917236328125,
          -4.289332866668701,
          -4.364380359649658,
          24.382831573486328,
          24.421630859375,
          24.413393020629883,
          -4.221404075622559,
          -4.058235168457031,
          24.494762420654297,
          24.289440155029297,
          24.31209945678711,
          -4.102205276489258,
          -3.9423460960388184,
          16.470964431762695,
          22.764070510864258,
          24.29854965209961,
          -4.058103561401367,
          -3.9067225456237793,
          -4.004668712615967,
          17.460216522216797,
          17.36751365661621,
          9.682433128356934,
          9.789244651794434,
          24.506431579589844,
          9.547155380249023,
          24.54548454284668,
          -4.027951240539551,
          17.106027603149414,
          9.658369064331055,
          9.720233917236328,
          -4.187240123748779,
          24.178190231323242,
          24.30695152282715,
          24.342872619628906,
          -3.9690053462982178,
          -3.9757189750671387,
          -3.8640122413635254,
          -4.003730297088623,
          -3.491547107696533,
          -3.8658339977264404,
          -3.9991350173950195,
          24.233442306518555,
          21.784645080566406,
          24.37253761291504,
          24.33875846862793,
          24.332056045532227,
          16.944576263427734,
          24.320785522460938,
          24.49727439880371,
          16.77291488647461,
          24.455541610717773,
          24.45233726501465,
          24.55710220336914,
          24.43387222290039,
          24.41978645324707,
          16.806381225585938,
          24.204246520996094,
          24.51524543762207,
          24.2755184173584,
          24.529151916503906,
          -3.578969717025757,
          24.193689346313477,
          16.883220672607422,
          24.130290985107422,
          24.258026123046875,
          -3.811267375946045,
          24.354869842529297,
          -3.9073731899261475,
          24.3350887298584,
          23.392940521240234,
          17.334184646606445,
          24.176603317260742,
          21.74774932861328,
          17.57037925720215,
          -3.6654903888702393,
          -3.950974225997925,
          24.433757781982422,
          24.219284057617188,
          -4.021136283874512,
          -3.9337093830108643,
          24.24725914001465,
          24.3748722076416,
          -3.5429158210754395,
          -3.7709758281707764,
          24.09462547302246,
          -3.6434342861175537,
          24.138906478881836,
          -3.7031657695770264,
          24.32370376586914,
          24.071439743041992,
          17.200929641723633,
          -3.9426369667053223,
          -4.07402229309082,
          16.49079132080078,
          24.575687408447266,
          24.18001937866211,
          -3.534653663635254,
          -3.5595767498016357,
          -3.57658052444458,
          24.293533325195312,
          24.308706283569336,
          -3.7613251209259033,
          -3.5950236320495605,
          24.40335464477539,
          -3.434056520462036,
          -3.393709421157837,
          -3.5605599880218506,
          24.325082778930664,
          24.14082145690918,
          9.575337409973145,
          9.641138076782227,
          24.35569190979004,
          24.298444747924805,
          24.407737731933594,
          24.121015548706055,
          -3.8941946029663086,
          -3.6082234382629395,
          16.776092529296875,
          -3.5750224590301514,
          24.176605224609375,
          16.496875762939453,
          9.818391799926758,
          -3.607550859451294,
          16.90873146057129,
          -3.4945228099823,
          24.163755416870117,
          17.06631088256836,
          24.315628051757812,
          24.53243064880371,
          -3.616272211074829,
          -3.592075824737549,
          16.830806732177734,
          16.47592544555664,
          23.711069107055664,
          -3.256150245666504,
          -3.285615921020508,
          -3.6314609050750732,
          -3.4242963790893555,
          -3.496316432952881,
          -3.2783334255218506,
          -3.2474491596221924,
          -3.464695692062378,
          -3.407463312149048,
          -3.524629831314087,
          -3.2139065265655518,
          -3.3610286712646484,
          -3.433297634124756,
          -3.0254061222076416,
          17.484004974365234,
          -3.4670886993408203,
          16.478588104248047,
          -3.13956356048584,
          9.73692512512207,
          22.054716110229492,
          -3.290558338165283,
          9.780839920043945,
          -3.2138547897338867,
          22.238506317138672,
          22.215133666992188,
          17.518693923950195,
          17.477197647094727,
          16.973678588867188,
          17.5904483795166,
          17.519702911376953,
          17.47089958190918,
          17.43802261352539,
          17.491731643676758,
          21.872961044311523,
          17.392534255981445,
          16.83846664428711,
          17.49383544921875,
          17.528493881225586,
          17.464962005615234,
          17.49093246459961,
          17.65338897705078,
          17.516372680664062,
          -3.219784736633301,
          -3.0635528564453125,
          24.21101188659668,
          17.633190155029297,
          17.59748649597168,
          17.48348045349121,
          28.4606990814209,
          28.421810150146484,
          -3.19749116897583,
          17.536483764648438,
          17.480045318603516,
          -3.2461097240448,
          17.240209579467773,
          24.38015365600586,
          24.219228744506836,
          17.712520599365234,
          -3.1469712257385254,
          24.513120651245117,
          -3.404676675796509,
          -3.1538188457489014,
          -3.244243860244751,
          17.620033264160156,
          22.120445251464844,
          17.239274978637695,
          -2.932643413543701,
          17.60502052307129,
          -2.9876976013183594,
          17.649858474731445,
          16.923227310180664,
          -3.0252444744110107,
          17.53106117248535,
          17.332916259765625,
          17.676816940307617,
          -3.2156565189361572,
          -3.00211238861084,
          -3.078411340713501,
          -3.1299045085906982,
          17.222543716430664,
          -3.3001246452331543,
          16.502098083496094,
          22.71034049987793,
          17.576534271240234,
          -2.8786003589630127,
          17.173086166381836,
          17.049724578857422,
          -3.004514694213867,
          23.723230361938477,
          23.389890670776367,
          16.486251831054688,
          16.540754318237305,
          17.45023536682129,
          -2.7566399574279785,
          17.491195678710938,
          16.838022232055664,
          -2.713555097579956,
          24.131977081298828,
          -2.8609607219696045,
          17.221179962158203,
          28.328149795532227,
          28.47306251525879,
          22.158628463745117,
          28.375471115112305,
          28.416173934936523,
          22.18358612060547,
          24.149765014648438,
          -2.7164080142974854,
          24.065011978149414,
          23.96406364440918,
          23.932920455932617,
          16.469057083129883,
          -2.6948647499084473,
          -2.7267374992370605,
          22.75518226623535,
          16.56011962890625,
          22.786090850830078,
          17.46712875366211,
          24.171051025390625,
          -2.982131242752075,
          24.272993087768555,
          22.58669662475586,
          23.45692253112793,
          22.677141189575195,
          22.761653900146484,
          17.582979202270508,
          24.6337947845459,
          24.675519943237305,
          24.207794189453125,
          17.111289978027344,
          22.760936737060547,
          24.302379608154297,
          17.035612106323242,
          -2.6985023021698,
          -2.9199113845825195,
          24.219446182250977,
          24.537593841552734,
          22.471370697021484,
          -2.620431661605835,
          23.723098754882812,
          24.187686920166016,
          -2.53053617477417,
          -2.9179296493530273,
          -2.70989727973938,
          17.516263961791992,
          23.358932495117188,
          24.179336547851562,
          22.89291000366211,
          -2.46498441696167,
          -2.733769416809082,
          17.05484962463379,
          -2.4797308444976807,
          22.821439743041992,
          -2.5902256965637207,
          23.94220733642578,
          -2.493001937866211,
          22.724916458129883,
          17.551820755004883,
          -2.372192621231079,
          16.525917053222656,
          -2.261232614517212,
          -2.3404929637908936,
          24.14190673828125,
          -2.658870220184326,
          -2.672790050506592,
          -2.50091290473938,
          -2.546617031097412,
          17.698312759399414,
          -2.3451738357543945,
          17.42829704284668,
          -2.2964603900909424,
          9.744690895080566,
          9.681352615356445,
          24.197933197021484,
          16.453950881958008,
          -2.7934679985046387,
          16.76703643798828,
          16.784427642822266,
          -2.433885097503662,
          16.541532516479492,
          23.398056030273438,
          17.070114135742188,
          16.5350341796875,
          22.494943618774414,
          23.715177536010742,
          -1.6693270206451416,
          21.6301212310791,
          -2.394476890563965,
          17.046340942382812,
          17.081819534301758,
          16.798505783081055,
          17.047359466552734,
          21.652584075927734,
          -2.0461838245391846,
          22.56415367126465,
          21.617460250854492,
          16.45368194580078,
          16.499664306640625,
          21.68047332763672,
          23.01833724975586,
          -2.354322910308838,
          22.54804229736328,
          16.514184951782227,
          -2.355103015899658,
          -2.5128750801086426,
          -2.144900321960449,
          -2.442117214202881,
          21.750375747680664,
          -2.2457807064056396,
          16.497859954833984,
          -2.156851291656494,
          -2.0557096004486084,
          24.18775749206543,
          -1.6855345964431763,
          24.475526809692383,
          9.701446533203125,
          -2.3240303993225098,
          -2.210393190383911,
          16.491851806640625,
          -1.4594695568084717,
          -2.577977418899536,
          16.84557342529297,
          23.491716384887695,
          23.395721435546875,
          23.36590003967285,
          23.375396728515625,
          24.194644927978516,
          24.221542358398438,
          17.059566497802734,
          17.05634307861328,
          17.075817108154297,
          -2.1581406593322754,
          -2.196993350982666,
          17.060138702392578,
          17.096923828125,
          23.390403747558594,
          -2.2822277545928955,
          -1.914917230606079,
          17.539705276489258,
          -1.8060722351074219,
          -1.8406500816345215,
          23.384431838989258,
          -2.194002151489258,
          -2.271798610687256,
          17.034523010253906,
          17.080392837524414,
          22.745237350463867,
          22.875818252563477,
          9.55264949798584,
          17.66901206970215,
          24.330839157104492,
          -2.1394476890563965,
          -1.873779296875,
          -1.928948163986206,
          -1.614179015159607,
          -1.728474736213684,
          -1.727146863937378,
          -2.1142349243164062,
          -1.1918013095855713,
          -1.5493510961532593,
          -2.0113167762756348,
          -1.9366759061813354,
          -2.2992539405822754,
          -1.724284291267395,
          -1.809756875038147,
          -1.5266695022583008,
          -1.747985601425171,
          21.63804054260254,
          16.487810134887695,
          -1.5446542501449585,
          -2.4825196266174316,
          -2.1072988510131836,
          24.271318435668945,
          -1.5680140256881714,
          -2.0433154106140137,
          -2.061600685119629,
          -1.3721200227737427,
          -2.7024526596069336,
          -2.0181500911712646,
          -1.6571145057678223,
          -2.1425511837005615,
          -1.8696776628494263,
          -1.5720593929290771,
          -2.23095703125,
          -1.8210316896438599,
          -1.8249130249023438,
          -2.2228457927703857,
          -1.465487003326416,
          -2.403207540512085,
          -1.845407247543335,
          -1.804237723350525,
          -1.924532175064087,
          -1.8248789310455322,
          24.446060180664062,
          22.067035675048828,
          -1.7001663446426392,
          9.61063003540039,
          -2.3146719932556152,
          -2.2076268196105957,
          -1.7354093790054321,
          -1.7322324514389038,
          -1.3809276819229126,
          24.437969207763672,
          -2.5533323287963867,
          -2.5140719413757324,
          17.521211624145508,
          -1.5805994272232056,
          -1.6986751556396484,
          -1.4110809564590454,
          -1.8840093612670898,
          24.420318603515625,
          -2.6593821048736572,
          -1.4647128582000732,
          -2.322953939437866,
          -1.940287709236145,
          17.368860244750977,
          24.40293312072754,
          -2.540081739425659,
          -2.3641011714935303,
          -2.4772825241088867,
          -2.322389602661133,
          -2.4154934883117676,
          -2.4543168544769287,
          -2.0439581871032715,
          -2.092144012451172,
          -2.636457920074463,
          -2.424006700515747,
          -2.0967299938201904,
          24.385780334472656,
          -2.003443479537964,
          -1.9696797132492065,
          -2.1440837383270264,
          -2.0196938514709473,
          -2.2777719497680664,
          -1.7066011428833008,
          -2.560495138168335,
          -2.3923304080963135,
          -2.0721864700317383,
          -1.9146491289138794,
          24.397703170776367,
          -1.650023102760315,
          -2.467970132827759,
          24.554943084716797,
          23.7484073638916,
          23.720815658569336,
          -2.1050596237182617,
          -2.705549478530884,
          -2.6377809047698975,
          -2.295555830001831,
          -2.550320625305176,
          -2.204575777053833,
          -2.734262466430664,
          21.7452449798584,
          23.979331970214844,
          22.963298797607422,
          23.982873916625977,
          17.570363998413086,
          23.681171417236328,
          -2.544766902923584,
          16.99463653564453,
          -2.723282814025879,
          -1.9600087404251099,
          -2.355799674987793,
          16.936473846435547,
          -1.8801487684249878,
          -2.690192699432373,
          24.407819747924805,
          -2.3041698932647705,
          16.446884155273438,
          -2.7938311100006104,
          -2.295356035232544,
          -2.729360818862915,
          -2.4620776176452637,
          16.906076431274414,
          24.571073532104492,
          24.51070213317871,
          17.702056884765625,
          -2.184495210647583,
          -2.380159378051758,
          -2.7553298473358154,
          -2.671616554260254,
          21.6364688873291,
          -2.5879409313201904,
          -2.485748052597046,
          -2.736924409866333,
          -2.746389865875244,
          24.622098922729492,
          -2.39847731590271,
          -2.644589900970459,
          -2.646911382675171,
          -2.6873321533203125,
          16.740554809570312,
          16.965412139892578,
          28.420608520507812,
          9.764381408691406,
          9.752492904663086,
          22.09288787841797,
          -2.5879359245300293,
          -2.603372812271118,
          -2.728699207305908,
          -2.593966007232666,
          16.836925506591797,
          16.560548782348633,
          -2.7369561195373535,
          -2.5397090911865234,
          -2.4663450717926025,
          -2.5769217014312744,
          -2.7219955921173096,
          -2.597391366958618,
          24.673755645751953,
          -2.4477922916412354,
          23.7774658203125,
          24.46270179748535,
          9.728508949279785,
          -2.4418246746063232,
          -2.7213006019592285,
          17.6469669342041,
          17.60547637939453,
          16.47292137145996,
          17.467662811279297,
          -2.655078411102295,
          -2.6265809535980225,
          -2.6220877170562744,
          -2.6012139320373535,
          -2.273423433303833,
          -2.307574987411499,
          -2.5917959213256836,
          -2.4777214527130127,
          -2.5501413345336914,
          -2.518918752670288,
          -2.6076014041900635,
          -2.3769588470458984,
          -2.547419548034668,
          -2.548309564590454,
          -2.5511560440063477,
          -2.6462533473968506,
          -2.612506866455078,
          -2.197875738143921,
          16.44854164123535,
          -2.4984402656555176,
          -2.433034658432007,
          -2.390991687774658,
          -2.4224846363067627,
          28.428590774536133,
          -2.501403331756592,
          -2.470553159713745,
          -2.388292074203491,
          -2.4751760959625244,
          -2.2883598804473877,
          -2.334980010986328,
          -2.3838226795196533,
          -2.402454376220703,
          -2.4468936920166016,
          -2.1404471397399902,
          -2.3580620288848877,
          -2.0704658031463623,
          -2.4439194202423096,
          -2.404127359390259,
          -2.1269822120666504,
          -2.3048171997070312,
          -2.2012977600097656,
          -2.2429299354553223,
          -2.354187488555908,
          -2.241779088973999,
          -2.3179376125335693,
          -2.424095392227173,
          -2.2387356758117676,
          24.51605796813965,
          -2.28259539604187,
          -2.0783379077911377,
          -2.2725040912628174,
          -2.3116283416748047,
          -2.205014705657959,
          -2.1306848526000977,
          -2.2539854049682617,
          -2.007474184036255,
          24.1845703125,
          16.79608154296875,
          16.967079162597656,
          16.78851890563965,
          -2.243988037109375,
          23.7110595703125,
          -2.071760892868042,
          -2.193643093109131,
          -2.127772569656372,
          -2.279583692550659,
          -2.445793628692627,
          -2.241375684738159,
          16.9427547454834,
          16.508878707885742,
          -2.2571732997894287,
          17.462703704833984,
          -2.0333621501922607,
          -1.9164326190948486,
          17.580604553222656,
          -2.13206148147583,
          -2.184401512145996,
          17.644723892211914,
          -2.3025872707366943,
          -2.1462841033935547,
          -2.059398651123047,
          -2.131436824798584,
          -2.207026243209839,
          16.325607299804688,
          17.018795013427734,
          -2.2210681438446045,
          -2.1452674865722656,
          -2.1812360286712646,
          16.52715492248535,
          -2.15796160697937,
          21.654333114624023,
          -2.201629638671875,
          -1.7814441919326782,
          -1.9224328994750977,
          -1.8692221641540527,
          -2.070460319519043,
          -2.200193166732788,
          -2.13818621635437,
          -1.9958642721176147,
          -1.6929962635040283,
          -1.930776834487915,
          -1.8302218914031982,
          -1.9409613609313965,
          -1.9387704133987427,
          24.19047737121582,
          -2.165900945663452,
          -1.6989822387695312,
          -1.9688128232955933,
          -1.5852540731430054,
          -1.6364699602127075,
          -1.3678175210952759,
          -1.7245442867279053,
          -1.4947096109390259,
          -1.4660820960998535,
          -1.8158096075057983,
          -2.1085002422332764,
          -1.7346662282943726,
          -1.4771116971969604,
          -1.716100811958313,
          -1.6424802541732788,
          -2.0769662857055664,
          -1.685489296913147,
          28.496492385864258,
          -1.8554145097732544,
          -2.115840196609497,
          24.302209854125977,
          -2.1368536949157715,
          -1.70634126663208,
          -2.0696778297424316,
          -1.6086565256118774,
          -1.5781022310256958,
          -1.7897394895553589,
          -1.932516098022461,
          -1.810186743736267,
          -1.8128489255905151,
          -1.4957374334335327,
          -1.753503441810608,
          -1.7585703134536743,
          -1.539772391319275,
          -1.7878000736236572,
          17.538503646850586,
          17.56557846069336,
          -1.912731409072876,
          17.58816909790039,
          24.533952713012695,
          -1.7086681127548218,
          -1.9559869766235352,
          -1.7876136302947998,
          -1.6411012411117554,
          -1.994032621383667,
          24.62877655029297,
          -1.8495150804519653,
          -1.9661980867385864,
          -1.858522891998291,
          -2.095489740371704,
          24.671293258666992,
          -1.728807806968689,
          -1.7236050367355347,
          -1.8619028329849243,
          -1.9566566944122314,
          -1.801202654838562,
          -2.0384349822998047,
          -2.0034289360046387,
          -1.6569874286651611,
          -1.7876867055892944,
          -1.9791935682296753,
          9.637996673583984,
          -2.1122758388519287,
          -1.8333415985107422,
          -2.0095317363739014,
          9.576462745666504,
          -1.636683464050293,
          -1.9010024070739746,
          -2.004424810409546,
          -2.004154920578003,
          9.57779312133789,
          22.619110107421875,
          23.1530818939209,
          -2.0665671825408936,
          -2.082402229309082,
          16.473417282104492,
          16.538373947143555,
          -1.9578830003738403,
          -2.106869697570801,
          22.602140426635742,
          24.57764434814453,
          21.637096405029297,
          24.62635040283203,
          23.38719367980957,
          -1.9465378522872925,
          -2.0646185874938965,
          24.201751708984375,
          -1.9230042695999146,
          24.124797821044922,
          -1.960369348526001,
          16.464170455932617,
          16.476451873779297,
          21.64296531677246,
          -2.2014567852020264,
          23.370956420898438,
          -2.0585122108459473,
          -2.1140973567962646,
          -2.013590097427368,
          17.664501190185547,
          -2.3145060539245605,
          9.682496070861816,
          9.832470893859863,
          9.796575546264648,
          9.797377586364746,
          22.168807983398438,
          17.10024642944336,
          17.057830810546875,
          16.465646743774414,
          9.682698249816895,
          16.48908233642578,
          -2.132052421569824,
          -2.0254220962524414,
          -2.086618661880493,
          23.929241180419922,
          21.80791664123535,
          17.53899383544922,
          -2.054781913757324,
          -2.1297607421875,
          -2.179988145828247,
          -2.235642194747925,
          -2.056018352508545,
          -2.1073477268218994,
          16.73508071899414,
          -2.1971170902252197,
          -2.1958937644958496,
          -2.131545066833496,
          -2.03820538520813,
          -2.097099542617798,
          24.53578758239746,
          -2.020358085632324,
          -2.140533447265625,
          -2.2252357006073,
          -2.109907388687134,
          -2.242568254470825,
          -2.224475383758545,
          -2.1616697311401367,
          -2.1736485958099365,
          16.4737491607666
         ],
         "xaxis": "x",
         "y": [
          33.18474197387695,
          10.73703384399414,
          5.600434303283691,
          5.592034816741943,
          5.507122993469238,
          2.472219228744507,
          33.08894348144531,
          5.615136623382568,
          33.12575912475586,
          33.0691032409668,
          11.069559097290039,
          10.614950180053711,
          2.027231454849243,
          11.043618202209473,
          13.441476821899414,
          10.625020027160645,
          5.583205223083496,
          5.5526580810546875,
          5.5969462394714355,
          33.14205551147461,
          33.02876281738281,
          2.493377923965454,
          12.309648513793945,
          10.642460823059082,
          33.109283447265625,
          33.086910247802734,
          33.17381286621094,
          2.2722487449645996,
          5.576080322265625,
          5.587606430053711,
          3.6433775424957275,
          13.241628646850586,
          5.618736743927002,
          33.0787467956543,
          5.5088605880737305,
          13.359225273132324,
          33.105960845947266,
          5.5844407081604,
          13.378500938415527,
          3.1075279712677,
          3.21894907951355,
          2.301792621612549,
          14.157845497131348,
          2.8091440200805664,
          2.3778653144836426,
          13.118918418884277,
          33.107608795166016,
          3.676813840866089,
          33.17784881591797,
          5.573155879974365,
          3.1421167850494385,
          13.090181350708008,
          5.546935081481934,
          12.857257843017578,
          13.424577713012695,
          33.11594772338867,
          33.11433029174805,
          17.80138397216797,
          2.4523961544036865,
          2.3538522720336914,
          13.633636474609375,
          10.603208541870117,
          13.266473770141602,
          2.0082340240478516,
          3.5116806030273438,
          12.955307006835938,
          2.6566531658172607,
          -0.40752503275871277,
          3.36816668510437,
          2.5979485511779785,
          11.633502006530762,
          12.464427947998047,
          3.1024279594421387,
          2.9071249961853027,
          2.4026689529418945,
          33.09502410888672,
          3.549663782119751,
          2.930948495864868,
          2.3140950202941895,
          3.344275712966919,
          3.398806571960449,
          2.5381813049316406,
          2.546095848083496,
          2.192125082015991,
          3.269227981567383,
          2.5286195278167725,
          3.411426544189453,
          11.655717849731445,
          -0.3878959119319916,
          11.62067699432373,
          3.322575807571411,
          17.93994140625,
          2.5042402744293213,
          2.3824832439422607,
          33.05451583862305,
          5.56506872177124,
          5.53428840637207,
          5.566902160644531,
          33.19607925415039,
          33.04803466796875,
          5.556721210479736,
          5.502942085266113,
          33.0511474609375,
          13.393645286560059,
          25.478174209594727,
          13.425501823425293,
          33.12118911743164,
          33.04425811767578,
          33.056644439697266,
          33.06336975097656,
          33.22902297973633,
          5.552160263061523,
          32.99955368041992,
          33.080745697021484,
          33.0431022644043,
          5.546405792236328,
          33.08830261230469,
          5.599623680114746,
          5.510951042175293,
          33.07850646972656,
          33.04503631591797,
          33.09452438354492,
          11.042309761047363,
          33.075801849365234,
          11.079867362976074,
          5.477058410644531,
          5.571765422821045,
          5.52777624130249,
          33.07292175292969,
          5.588613033294678,
          5.652052402496338,
          33.03916549682617,
          33.11391830444336,
          13.254561424255371,
          13.30068302154541,
          11.044788360595703,
          13.389201164245605,
          5.508329391479492,
          11.061010360717773,
          5.580647945404053,
          11.05520248413086,
          5.518801212310791,
          13.352009773254395,
          11.036905288696289,
          11.043977737426758,
          11.053624153137207,
          11.079089164733887,
          5.586453437805176,
          5.487642765045166,
          33.15022659301758,
          5.473141670227051,
          12.266671180725098,
          33.11054992675781,
          5.603096008300781,
          5.617165565490723,
          5.575226783752441,
          13.40327262878418,
          5.646120548248291,
          33.01100540161133,
          33.170902252197266,
          3.181705951690674,
          11.051515579223633,
          10.812313079833984,
          33.04399871826172,
          33.03181076049805,
          33.16505432128906,
          33.071937561035156,
          33.12301254272461,
          2.4741756916046143,
          33.15217208862305,
          33.200958251953125,
          33.041927337646484,
          5.465292930603027,
          33.1588249206543,
          3.530026435852051,
          5.550673007965088,
          10.866311073303223,
          33.057861328125,
          33.21208190917969,
          5.494140148162842,
          13.427589416503906,
          5.560756206512451,
          25.421993255615234,
          13.408133506774902,
          13.406930923461914,
          2.6605231761932373,
          33.106529235839844,
          32.97401809692383,
          10.622238159179688,
          2.4372670650482178,
          12.281258583068848,
          14.184697151184082,
          33.02492141723633,
          2.6334891319274902,
          3.047318696975708,
          5.528385639190674,
          33.003273010253906,
          3.298201322555542,
          5.551036357879639,
          5.601863861083984,
          33.02320861816406,
          2.4016294479370117,
          2.934357166290283,
          33.2144660949707,
          2.5279364585876465,
          2.585583448410034,
          2.5188863277435303,
          2.2783262729644775,
          2.9635889530181885,
          2.8662221431732178,
          2.507385492324829,
          3.1666736602783203,
          2.660923719406128,
          2.4145593643188477,
          3.424974203109741,
          2.5077521800994873,
          2.707399845123291,
          2.9033775329589844,
          2.7330217361450195,
          2.554248571395874,
          2.975102663040161,
          2.9078478813171387,
          2.8809735774993896,
          2.881453514099121,
          3.1870076656341553,
          2.796002149581909,
          2.789696216583252,
          3.2879700660705566,
          3.252535104751587,
          2.6864562034606934,
          2.4674174785614014,
          2.5556278228759766,
          2.917531967163086,
          2.9915168285369873,
          2.4731132984161377,
          -18.910831451416016,
          3.086721420288086,
          2.622386932373047,
          2.966461420059204,
          2.636368989944458,
          3.291663408279419,
          2.8424742221832275,
          -19.004331588745117,
          2.827749013900757,
          2.9719772338867188,
          2.8690359592437744,
          2.6956098079681396,
          3.000415802001953,
          17.828441619873047,
          2.8496687412261963,
          2.767742395401001,
          3.1798908710479736,
          2.8260257244110107,
          -18.910980224609375,
          2.973296880722046,
          3.0090904235839844,
          2.9091598987579346,
          2.9100492000579834,
          2.795541763305664,
          2.6447365283966064,
          3.0200297832489014,
          2.632387638092041,
          2.835139513015747,
          13.086275100708008,
          25.454740524291992,
          12.113221168518066,
          2.822458267211914,
          2.874878168106079,
          2.9220197200775146,
          2.8898353576660156,
          17.904821395874023,
          2.9830427169799805,
          2.9879775047302246,
          2.9205360412597656,
          2.819082021713257,
          3.0440661907196045,
          3.1806552410125732,
          3.159850597381592,
          2.8232171535491943,
          2.8137362003326416,
          2.9155147075653076,
          2.8801193237304688,
          3.026899576187134,
          3.1048424243927,
          25.49985122680664,
          2.9128336906433105,
          2.8904311656951904,
          3.1076223850250244,
          3.1089744567871094,
          3.1034510135650635,
          2.8845977783203125,
          3.0778968334198,
          3.206613540649414,
          3.0641579627990723,
          3.160027265548706,
          3.031949996948242,
          2.9301528930664062,
          2.998751163482666,
          3.1330645084381104,
          3.101736545562744,
          3.133161783218384,
          3.1895670890808105,
          3.1776580810546875,
          3.027376174926758,
          3.141873598098755,
          3.1424999237060547,
          3.041487693786621,
          3.07598876953125,
          3.141486883163452,
          3.148606061935425,
          17.914827346801758,
          10.71247386932373,
          3.215578317642212,
          14.715604782104492,
          10.703030586242676,
          25.443233489990234,
          25.519207000732422,
          3.3460566997528076,
          3.2247140407562256,
          3.1800410747528076,
          3.278235673904419,
          3.3215596675872803,
          3.3600363731384277,
          3.3507742881774902,
          3.232893228530884,
          3.267157793045044,
          3.4699113368988037,
          3.2891340255737305,
          3.260417938232422,
          3.6078455448150635,
          3.335254430770874,
          3.4428603649139404,
          3.5316028594970703,
          3.376295328140259,
          3.350599765777588,
          3.8291549682617188,
          3.72664213180542,
          3.9159622192382812,
          3.4399445056915283,
          3.3814778327941895,
          3.4329774379730225,
          3.599457025527954,
          3.4643688201904297,
          3.6602394580841064,
          4.643338203430176,
          3.524338960647583,
          3.470885753631592,
          3.446732997894287,
          3.71205997467041,
          3.5410256385803223,
          3.6026716232299805,
          3.7824294567108154,
          3.583038806915283,
          25.44771385192871,
          3.7631351947784424,
          25.57761001586914,
          3.5041377544403076,
          3.489001750946045,
          3.7555837631225586,
          3.881667137145996,
          25.354429244995117,
          3.829817295074463,
          3.678122043609619,
          17.814231872558594,
          3.7059614658355713,
          3.8842344284057617,
          3.8268349170684814,
          3.89730167388916,
          3.8526418209075928,
          14.204362869262695,
          3.936901569366455,
          17.8868408203125,
          17.87932586669922,
          4.025983810424805,
          4.300487041473389,
          4.037769794464111,
          4.148866653442383,
          4.278816223144531,
          10.593186378479004,
          3.811399221420288,
          4.523011684417725,
          4.227080821990967,
          11.086438179016113,
          3.920823335647583,
          4.249466896057129,
          4.405653953552246,
          3.8924782276153564,
          4.05449914932251,
          4.290762901306152,
          4.4200592041015625,
          4.168153285980225,
          3.9601428508758545,
          4.048563003540039,
          4.47015905380249,
          3.763031005859375,
          4.352626323699951,
          4.133073806762695,
          4.332952499389648,
          4.574292182922363,
          4.4428863525390625,
          4.5697736740112305,
          4.378164768218994,
          4.39332914352417,
          4.425606727600098,
          13.503988265991211,
          3.8198955059051514,
          4.075708389282227,
          4.257058143615723,
          4.2923078536987305,
          4.2002081871032715,
          4.595468521118164,
          4.006499290466309,
          4.5312628746032715,
          4.058698654174805,
          4.530724048614502,
          4.614595413208008,
          3.8848562240600586,
          3.976578950881958,
          4.595795631408691,
          4.457853317260742,
          4.307861328125,
          4.200477600097656,
          4.197681427001953,
          3.8369948863983154,
          3.854377508163452,
          4.288415908813477,
          4.427422523498535,
          4.195206165313721,
          4.122692584991455,
          3.9064536094665527,
          4.69976806640625,
          4.048423767089844,
          3.972557783126831,
          4.134692192077637,
          4.22514009475708,
          4.261276721954346,
          4.065314292907715,
          3.900200843811035,
          4.009771347045898,
          4.067549705505371,
          4.315767288208008,
          4.238633632659912,
          3.8780226707458496,
          33.055416107177734,
          17.953168869018555,
          17.98735809326172,
          4.317239761352539,
          3.9651854038238525,
          4.250227928161621,
          3.9446299076080322,
          4.112668514251709,
          33.00212478637695,
          4.291825771331787,
          4.294139385223389,
          4.142221450805664,
          4.165712356567383,
          4.114461421966553,
          4.754231929779053,
          4.21969747543335,
          3.9382526874542236,
          4.0705413818359375,
          4.781778812408447,
          4.044522285461426,
          4.070599555969238,
          4.266823768615723,
          4.096627712249756,
          4.13749885559082,
          4.17878532409668,
          4.143643856048584,
          4.233722686767578,
          4.460974216461182,
          4.169114112854004,
          4.292099475860596,
          4.278135776519775,
          4.5222554206848145,
          4.332474231719971,
          4.312592506408691,
          4.083327770233154,
          4.554925441741943,
          4.065601825714111,
          4.781927585601807,
          4.602412700653076,
          4.492579936981201,
          4.315603256225586,
          25.457439422607422,
          4.383349418640137,
          4.404858112335205,
          4.497973918914795,
          17.86330795288086,
          4.194337844848633,
          4.326143741607666,
          4.247565746307373,
          4.431922435760498,
          4.544803142547607,
          4.374233722686768,
          25.376541137695312,
          25.512928009033203,
          4.352045059204102,
          4.729369640350342,
          4.285524368286133,
          4.398736476898193,
          4.956158638000488,
          4.172024250030518,
          17.92137908935547,
          14.674931526184082,
          4.431044101715088,
          4.402074337005615,
          4.524060249328613,
          4.333862781524658,
          4.204172611236572,
          4.519958972930908,
          4.789214134216309,
          4.3776350021362305,
          25.578041076660156,
          4.7352471351623535,
          14.728400230407715,
          4.482191562652588,
          14.690278053283691,
          4.393446445465088,
          4.4913740158081055,
          -0.43902119994163513,
          5.051694393157959,
          4.588622093200684,
          13.551334381103516,
          4.52947473526001,
          4.33868408203125,
          4.6503729820251465,
          4.450283527374268,
          4.340866565704346,
          11.611928939819336,
          17.694522857666016,
          4.8346734046936035,
          4.836252689361572,
          4.642426490783691,
          4.75204610824585,
          14.633699417114258,
          -17.545400619506836,
          4.80811071395874,
          4.308721542358398,
          4.66099739074707,
          4.714170455932617,
          4.676239013671875,
          4.599950313568115,
          4.904862403869629,
          4.482654571533203,
          4.812288761138916,
          5.113256931304932,
          4.663146018981934,
          4.9932332038879395,
          4.78263521194458,
          17.951780319213867,
          17.938854217529297,
          4.321829319000244,
          4.438802719116211,
          4.98181676864624,
          4.520740985870361,
          4.419206142425537,
          -18.968236923217773,
          4.878226280212402,
          5.100250244140625,
          4.907322883605957,
          4.639045715332031,
          4.7050089836120605,
          4.848631381988525,
          4.826297760009766,
          4.623596668243408,
          4.6260175704956055,
          4.761423587799072,
          4.717374324798584,
          4.545467853546143,
          4.595080852508545,
          5.179342746734619,
          5.046073913574219,
          4.718751430511475,
          4.721774578094482,
          4.510445594787598,
          5.012702465057373,
          5.0139546394348145,
          4.661355495452881,
          5.055790901184082,
          4.5197930335998535,
          5.162898063659668,
          4.7662482261657715,
          4.55061674118042,
          4.914337158203125,
          4.706700801849365,
          5.080976963043213,
          4.905128479003906,
          4.761447429656982,
          4.711442947387695,
          4.8689141273498535,
          4.861286640167236,
          4.944349765777588,
          4.969700813293457,
          4.826490879058838,
          4.767192840576172,
          5.022031307220459,
          4.693100929260254,
          5.42983341217041,
          5.1026291847229,
          4.987110137939453,
          5.332789897918701,
          5.432977199554443,
          4.7009968757629395,
          5.136794567108154,
          4.623615741729736,
          4.849498271942139,
          4.598762512207031,
          5.460750102996826,
          4.803400993347168,
          5.041727066040039,
          5.191647052764893,
          4.874874591827393,
          5.0072832107543945,
          5.115358352661133,
          5.126736164093018,
          4.9357757568359375,
          5.347136974334717,
          5.0009894371032715,
          5.429343223571777,
          5.068574905395508,
          25.393733978271484,
          5.009565830230713,
          5.041448593139648,
          14.509135246276855,
          14.212995529174805,
          5.587053298950195,
          5.258775234222412,
          5.223315238952637,
          5.272294998168945,
          4.942622184753418,
          5.236798286437988,
          5.0209126472473145,
          5.155244827270508,
          5.212202072143555,
          14.201345443725586,
          5.003311634063721,
          5.250768661499023,
          4.9068193435668945,
          5.067471504211426,
          5.049862861633301,
          -19.022703170776367,
          5.129515647888184,
          5.214062690734863,
          5.176270961761475,
          5.12393045425415,
          5.057530403137207,
          5.081082344055176,
          5.207545280456543,
          4.873075485229492,
          4.94838285446167,
          4.910972595214844,
          4.971689701080322,
          4.8911213874816895,
          4.97226619720459,
          -19.022985458374023,
          25.3778133392334,
          5.0833587646484375,
          4.9762749671936035,
          4.930873870849609,
          5.130739212036133,
          4.859770774841309,
          4.93978214263916,
          4.882879257202148,
          5.146418571472168,
          4.804338455200195,
          4.9700093269348145,
          4.924294948577881,
          4.77732515335083,
          4.872641086578369,
          4.919860363006592,
          14.945804595947266,
          4.803337097167969,
          4.934897422790527,
          25.477954864501953,
          4.9470930099487305,
          4.916922569274902,
          4.745507717132568,
          -18.975221633911133,
          4.66469669342041,
          4.811578273773193,
          4.762009620666504,
          4.637275218963623,
          4.814331531524658,
          4.802713394165039,
          4.57550573348999,
          4.576615333557129,
          4.6498942375183105,
          4.571986198425293,
          15.092291831970215,
          4.523528575897217,
          4.59537935256958,
          4.451267719268799,
          4.733811378479004,
          4.667571067810059,
          4.549339294433594,
          4.543493747711182,
          4.713332653045654,
          4.43270206451416,
          4.435963153839111,
          4.569386959075928,
          25.458511352539062,
          25.329225540161133,
          4.668715476989746,
          4.66537618637085,
          25.417259216308594,
          10.717428207397461,
          25.553255081176758,
          4.474461078643799,
          17.95403480529785,
          15.069428443908691,
          -18.9703311920166,
          17.881183624267578,
          11.372364044189453,
          4.569939136505127,
          4.523226737976074,
          25.489877700805664,
          4.451076030731201,
          4.300611972808838,
          4.393876075744629,
          4.488868713378906,
          4.455079555511475,
          4.497471332550049,
          4.628528594970703,
          4.382603168487549,
          4.215941429138184,
          4.471935272216797,
          4.1825151443481445,
          4.472970962524414,
          4.245637893676758,
          4.284306526184082,
          4.50866174697876,
          4.267723083496094,
          4.383334636688232,
          25.45099639892578,
          4.293237209320068,
          4.191440105438232,
          4.281588077545166,
          4.32451057434082,
          4.231601238250732,
          4.246622085571289,
          25.45839500427246,
          25.435665130615234,
          -18.974939346313477,
          17.831018447875977,
          3.9926340579986572,
          4.260503768920898,
          4.086869239807129,
          4.356656074523926,
          3.764115571975708,
          3.949309825897217,
          4.112579822540283,
          4.375068664550781,
          4.175726890563965,
          3.6792874336242676,
          4.197605609893799,
          25.413665771484375,
          4.338511943817139,
          4.143672466278076,
          25.47676658630371,
          4.354405879974365,
          25.367883682250977,
          4.180887699127197,
          4.074444770812988,
          4.103976726531982,
          3.96337890625,
          3.629952907562256,
          3.8378565311431885,
          4.218843460083008,
          4.300602912902832,
          4.190199375152588,
          3.9501516819000244,
          3.422574996948242,
          3.920147657394409,
          4.22864294052124,
          4.150724411010742,
          3.9274210929870605,
          4.1399688720703125,
          4.175065994262695,
          4.047806739807129,
          4.17420768737793,
          3.5851082801818848,
          17.955108642578125,
          3.9761950969696045,
          3.8409063816070557,
          3.9203243255615234,
          13.097818374633789,
          4.047938346862793,
          3.6799724102020264,
          3.7123191356658936,
          3.8981125354766846,
          14.19786262512207,
          4.087562561035156,
          3.7670626640319824,
          3.76359224319458,
          3.808267116546631,
          3.661001682281494,
          3.8113739490509033,
          3.6154890060424805,
          4.0058112144470215,
          3.7530195713043213,
          3.8693480491638184,
          4.030327796936035,
          3.596611738204956,
          3.8214402198791504,
          3.747068166732788,
          3.365708351135254,
          3.3617351055145264,
          3.6292853355407715,
          3.440270185470581,
          3.7579829692840576,
          3.9912099838256836,
          3.9380593299865723,
          3.5844461917877197,
          3.8512141704559326,
          3.9092955589294434,
          3.5403635501861572,
          3.621471643447876,
          3.911559820175171,
          3.789785146713257,
          3.7978763580322266,
          3.673050880432129,
          3.8725550174713135,
          3.658984661102295,
          3.6081690788269043,
          3.6384153366088867,
          3.7259087562561035,
          3.7592523097991943,
          3.4740045070648193,
          3.4716954231262207,
          3.670799493789673,
          3.6225481033325195,
          3.5294365882873535,
          3.6477749347686768,
          3.7404797077178955,
          3.6889078617095947,
          3.7140285968780518,
          3.4546315670013428,
          3.6776325702667236,
          3.689964532852173,
          3.723588228225708,
          3.3219053745269775,
          3.3489768505096436,
          3.618569850921631,
          3.62185001373291,
          3.661003351211548,
          3.6985273361206055,
          3.4280314445495605,
          3.489020586013794,
          3.574857234954834,
          3.455764055252075,
          3.559373140335083,
          3.5629358291625977,
          3.4914329051971436,
          3.387052059173584,
          3.3959178924560547,
          3.4242584705352783,
          3.80307674407959,
          3.64621639251709,
          3.1809446811676025,
          3.3684887886047363,
          3.5710268020629883,
          3.1476175785064697,
          3.414438486099243,
          3.256516456604004,
          3.443897008895874,
          3.400360107421875,
          3.3251380920410156,
          3.254521131515503,
          3.4457855224609375,
          3.4894332885742188,
          3.3877944946289062,
          3.355435848236084,
          3.3013226985931396,
          3.4263601303100586,
          3.1864013671875,
          3.3042852878570557,
          3.0355124473571777,
          3.1207492351531982,
          3.160724401473999,
          3.155277967453003,
          3.0776405334472656,
          3.227217435836792,
          3.206425905227661,
          3.0712177753448486,
          3.1538314819335938,
          3.1366217136383057,
          3.125947952270508,
          3.0548360347747803,
          3.1068921089172363,
          3.0761139392852783,
          2.97177791595459,
          4.0468363761901855,
          4.061684608459473,
          4.064347267150879,
          4.07927942276001,
          4.066195964813232,
          4.0762939453125,
          4.07089376449585,
          4.068427085876465,
          4.065526008605957,
          4.074674129486084,
          4.059950351715088,
          4.068246841430664,
          4.076108455657959,
          4.076174259185791,
          5.597318172454834,
          3.286895275115967,
          5.919301986694336,
          3.4519715309143066,
          5.314145088195801,
          3.8288497924804688,
          3.3374242782592773,
          3.224684953689575,
          2.8562448024749756,
          3.7469732761383057,
          3.7698562145233154,
          3.538545608520508,
          3.164487361907959,
          3.6611971855163574,
          3.2231197357177734,
          2.5809805393218994,
          3.1822547912597656,
          3.2939224243164062,
          2.2746856212615967,
          3.7505316734313965,
          3.4362311363220215,
          3.6805202960968018,
          3.719719886779785,
          3.4573018550872803,
          3.4940056800842285,
          3.169440984725952,
          3.4934346675872803,
          3.3898212909698486,
          3.481879234313965,
          3.1204898357391357,
          3.754987955093384,
          3.453935146331787,
          3.4373550415039062,
          3.32576847076416,
          3.497586488723755,
          3.336355447769165,
          3.291510820388794,
          3.2823410034179688,
          3.3222267627716064,
          3.3052449226379395,
          3.3666269779205322,
          3.514488697052002,
          3.3192803859710693,
          3.337859630584717,
          3.0112662315368652,
          3.332988739013672,
          3.428985595703125,
          3.2506136894226074,
          3.275824785232544,
          2.872173309326172,
          3.062720775604248,
          3.1684155464172363,
          3.335604190826416,
          3.413477897644043,
          3.103482246398926,
          2.799164056777954,
          3.166163921356201,
          3.046203374862671,
          3.2372567653656006,
          3.0493955612182617,
          2.9916722774505615,
          2.6102607250213623,
          2.940605878829956,
          2.6144282817840576,
          3.078519344329834,
          3.2156100273132324,
          2.704195499420166,
          3.184175968170166,
          2.8328893184661865,
          2.941411256790161,
          3.07882022857666,
          3.120932102203369,
          2.571530818939209,
          2.959575653076172,
          3.1412928104400635,
          2.7934322357177734,
          2.9442391395568848,
          2.8433966636657715,
          3.11877179145813,
          2.7113704681396484,
          2.998424530029297,
          2.897067070007324,
          2.644481658935547,
          2.7522168159484863,
          2.5421786308288574,
          2.8118278980255127,
          2.9435675144195557,
          2.9093549251556396,
          2.610649347305298,
          2.7663965225219727,
          2.669135570526123,
          3.1270225048065186,
          3.0001132488250732,
          2.974552631378174,
          2.749558687210083,
          2.6764540672302246,
          2.42397141456604,
          2.7678029537200928,
          17.80394172668457,
          3.2257981300354004,
          2.755965232849121,
          3.062573194503784,
          2.914102554321289,
          2.757276773452759,
          2.9764962196350098,
          2.98410701751709,
          3.375216245651245,
          2.7585666179656982,
          2.8566877841949463,
          3.047276258468628,
          2.9208078384399414,
          2.9274346828460693,
          2.8529341220855713,
          3.026106119155884,
          17.953754425048828,
          2.8098514080047607,
          2.995551586151123,
          2.9729044437408447,
          3.0451483726501465,
          3.1033709049224854,
          3.2776360511779785,
          3.1651105880737305,
          2.900710344314575,
          3.173926591873169,
          25.492536544799805,
          25.568391799926758,
          3.170212745666504,
          3.0944294929504395,
          3.1805710792541504,
          3.0254597663879395,
          3.153503179550171,
          3.2309296131134033,
          3.0911614894866943,
          3.0893850326538086,
          3.193324089050293,
          3.3301310539245605,
          3.1233808994293213,
          3.114236354827881,
          3.463125467300415,
          17.925199508666992,
          17.97779655456543,
          17.9719181060791,
          17.826875686645508,
          17.971036911010742,
          3.2337636947631836,
          17.840778350830078,
          3.1882541179656982,
          18.030797958374023,
          3.238342523574829,
          3.261090040206909,
          3.237260103225708,
          3.368645191192627,
          3.2490625381469727,
          3.3353888988494873,
          3.3093738555908203,
          17.785268783569336,
          17.85532569885254,
          17.967966079711914,
          17.81842803955078,
          17.849586486816406,
          17.98080062866211,
          17.992515563964844,
          18.11849594116211,
          17.994274139404297,
          18.01572608947754,
          17.897829055786133,
          17.887910842895508,
          17.830280303955078,
          17.932235717773438,
          3.359656572341919,
          3.4323911666870117,
          12.120221138000488,
          25.489727020263672,
          3.5154411792755127,
          3.3219566345214844,
          14.711008071899414,
          3.594160318374634,
          3.4925649166107178,
          3.2597477436065674,
          3.2793333530426025,
          3.737375259399414,
          25.32040786743164,
          18.009397506713867,
          25.333066940307617,
          3.381455183029175,
          18.104148864746094,
          25.461488723754883,
          12.138897895812988,
          25.545860290527344,
          3.3655295372009277,
          3.261996030807495,
          3.3543944358825684,
          18.0395450592041,
          4.354661464691162,
          25.503549575805664,
          3.6091830730438232,
          3.439188241958618,
          4.8186750411987305,
          3.452085018157959,
          5.34133243560791,
          3.572075605392456,
          5.30914831161499,
          3.44884991645813,
          5.349935531616211,
          3.501849889755249,
          3.548962116241455,
          4.708456516265869,
          3.5323636531829834,
          3.604940176010132,
          25.5393009185791,
          3.546100616455078,
          5.298095226287842,
          17.89206886291504,
          5.675389766693115,
          -19.116823196411133,
          17.969356536865234,
          -19.041603088378906,
          5.083686351776123,
          5.341798782348633,
          3.831819772720337,
          4.238256931304932,
          3.6577091217041016,
          3.880613327026367,
          4.778563022613525,
          4.540978908538818,
          3.828812837600708,
          5.0462965965271,
          4.059248924255371,
          4.870804309844971,
          4.0037689208984375,
          4.946873188018799,
          5.035759925842285,
          3.7690646648406982,
          5.119013786315918,
          5.081557750701904,
          5.199085712432861,
          4.860334873199463,
          4.959880828857422,
          5.312326908111572,
          5.593888282775879,
          5.485583782196045,
          3.8186280727386475,
          5.103292465209961,
          5.181711673736572,
          33.140045166015625,
          5.100913047790527,
          12.948623657226562,
          5.154444217681885,
          5.7580742835998535,
          5.433145046234131,
          5.262636661529541,
          11.630109786987305,
          11.627038955688477,
          -19.017436981201172,
          -0.3795064091682434,
          13.126704216003418,
          5.142179489135742,
          5.870021820068359,
          -0.46785497665405273,
          5.363659858703613,
          -18.972328186035156,
          5.331309795379639,
          25.475927352905273,
          5.16888952255249,
          18.0511474609375,
          18.134702682495117,
          18.17133140563965,
          18.071786880493164,
          5.973137378692627,
          18.071239471435547,
          18.01472282409668,
          10.77382755279541,
          5.928239345550537,
          10.797338485717773,
          4.983983516693115,
          25.325468063354492,
          18.047563552856445,
          14.510849952697754,
          5.294403076171875,
          5.33096170425415,
          5.294257640838623,
          5.453474521636963,
          18.158071517944336,
          17.99418067932129,
          -19.05126953125,
          -18.981794357299805,
          12.922709465026855,
          5.819887638092041,
          18.112455368041992,
          25.44120216369629,
          5.75659704208374,
          5.55501651763916,
          5.456577301025391,
          5.094839096069336,
          5.5508551597595215,
          5.606400489807129,
          6.180120944976807,
          -18.878469467163086,
          -19.006364822387695,
          25.38262176513672,
          -18.87671661376953,
          -19.022371292114258,
          5.681979656219482,
          5.428616046905518,
          5.354233264923096,
          6.195219993591309,
          -0.4266173243522644,
          5.698590278625488,
          5.867892742156982,
          5.43715238571167,
          5.655035972595215,
          6.081085681915283,
          18.08579444885254,
          18.05950927734375,
          18.14825439453125,
          5.850412845611572,
          6.094192981719971,
          17.906240463256836,
          17.943628311157227,
          18.16299057006836,
          5.764620304107666,
          6.138801097869873,
          -0.39015448093414307,
          14.519399642944336,
          17.893062591552734,
          5.995406150817871,
          5.954508304595947,
          5.771575450897217,
          25.530412673950195,
          25.405065536499023,
          32.96942138671875,
          33.00701904296875,
          13.396563529968262,
          33.011592864990234,
          13.424430847167969,
          5.6701765060424805,
          14.154195785522461,
          33.156646728515625,
          33.12717056274414,
          6.106825351715088,
          17.971525192260742,
          17.913345336914062,
          18.080554962158203,
          6.403424263000488,
          5.887189865112305,
          5.58125114440918,
          6.224908351898193,
          5.564278602600098,
          6.205591678619385,
          5.73594331741333,
          18.064390182495117,
          10.704079627990723,
          18.168212890625,
          17.956947326660156,
          18.028404235839844,
          -18.944908142089844,
          18.000978469848633,
          17.986865997314453,
          -18.88794708251953,
          18.010009765625,
          17.97542953491211,
          17.915803909301758,
          18.034557342529297,
          17.996540069580078,
          -19.0376033782959,
          17.868629455566406,
          18.078041076660156,
          18.060672760009766,
          17.802391052246094,
          5.60413122177124,
          18.1013126373291,
          -18.995271682739258,
          18.015146255493164,
          18.21244239807129,
          5.966360092163086,
          17.873689651489258,
          6.306599140167236,
          17.746673583984375,
          15.1292142868042,
          25.42518424987793,
          17.818464279174805,
          10.677543640136719,
          25.47454833984375,
          6.429615020751953,
          6.927788257598877,
          18.079652786254883,
          17.831314086914062,
          6.066070556640625,
          6.582383632659912,
          17.877906799316406,
          17.959856033325195,
          5.635390758514404,
          6.026237487792969,
          17.860305786132812,
          5.890617847442627,
          17.903335571289062,
          6.112882614135742,
          17.813989639282227,
          17.942405700683594,
          -17.676433563232422,
          6.478862762451172,
          6.3924150466918945,
          -0.42231255769729614,
          17.87993621826172,
          18.114023208618164,
          5.438000202178955,
          5.546211242675781,
          5.461740016937256,
          17.88458824157715,
          17.734766006469727,
          6.12508487701416,
          5.995128631591797,
          18.16686248779297,
          5.997939586639404,
          5.754290580749512,
          6.252902984619141,
          17.94867706298828,
          18.009685516357422,
          33.083740234375,
          33.009403228759766,
          13.537203788757324,
          17.676746368408203,
          17.924776077270508,
          17.96463394165039,
          6.3316569328308105,
          6.638367652893066,
          -19.073719024658203,
          6.569965839385986,
          17.868545532226562,
          -0.40693533420562744,
          33.18516540527344,
          6.7546820640563965,
          -18.841115951538086,
          6.500210285186768,
          17.664575576782227,
          14.19030475616455,
          17.52914810180664,
          13.415390014648438,
          6.675018787384033,
          6.632811546325684,
          -18.87413787841797,
          -0.4170595705509186,
          12.104593276977539,
          5.577901840209961,
          5.572211742401123,
          6.330449104309082,
          5.952361106872559,
          6.796584606170654,
          5.736191272735596,
          5.836831569671631,
          6.664449214935303,
          6.576241970062256,
          6.178910732269287,
          6.856464862823486,
          6.013932704925537,
          6.066680908203125,
          6.239559650421143,
          25.440692901611328,
          6.733677864074707,
          -0.40329065918922424,
          7.052133083343506,
          32.98763656616211,
          11.055052757263184,
          6.299458026885986,
          33.21548843383789,
          6.547891139984131,
          10.555681228637695,
          10.610260009765625,
          25.487586975097656,
          25.43115234375,
          -18.850967407226562,
          25.262006759643555,
          25.43548583984375,
          25.356342315673828,
          25.390867233276367,
          25.440654754638672,
          10.723246574401855,
          25.27722930908203,
          -18.95452880859375,
          25.43656349182129,
          25.348371505737305,
          25.370059967041016,
          25.326358795166016,
          25.479225158691406,
          25.552913665771484,
          6.068572998046875,
          6.3361897468566895,
          17.839527130126953,
          25.302343368530273,
          25.442489624023438,
          25.517257690429688,
          5.632786273956299,
          5.5360870361328125,
          5.7733283042907715,
          25.269580841064453,
          25.489166259765625,
          6.198741912841797,
          -17.546688079833984,
          17.76318359375,
          17.89638328552246,
          25.586013793945312,
          6.204313278198242,
          17.844362258911133,
          6.35040283203125,
          6.033555507659912,
          6.383334159851074,
          25.313526153564453,
          11.0997314453125,
          -17.543014526367188,
          6.0112810134887695,
          25.418304443359375,
          5.9306817054748535,
          25.409221649169922,
          -18.887130737304688,
          6.801767826080322,
          25.294580459594727,
          25.526390075683594,
          25.309316635131836,
          6.2355194091796875,
          6.497410774230957,
          6.226640224456787,
          5.849435329437256,
          -17.587617874145508,
          6.400309085845947,
          -0.42480993270874023,
          14.575947761535645,
          25.395729064941406,
          6.881450653076172,
          -17.777420043945312,
          14.207358360290527,
          6.53427267074585,
          12.118945121765137,
          15.124743461608887,
          -0.4407240152359009,
          -0.37643373012542725,
          25.472457885742188,
          6.347232818603516,
          25.361743927001953,
          -18.971424102783203,
          7.16737699508667,
          17.733932495117188,
          6.13108491897583,
          -17.590181350708008,
          5.49349308013916,
          5.541772365570068,
          10.646004676818848,
          5.626552581787109,
          5.5981526374816895,
          10.625815391540527,
          13.12076473236084,
          6.67449951171875,
          13.123905181884766,
          13.498982429504395,
          12.461310386657715,
          -0.4088183641433716,
          6.2480621337890625,
          6.414058208465576,
          14.51003360748291,
          -0.48725610971450806,
          14.470409393310547,
          25.46338653564453,
          13.148002624511719,
          6.401795864105225,
          17.911897659301758,
          14.729848861694336,
          15.015202522277832,
          14.674368858337402,
          14.51789665222168,
          25.379362106323242,
          17.684097290039062,
          17.911252975463867,
          12.957758903503418,
          14.17264461517334,
          14.49400520324707,
          17.488080978393555,
          14.21827507019043,
          6.618837833404541,
          6.966333389282227,
          12.954462051391602,
          13.410387992858887,
          14.708277702331543,
          6.132081031799316,
          12.117467880249023,
          12.892609596252441,
          6.662911415100098,
          6.244613170623779,
          7.190620422363281,
          25.475160598754883,
          15.16134262084961,
          12.8399019241333,
          14.373550415039062,
          7.151881217956543,
          6.765342712402344,
          14.18450927734375,
          7.0703277587890625,
          14.460599899291992,
          6.241179466247559,
          13.492692947387695,
          6.043342113494873,
          14.529793739318848,
          25.433168411254883,
          6.6248297691345215,
          -0.39507874846458435,
          6.611311912536621,
          7.069792747497559,
          17.921466827392578,
          6.073001384735107,
          6.487471580505371,
          7.040008544921875,
          6.7513346672058105,
          25.51875877380371,
          7.160740375518799,
          25.62512969970703,
          6.492153644561768,
          33.05552673339844,
          33.045169830322266,
          13.05128288269043,
          -0.37310725450515747,
          6.359559059143066,
          -19.04819107055664,
          -19.01339340209961,
          6.71291446685791,
          -0.4601687788963318,
          15.120542526245117,
          14.201801300048828,
          -0.4531494677066803,
          14.738983154296875,
          12.106691360473633,
          7.269298076629639,
          11.659069061279297,
          6.84067964553833,
          14.213293075561523,
          14.175209999084473,
          -18.91438865661621,
          14.180069923400879,
          11.630784034729004,
          6.906863212585449,
          14.713582038879395,
          11.617903709411621,
          -0.4522818922996521,
          -0.3927901089191437,
          11.790886878967285,
          14.413701057434082,
          6.810967445373535,
          14.734431266784668,
          -0.43996718525886536,
          6.447675704956055,
          6.141988277435303,
          6.603950500488281,
          6.102167129516602,
          10.679281234741211,
          6.57203483581543,
          -0.43569618463516235,
          7.323540210723877,
          6.765480995178223,
          17.65682029724121,
          7.048904895782471,
          17.976362228393555,
          33.03221130371094,
          6.1811676025390625,
          6.668694496154785,
          -0.4172474145889282,
          6.648930072784424,
          6.124753952026367,
          -18.93048667907715,
          15.387476921081543,
          15.131969451904297,
          15.097077369689941,
          15.139092445373535,
          17.610206604003906,
          17.76580238342285,
          14.19924259185791,
          14.145309448242188,
          14.186144828796387,
          7.014942169189453,
          6.634369850158691,
          14.194509506225586,
          14.21656608581543,
          15.12935733795166,
          6.216738224029541,
          6.8569254875183105,
          25.559677124023438,
          6.512693405151367,
          6.985304355621338,
          15.135797500610352,
          6.323598384857178,
          6.661181926727295,
          14.155926704406738,
          14.173646926879883,
          14.548526763916016,
          14.559098243713379,
          32.880088806152344,
          25.359630584716797,
          17.806859970092773,
          6.497828960418701,
          7.100807189941406,
          6.835439205169678,
          6.834163188934326,
          7.070605754852295,
          6.524338722229004,
          6.247568607330322,
          6.217208385467529,
          6.683154106140137,
          6.744570255279541,
          6.6729230880737305,
          6.012547969818115,
          6.683049201965332,
          6.492680072784424,
          6.6607747077941895,
          6.429565906524658,
          11.634037971496582,
          -0.4134453535079956,
          6.445333480834961,
          5.91579008102417,
          6.1314697265625,
          17.677066802978516,
          6.461307525634766,
          6.3155837059021,
          6.2125396728515625,
          6.480630397796631,
          5.626713275909424,
          6.2129645347595215,
          6.055957317352295,
          5.752673149108887,
          6.227896213531494,
          5.889188766479492,
          5.756642818450928,
          6.393845081329346,
          6.367718696594238,
          5.880739688873291,
          6.405213832855225,
          5.6561102867126465,
          6.112583637237549,
          6.088238716125488,
          6.055841445922852,
          5.88890266418457,
          18.09901237487793,
          11.059271812438965,
          5.901970386505127,
          32.954750061035156,
          5.771008491516113,
          5.626408576965332,
          5.894162654876709,
          5.746676445007324,
          6.209385395050049,
          17.761184692382812,
          5.5644097328186035,
          5.556952476501465,
          25.423845291137695,
          5.791403770446777,
          5.781919956207275,
          5.968173027038574,
          5.828831672668457,
          17.79831314086914,
          5.5818986892700195,
          5.715302467346191,
          5.548243999481201,
          5.801748752593994,
          25.541616439819336,
          17.856252670288086,
          5.440646648406982,
          5.449746608734131,
          5.482436180114746,
          5.746918678283691,
          5.557195663452148,
          5.3716888427734375,
          5.843328952789307,
          5.604062557220459,
          5.4650726318359375,
          5.732475280761719,
          5.760580062866211,
          18.14206886291504,
          5.508101940155029,
          5.651424884796143,
          5.524307727813721,
          5.445703506469727,
          5.320917129516602,
          5.695220947265625,
          5.201846122741699,
          5.196985244750977,
          5.504482269287109,
          5.622034549713135,
          17.733320236206055,
          5.652115821838379,
          5.201092720031738,
          17.89971160888672,
          12.140091896057129,
          12.114455223083496,
          5.438678741455078,
          5.039290904998779,
          4.729380130767822,
          5.414649486541748,
          4.906708240509033,
          5.4205498695373535,
          4.664774417877197,
          10.733757019042969,
          13.109278678894043,
          14.307185173034668,
          13.076093673706055,
          25.398744583129883,
          12.068453788757324,
          5.239109992980957,
          -18.848793029785156,
          4.960758686065674,
          5.222527027130127,
          5.186103343963623,
          -18.988290786743164,
          5.413745880126953,
          4.6178083419799805,
          17.604766845703125,
          5.005215644836426,
          -0.31917816400527954,
          4.477147579193115,
          4.968088626861572,
          5.0234055519104,
          4.952322959899902,
          -18.896238327026367,
          17.77410316467285,
          17.76486587524414,
          25.52027130126953,
          4.99770450592041,
          5.108980655670166,
          4.5574469566345215,
          4.757311820983887,
          11.629874229431152,
          4.716854572296143,
          5.032751083374023,
          4.70208215713501,
          4.593000411987305,
          17.886770248413086,
          4.916885852813721,
          4.74888801574707,
          4.492029190063477,
          4.625533103942871,
          -18.848482131958008,
          -18.818302154541016,
          5.580699443817139,
          33.148468017578125,
          33.10435104370117,
          11.02685832977295,
          4.804332733154297,
          4.66052770614624,
          4.5040740966796875,
          4.634128570556641,
          -18.763872146606445,
          -0.4908759295940399,
          4.466806411743164,
          4.720101833343506,
          4.805263996124268,
          4.833863735198975,
          4.542667388916016,
          4.706545352935791,
          17.910579681396484,
          4.899838924407959,
          12.175695419311523,
          17.84014320373535,
          33.27028274536133,
          4.829256057739258,
          4.50464391708374,
          25.411949157714844,
          25.55378532409668,
          -0.4213903546333313,
          25.32529640197754,
          4.623128890991211,
          4.714270114898682,
          4.609017848968506,
          4.588394641876221,
          4.854045391082764,
          4.72573184967041,
          4.5536699295043945,
          4.872302532196045,
          4.537163734436035,
          4.714070796966553,
          4.482369422912598,
          4.778914928436279,
          4.580397129058838,
          4.5781402587890625,
          4.570950031280518,
          4.512258052825928,
          4.500982284545898,
          4.782430648803711,
          -0.3467181921005249,
          4.5468668937683105,
          4.771965026855469,
          4.545125484466553,
          4.662447929382324,
          5.58732795715332,
          4.492039203643799,
          4.671449184417725,
          4.609481334686279,
          4.733382701873779,
          4.68001651763916,
          4.6776347160339355,
          4.446700572967529,
          4.685909271240234,
          4.560046195983887,
          4.623745918273926,
          4.641565799713135,
          4.609372138977051,
          4.618325233459473,
          4.5626935958862305,
          4.610561370849609,
          4.499782085418701,
          4.618746280670166,
          4.517384052276611,
          4.601447582244873,
          4.4768805503845215,
          4.452615261077881,
          4.485202312469482,
          4.521054744720459,
          13.401432991027832,
          4.471844673156738,
          4.633684158325195,
          4.44775390625,
          4.5148773193359375,
          4.385621070861816,
          4.422237873077393,
          4.469874858856201,
          4.261411666870117,
          12.964722633361816,
          -19.011634826660156,
          -19.019861221313477,
          -19.080488204956055,
          4.409404754638672,
          12.140719413757324,
          4.470223903656006,
          4.478174686431885,
          4.440080165863037,
          4.4799485206604,
          4.3538360595703125,
          4.529371738433838,
          -19.0324764251709,
          -0.43536001443862915,
          4.448318004608154,
          25.360544204711914,
          4.4839935302734375,
          4.340734481811523,
          25.388532638549805,
          4.3298187255859375,
          4.451952934265137,
          25.546770095825195,
          4.310073375701904,
          4.405135154724121,
          4.008325576782227,
          4.34412956237793,
          4.321566581726074,
          -0.29194214940071106,
          -18.879526138305664,
          4.422770023345947,
          4.338578701019287,
          4.342748641967773,
          -0.3834124505519867,
          4.183297157287598,
          11.649799346923828,
          4.441390514373779,
          4.087150573730469,
          4.284053802490234,
          4.059347629547119,
          4.291174411773682,
          4.188107490539551,
          4.339667320251465,
          4.2359209060668945,
          3.994434356689453,
          4.252382755279541,
          4.139024257659912,
          4.252620697021484,
          4.395608901977539,
          12.951102256774902,
          4.208667278289795,
          4.081919193267822,
          4.194322109222412,
          3.8727526664733887,
          3.8609955310821533,
          3.587928295135498,
          3.9841835498809814,
          3.578272819519043,
          3.415473699569702,
          4.179197788238525,
          4.2271881103515625,
          4.039796352386475,
          3.687532663345337,
          3.6583497524261475,
          3.498195171356201,
          4.1915435791015625,
          3.9618473052978516,
          5.479071140289307,
          4.164089202880859,
          4.274937152862549,
          17.573326110839844,
          4.109242916107178,
          4.008266448974609,
          4.1759514808654785,
          3.6349220275878906,
          3.733186960220337,
          4.108952522277832,
          4.038058280944824,
          4.179331302642822,
          4.086880683898926,
          3.5361835956573486,
          3.6927711963653564,
          3.9485831260681152,
          3.4666624069213867,
          3.930246353149414,
          25.429718017578125,
          25.272790908813477,
          4.0245208740234375,
          25.671621322631836,
          18.184728622436523,
          3.7542529106140137,
          3.9006235599517822,
          3.9443469047546387,
          3.817589044570923,
          4.132352352142334,
          17.71571159362793,
          3.6436305046081543,
          4.065380096435547,
          3.9712729454040527,
          4.0446062088012695,
          18.054473876953125,
          3.7481861114501953,
          3.643237590789795,
          3.9349896907806396,
          4.018474578857422,
          3.863755226135254,
          3.8997323513031006,
          3.919499397277832,
          3.6983962059020996,
          3.7574586868286133,
          3.776876449584961,
          33.12751770019531,
          4.01300048828125,
          3.5470170974731445,
          3.9263832569122314,
          33.12018585205078,
          3.537404775619507,
          3.7919678688049316,
          4.0242919921875,
          3.8050692081451416,
          33.17561721801758,
          14.7338285446167,
          14.967377662658691,
          3.944937229156494,
          3.9243035316467285,
          -0.35639530420303345,
          -0.4597417116165161,
          3.7851686477661133,
          3.9932069778442383,
          14.718975067138672,
          17.7226619720459,
          11.623966217041016,
          18.021087646484375,
          15.124829292297363,
          3.9433441162109375,
          3.9006659984588623,
          18.014076232910156,
          3.804189920425415,
          13.083247184753418,
          3.8377959728240967,
          -0.37841683626174927,
          -0.3802841305732727,
          11.641824722290039,
          4.061141490936279,
          15.137236595153809,
          3.872152328491211,
          3.7057929039001465,
          3.8967325687408447,
          25.28671646118164,
          3.784674882888794,
          32.98424530029297,
          33.239097595214844,
          33.11164093017578,
          33.14105224609375,
          10.639628410339355,
          14.157336235046387,
          14.196076393127441,
          -0.4695794880390167,
          33.13469314575195,
          -0.40903618931770325,
          3.910787343978882,
          3.6793618202209473,
          3.7986769676208496,
          13.431048393249512,
          10.715728759765625,
          25.32668685913086,
          3.872967004776001,
          3.6617276668548584,
          3.796983003616333,
          3.8000991344451904,
          3.683690071105957,
          3.8169164657592773,
          -18.973546981811523,
          3.6832549571990967,
          3.8465981483459473,
          3.7515366077423096,
          3.6903018951416016,
          3.849994659423828,
          17.80669403076172,
          3.6396687030792236,
          3.8844573497772217,
          3.8217170238494873,
          3.699629068374634,
          3.732130289077759,
          3.8267972469329834,
          3.6845057010650635,
          3.6588025093078613,
          -0.3958602547645569
         ],
         "yaxis": "y"
        },
        {
         "customdata": [
          [
           "Ejecutivo de ventas Tecnología",
           "CPS OCCIDENTE SA DE CV",
           null
          ],
          [
           "Comprador SR",
           "Importante empresa del sector",
           240000
          ],
          [
           "LM235: Invoicing Agent",
           "FedEx",
           6000
          ],
          [
           "LM235: Invoicing Agent",
           "FedEx Group",
           6000
          ],
          [
           "Senior Principal Customer Success Manager",
           "Oracle",
           null
          ],
          [
           "Senior Principal Customer Success Manager",
           "Oracle",
           null
          ],
          [
           "Analog Validation Intern",
           "Intel",
           null
          ],
          [
           "Admin Office Services and Project Analyst Intern",
           "Intel",
           null
          ],
          [
           "Account Receivable analyst",
           "IBM",
           null
          ],
          [
           "Accounts Receivable Specialist",
           "IBM",
           null
          ],
          [
           "Administrativoa Turno de día",
           "Koks Articulos para el hogar",
           120000
          ],
          [
           "Diseñadora Marketing digital",
           "COSMETOLOGIA A LA VANGUARDIA",
           144000
          ],
          [
           "Líder de servicio Hospitalario Endoscopia",
           "Importante empresa del sector",
           240000
          ],
          [
           "Ejecutivo Telemarketing Mitsubishi González Gallo",
           "MITSUBISHI",
           null
          ],
          [
           "Finance Manager Plant Controller",
           "Importante Empresa de Manufactura Automotriz",
           null
          ],
          [
           "Analista de Gobierno y Calidad de Datos",
           "Importante empresa del sector",
           240000
          ],
          [
           "Despacho Jurídico Lider en su ramo solicita - Abogado Civil ó laboral",
           "HUMAN SERVICES",
           6000
          ],
          [
           "Encargadoa de recepcin Medio turno",
           "FAST OFFICE BIENES RAICES",
           60000
          ],
          [
           "Ing. Civil",
           "GEORADAR Y POLIMEROS",
           120000
          ],
          [
           "Agente de ventas y Atención al cliente",
           "HR EL REY DE LOS ENVIOS",
           120000
          ],
          [
           "Auxiliar administrativoa Matutino",
           "IZITRO",
           67200
          ],
          [
           "Auxiliar administrativoa",
           "Logística, Viajes y Bodas SA de CV",
           195144
          ],
          [
           "Auxiliar administrativoa",
           "Mantenimiento de Limpieza Corporativa Sa de Cv",
           144000
          ],
          [
           "Auditor interno Auditor de farmacias",
           "Comialex, S.A. de C.V.",
           180000
          ],
          [
           "Asistente Administrativo Con experiencia",
           "Integrador de soluciones",
           null
          ],
          [
           "Supervisor de atención telefónica multinivel",
           "Importante empresa del sector",
           213600
          ],
          [
           "Asistente Personal Ejecutivo",
           "Metova",
           null
          ],
          [
           "Agente de ventas herramienta industrial metalmecanico",
           "DISTRIBUIDORA DE HERRAMIENTAS UNICORNIO",
           112200
          ],
          [
           "Monitorista Gps de Unidades de Transporte Ubicación Tonalá",
           "SESRH",
           120000
          ],
          [
           "Asistente administrativo Turno diurno, experiencia deseable.",
           "Capacitadora Educator",
           null
          ],
          [
           "Asistente personal para direccion",
           "Tecnología en Seguridad BBOX",
           null
          ],
          [
           "Administradora Full time",
           "Nuvi",
           120000
          ],
          [
           "Auxiliar contable y administrativo",
           "Intralix",
           180000
          ],
          [
           "Analista de Recursos Humano Zona Andares",
           "Jumamex",
           null
          ],
          [
           "Asistente administrativo en Despacho de servicios",
           "UBALDO JUÁREZ GARCÍA",
           96000
          ],
          [
           "Supervisor de seguridad patrimonial",
           "Importante empresa del sector Manufactura",
           null
          ],
          [
           "Capitán",
           "CONCEPTOS OCEGUEDA",
           null
          ],
          [
           "Recepcionista",
           "Urban Bay",
           120000
          ],
          [
           "Asistente de dirección",
           "ZORTEA ALIMENTOS",
           300000
          ],
          [
           "Asistente de Gerencia Comercial",
           "ANGELOS PROMOCIONALES",
           120000
          ],
          [
           "Agente telefónico Call Center Zapopan",
           "HY CITE MEXICO",
           131652
          ],
          [
           "Auxiliar comercial",
           "SIPPI Automat",
           96000
          ],
          [
           "Communications and management assistant Law Firm",
           "Gio Consultores",
           240000
          ],
          [
           "Almacenista - Turno 2 (2:00p.m. - 9:30p.m)",
           "Arrow Electronics",
           null
          ],
          [
           "Almacenista y logística",
           "Equipos Chakong",
           180000
          ],
          [
           "Auxiliar administrativoa Facturista",
           "Logística, Viajes y Bodas SA de CV",
           210996
          ],
          [
           "WW Channel Sales Finance Analyst",
           "Hewlett Packard Enterprise",
           null
          ],
          [
           "Especialista en Marketing Digital y Performance SEOSEM Giro Mueblero",
           "TALINK",
           null
          ],
          [
           "Recepcionista Administrativa Lunes a Viernes col. el Fresno Pago semanal",
           "FREE",
           120000
          ],
          [
           "Data Engineer",
           "InfoVision Inc.",
           null
          ],
          [
           "Event Manager Jr",
           "Experis México",
           null
          ],
          [
           "Director de data office",
           "PiSA Farmacéutica",
           null
          ],
          [
           "Administrativoa Auxiliar administrativoa",
           "autopartes doliva",
           120000
          ],
          [
           "Licenciado en Derecho Pasante en Derecho",
           "Abogados en Guadalajara. Estevez, Salinas S.C.",
           156000
          ],
          [
           "Auxiliar de Calidad Carrera técnica",
           "Importante empresa del sector",
           203988
          ],
          [
           "Especialista en Automatización Inteligencia Artificial",
           "orange ia",
           null
          ],
          [
           "Ejecutivo/a Servicio Banca de Empresas (Zapopan, Jalisco)",
           "BBVA",
           null
          ],
          [
           "Asesor de Ventas Consultivas Giro Salud y Bienestar Tecnológico",
           "TALINK",
           180000
          ],
          [
           "Coordinación de Logística y Atención a Clientes Retail Zona Real",
           "TALINK",
           198000
          ],
          [
           "Ejecutivoa de Servicio Recursos Humanos",
           "ManpowerGroup",
           150000
          ],
          [
           "Ejecutivo de Telemarketing Profesional Giro Salud y Bienestar Tecnológico",
           "TALINK",
           180000
          ],
          [
           "Promotora de ventas Con experiencia ventas digitales",
           "Empresa de ventas y distribución Confidencial",
           120000
          ],
          [
           "Ejecutivo de ventas en linea Experiencia en Ecommerce y Marketplace",
           "PROHUMANIARRHh",
           null
          ],
          [
           "Administradora de Ventas Experiencia en Ecommerce",
           "Newtalent sc",
           180000
          ],
          [
           "CHOFER DE AMAZON REPARTIR PAQUETERIA",
           "PAQUETERIA Y MENSAJERIA ARCE",
           null
          ],
          [
           "Onsite Medical Representative",
           "Servicios Comerciales Amazon Mexico S. de R.L. de C.V.",
           null
          ],
          [
           "CHOFER REPARTIDOR DE PAQUETERIA DE AMAZON",
           "PAQUETERIA Y MENSAJERIA ARCE",
           null
          ],
          [
           "TRABAJA PARA AMAZON COMO CHOFER REPARTIDOR",
           "PAQUETERIA Y MENSAJERIA ARCE",
           null
          ],
          [
           "Traffiker Presencial, experiencia en pautas de meta.",
           "Quintanni Comunicacion",
           120000
          ],
          [
           "Auxiliar Administrativo de Credito Oficina",
           "Caja Popular Oblatos",
           108000
          ],
          [
           "Call center Cobranza telefónica",
           "ALIO",
           100368
          ],
          [
           "070 Coordinador de cobranza administrativa Tiempo completo Guadalajara",
           "Bufete Juridico Barrera Badillo, S. C.",
           180000
          ],
          [
           "Gerente de tienda en Telefonía, Plaza Galerías.",
           "ExpertCell",
           null
          ],
          [
           "Gestor de Cartera Vencida Tlaquepaque",
           "Grupo Salinas",
           150000
          ],
          [
           "Líder de ventas telemarketing Mujer",
           "GRUPO FORESTAL INDUSTRIAL",
           300000
          ],
          [
           "Coordinadora Comercial Sr.",
           "Importante empresa del sector",
           300000
          ],
          [
           "Ventas Aires acondicionado",
           "GD INSTALLAZIONI",
           null
          ],
          [
           "Supervisor de ventas al detalle Disponibilidad para viajar constante",
           "La Integral",
           216000
          ],
          [
           "Promotor de crédito individual No se realiza cobranza Tlaquepaque",
           "Libertad Servicios Financieros",
           300000
          ],
          [
           "Representante de Ventas para Ganadera San Martín Caballero Campo y Oficina",
           "Adecco",
           100368
          ],
          [
           "Community manager Presencial",
           "Comercializadora en Centro de Guadalajara",
           null
          ],
          [
           "Social Media Community Presencial",
           "Comercializadora en Centro de Guadalajara",
           null
          ],
          [
           "Sales Key Account Specialist - CHIHUAHUA",
           "Procter & Gamble",
           null
          ],
          [
           "Marketing Con experiencia",
           "RAUL HERNANDEZ A.",
           168000
          ],
          [
           "Unified Communications Engineer",
           "Zillow",
           null
          ],
          [
           "Project manager in electrical engineering e support",
           "Mcwork",
           360000
          ],
          [
           "Digital PBM",
           "Hewlett Packard Enterprise",
           null
          ],
          [
           "Software Engineer - OpenStack",
           "Canonical",
           6000
          ],
          [
           "QA Software Engineer III",
           "Thermo Fisher Scientific",
           6000
          ],
          [
           "Senior Software Engineer/Search",
           "ATG",
           6000
          ],
          [
           "Operations Specialist Recruiter",
           "Aplus VA",
           null
          ],
          [
           "Senior Fullstack Developer (Javascript / NodeJS) - Zignal Labs - Guadalajara",
           "TaleXa",
           null
          ],
          [
           "Quality Assurance Automation Engineer",
           "Programming.com",
           null
          ],
          [
           "Gestor de Proyectos TI Bussines Inteligent",
           "Importante empresa del sector",
           null
          ],
          [
           "Contadora Contador público",
           "Logística Empresarial Megamente",
           186000
          ],
          [
           "Analista administrativo Turno completo normal",
           null,
           180000
          ],
          [
           "Ejecutivo de ventas por teléfono Telemarketing",
           "Castelec Internacional",
           144000
          ],
          [
           "Agente bilinge Semana Inglesa",
           "Importante empresa del sector",
           180000
          ],
          [
           "Auxiliar contable",
           "CORVA",
           null
          ],
          [
           "Vendedor TI",
           "People Zone",
           252000
          ],
          [
           "Especialista en desarrollo organizacional",
           "FABRICAS SELECTAS",
           null
          ],
          [
           "Soporte Técnico Vía remota a clientes",
           "Binarium Tecnologías",
           null
          ],
          [
           "Auxiliar en costos y presupuestos Obra pública, comercial e industrial",
           "CONSTRUCCIONES CALVEC",
           228000
          ],
          [
           "Ingeniero mecatronico Ing. Mecatronico",
           "Diag Occidente S.A. de C.V.",
           168000
          ],
          [
           "Técnico de soporte l a v 9 a 18",
           "Universidad Autónoma de Guadalajara",
           150000
          ],
          [
           "Auxiliar contable",
           "CORPORATIVO RH SHAREM",
           144000
          ],
          [
           "Atención a clientes via chat bilinge 13 000 a 16 000 Mensual",
           "Importante empresa del sector",
           192000
          ],
          [
           "IT Data & Analytics Front Office Head",
           "NatureSweet",
           null
          ],
          [
           "Auxiliar de muestreo",
           null,
           96000
          ],
          [
           "Enfermera General o Industrial Zapopan",
           "Adecco",
           170400
          ],
          [
           "Coordinadora de Eventos IT Guadalajara",
           "ManpowerGroup",
           null
          ],
          [
           "Coordinadora de Eventos IT Guadalajara",
           "ManpowerGroup",
           null
          ],
          [
           "Coordinadora de Eventos IT Presencial Guadalajara",
           "ManpowerGroup",
           null
          ],
          [
           "Customer Service Representative",
           "Tata Consultancy Services",
           null
          ],
          [
           "Sales Director",
           "PosiTrace",
           8400
          ],
          [
           "Técnico de Soporte IT Nivel 1",
           "LKN Systems Mexico",
           null
          ],
          [
           "ServiceNow Developer / Administrator",
           "Scalable Systems",
           6000
          ]
         ],
         "hovertemplate": "job_type=onsite<br>x=%{x}<br>y=%{y}<br>title=%{customdata[0]}<br>company=%{customdata[1]}<br>salary_avg=%{customdata[2]}<extra></extra>",
         "legendgroup": "onsite",
         "marker": {
          "color": "#EF553B",
          "symbol": "circle"
         },
         "mode": "markers",
         "name": "onsite",
         "showlegend": true,
         "type": "scattergl",
         "x": [
          -2.0906965732574463,
          -2.698852062225342,
          -2.888174295425415,
          -2.539057731628418,
          28.407169342041016,
          28.36730194091797,
          -3.008749485015869,
          -3.1901180744171143,
          -3.4242708683013916,
          -3.3765976428985596,
          -3.995055913925171,
          -3.83351469039917,
          -3.956613540649414,
          -3.935293674468994,
          -4.925838947296143,
          -4.40334939956665,
          -4.229905128479004,
          -5.246467590332031,
          -4.837196350097656,
          -4.3199076652526855,
          -4.600174903869629,
          -4.538613319396973,
          -4.732423305511475,
          -4.701176166534424,
          -5.174952507019043,
          -4.779031276702881,
          -4.81915807723999,
          -5.067101955413818,
          -5.216524124145508,
          -5.040177822113037,
          -4.81358528137207,
          -4.279667854309082,
          -4.647552013397217,
          -4.910016059875488,
          -4.622711181640625,
          -4.469102382659912,
          -4.39056921005249,
          -4.782841682434082,
          -4.473691463470459,
          -4.676616668701172,
          -4.0384416580200195,
          -3.9000864028930664,
          -3.965440511703491,
          -4.303469657897949,
          -3.9526941776275635,
          -4.102081298828125,
          17.56905746459961,
          -3.682905912399292,
          -3.6927430629730225,
          17.622068405151367,
          -3.764554023742676,
          -3.6718814373016357,
          -3.6873221397399902,
          -3.5633764266967773,
          -3.5166893005371094,
          -3.402470111846924,
          -3.2724316120147705,
          -2.745654582977295,
          -3.102145195007324,
          -2.9726388454437256,
          -2.6588289737701416,
          -2.1397573947906494,
          -1.542966365814209,
          -1.374408483505249,
          -1.2191663980484009,
          -1.9088963270187378,
          -1.4140100479125977,
          -1.2981374263763428,
          -1.184686303138733,
          -1.0886777639389038,
          -1.272491216659546,
          -1.1090821027755737,
          -0.9676695466041565,
          -0.9152650237083435,
          -0.5782304406166077,
          -0.4063052833080292,
          -2.1415138244628906,
          -2.804347276687622,
          -2.0663504600524902,
          -2.1791954040527344,
          -2.299316644668579,
          -2.203702211380005,
          -2.6531646251678467,
          -2.8208541870117188,
          -3.7518599033355713,
          -3.472059488296509,
          17.495704650878906,
          16.754703521728516,
          -4.553774356842041,
          -3.769932508468628,
          -3.274141788482666,
          22.557456970214844,
          -3.181619644165039,
          23.709867477416992,
          -2.645399570465088,
          -2.6160926818847656,
          -2.4246556758880615,
          -2.4257700443267822,
          -2.4439492225646973,
          -2.4869024753570557,
          -2.4114625453948975,
          -2.1918540000915527,
          -2.2049198150634766,
          -2.4344379901885986,
          -2.281745195388794,
          -2.1302330493927,
          -2.279475212097168,
          -2.2165040969848633,
          -2.0015952587127686,
          -1.658406138420105,
          -1.8559890985488892,
          -1.6385082006454468,
          -1.7212834358215332,
          -1.8480843305587769,
          -1.7370193004608154,
          -1.883205771446228,
          -1.936489462852478
         ],
         "xaxis": "x",
         "y": [
          2.9764726161956787,
          2.766538619995117,
          2.450188636779785,
          2.8665823936462402,
          5.534297943115234,
          5.610392093658447,
          2.7170722484588623,
          2.7599456310272217,
          2.9327120780944824,
          3.107633590698242,
          3.2510814666748047,
          3.169409990310669,
          3.1730573177337646,
          3.295586585998535,
          3.520284652709961,
          3.670013666152954,
          3.6413543224334717,
          3.8741347789764404,
          3.879915475845337,
          3.8145298957824707,
          3.658958911895752,
          3.704712390899658,
          3.6081924438476562,
          3.7710695266723633,
          4.485311985015869,
          3.990952491760254,
          3.8824238777160645,
          4.3177361488342285,
          4.385529041290283,
          4.2284626960754395,
          4.405152320861816,
          4.026147842407227,
          4.1059160232543945,
          4.793470859527588,
          4.083720684051514,
          4.1210103034973145,
          3.9526991844177246,
          4.617058753967285,
          4.244887828826904,
          4.417801380157471,
          4.027125358581543,
          3.830371618270874,
          3.9802181720733643,
          4.549084663391113,
          4.164332866668701,
          4.60360860824585,
          25.519805908203125,
          4.27589225769043,
          4.278148651123047,
          25.498090744018555,
          4.580941200256348,
          4.553512096405029,
          4.61483907699585,
          4.571655750274658,
          4.5967559814453125,
          4.46731424331665,
          4.640383720397949,
          5.191294193267822,
          4.580522537231445,
          4.869383335113525,
          5.102179527282715,
          5.094111442565918,
          4.882909297943115,
          4.755336761474609,
          4.811193943023682,
          4.605266571044922,
          4.108118057250977,
          4.1493306159973145,
          4.080462455749512,
          3.7310752868652344,
          3.7243738174438477,
          3.8490660190582275,
          3.5373547077178955,
          3.6926136016845703,
          3.2107298374176025,
          2.9990851879119873,
          4.073244571685791,
          2.0228047370910645,
          2.8594865798950195,
          2.812819004058838,
          2.9225316047668457,
          2.81190824508667,
          3.1221585273742676,
          3.249336004257202,
          3.684689998626709,
          3.8030498027801514,
          25.574548721313477,
          -19.060237884521484,
          6.015375137329102,
          5.617975234985352,
          5.963409900665283,
          14.724078178405762,
          6.656193256378174,
          12.101405143737793,
          4.69924259185791,
          4.559605121612549,
          4.683511734008789,
          4.780206680297852,
          4.672879219055176,
          4.682748794555664,
          4.613410949707031,
          4.568822860717773,
          4.504687786102295,
          4.582705020904541,
          4.597193241119385,
          4.590644836425781,
          4.589999675750732,
          4.111635684967041,
          4.2271599769592285,
          4.054211616516113,
          4.120201110839844,
          3.7718005180358887,
          3.9533514976501465,
          4.071310043334961,
          3.867206573486328,
          3.8584353923797607,
          3.8048770427703857
         ],
         "yaxis": "y"
        },
        {
         "customdata": [
          [
           "Senior Cloud Engineer (Hybrid - Guadalajara, MX)",
           "MezTal",
           6000
          ],
          [
           "Full Stack Engineer",
           "AstraZeneca",
           6000
          ],
          [
           "SAP FI Consultant (FSCM)",
           "IBM",
           6000
          ],
          [
           "SAP HANA FI Consultant",
           "IBM",
           6000
          ],
          [
           "SAP FIN-CO Consultant (Support)",
           "IBM",
           6000
          ],
          [
           "Sr SAP HANA PP Consultant",
           "IBM",
           6000
          ],
          [
           "SAP Project Manager",
           "IBM",
           6000
          ],
          [
           "SAP SCM SD Consultant AMS",
           "IBM",
           6000
          ],
          [
           "SAP HANA FI Specialist",
           "IBM",
           6000
          ],
          [
           "SAP FI Consultant",
           "IBM",
           6000
          ],
          [
           "Linux & AIX Systems Engineer",
           "IBM Computing",
           6000
          ],
          [
           "Active Directory Platform Engineer",
           "IBM Qatar",
           6000
          ],
          [
           "Enterprise Operations Record to Report Professional Lead Professional GUADALAJARA, MX",
           "Avature",
           6000
          ],
          [
           "Internship Gen AI - Guadalajara, Mexico",
           "IBM",
           null
          ],
          [
           "SAP HANA FI Consultant",
           "IBM",
           null
          ],
          [
           "Student/Intern Program (IT Specialist) - Guadalajara, Mexico",
           "IBM",
           null
          ],
          [
           "Accounting: Record to Report Specialist",
           "IBM",
           null
          ],
          [
           "Accounting: Record to Report Professional",
           "IBM",
           null
          ],
          [
           "Record to Report Professional Lead",
           "IBM",
           null
          ],
          [
           "Accounting: Record to Report Professional",
           "IBM",
           null
          ],
          [
           "Accounting: Record to Report Specialist",
           "IBM",
           null
          ],
          [
           "Internship Cloud Fullstack",
           "IBM",
           null
          ],
          [
           "Sr SAP HANA PP Consultant",
           "IBM",
           null
          ],
          [
           "SAP Project Manager",
           "IBM",
           null
          ],
          [
           "SAP FI Consultant (FSCM)",
           "IBM",
           null
          ],
          [
           "Accounting: Record to Report Specialist",
           "IBM",
           null
          ],
          [
           "Cash Management Jr",
           "IBM",
           null
          ],
          [
           "Intern Project Manager",
           "IBM",
           null
          ],
          [
           "SAP HANA FI Consultant",
           "IBM",
           null
          ],
          [
           "SAP FIN-CO Consultant",
           "IBM",
           null
          ],
          [
           "SAP FIN CO Consultant",
           "IBM",
           null
          ],
          [
           "SAP HANA FI Consultant",
           "IBM",
           null
          ],
          [
           "Cash Management Jr",
           "IBM",
           null
          ],
          [
           "SAP FI Consultant",
           "IBM",
           null
          ],
          [
           "SAP HANA FI Consultant",
           "IBM",
           null
          ],
          [
           "SAP HANA FI Consultant",
           "IBM",
           null
          ],
          [
           "SAP HANA FI Specialist",
           "IBM",
           null
          ],
          [
           "SAP HANA FI Consultant",
           "IBM",
           null
          ],
          [
           "SAP HANA FI Consultant (Auto Bank)",
           "IBM",
           null
          ],
          [
           "SAP HANA FI Consultant",
           "IBM",
           null
          ],
          [
           "Administrador/a Senior de Microsoft 365 - Híbrido",
           "Capital Empresarial Horizonte",
           6000
          ],
          [
           "Lider técnico con experiencia en Power Platform de Microsoft",
           "Capital Empresarial Horizonte",
           6000
          ],
          [
           "Sr Accountant US GAAP | Hybrid Guadalajara",
           "MezTal",
           null
          ],
          [
           "SAP Basis Application Engineer",
           "AstraZeneca",
           6000
          ],
          [
           "Principal I, Application Development",
           "Herbalife",
           null
          ],
          [
           "DevOps Engineer - Hybrid in Guadalajara",
           "Capgemini",
           6000
          ],
          [
           "Product Owner",
           "Capital Empresarial Horizonte",
           6000
          ],
          [
           "Business Intelligence Developer",
           "AllianceIT Inc",
           6000
          ],
          [
           "Jr DevOps Engineer - Hybrid in Guadalajara",
           "Capgemini",
           6000
          ],
          [
           "DevOps",
           "Capital Empresarial Horizonte",
           6000
          ],
          [
           "Agente de seguridad Turno mixto",
           "The American School Foundation of Guadalajara AC",
           147600
          ],
          [
           "Data Analyst",
           "AstraZeneca GmbH",
           6000
          ],
          [
           "Data Analyst",
           "AstraZeneca",
           6000
          ],
          [
           "Full Stack Engineer",
           "AstraZeneca",
           6000
          ],
          [
           "Leave of Absence - HR Advisor",
           "AstraZeneca",
           null
          ],
          [
           "Patient Safety Case Intake Advisor - Global Business Services (English)",
           "AstraZeneca",
           null
          ],
          [
           "Patient Safety Case Intake Advisor - Global Business Services (English & Canadian French)",
           "AstraZeneca",
           null
          ],
          [
           "Patient Safety Case Intake Advisor - Global Business Services (English & Portuguese)",
           "AstraZeneca",
           null
          ],
          [
           "Full Stack Engineer",
           "AstraZeneca",
           null
          ],
          [
           "Public relations LATAM",
           "Genpact",
           null
          ],
          [
           "Applications Developer III",
           "Herbalife",
           6000
          ],
          [
           "Applications Developer III",
           "Herbalife",
           null
          ],
          [
           "Senior Data Scientist - Hybrid (Guadalajara, Mexico)",
           "MezTal",
           6000
          ],
          [
           "Senior Data Scientist",
           "Tata Consultancy Services",
           6000
          ],
          [
           "Senior Data Scientist - Hybrid (Guadalajara, Mexico)",
           "FlexTal Staffing LLC",
           6000
          ],
          [
           "Learning Systems Engineer",
           "AstraZeneca",
           null
          ],
          [
           "Intern application developer",
           "Avature",
           6000
          ],
          [
           "SAP ABAP",
           "Avature",
           6000
          ],
          [
           "Application Developer",
           "Avature",
           6000
          ],
          [
           "Cloud Engineer II",
           "Herbalife",
           6000
          ],
          [
           "Cloud Engineer II",
           "Herbalife International, Inc.",
           6000
          ],
          [
           "DevOps Engineer English, Hybrid, contract, Full time",
           null,
           60000
          ],
          [
           "L2 Support (Rundeck, Informatica, DevOps, Cloud, Infrastructure)",
           "Pyramid Consulting, Inc",
           6000
          ],
          [
           "QA Tester Sr Selenium",
           "Capital Empresarial Horizonte",
           6000
          ],
          [
           "Onboarding Support Mgr",
           "BMC Software",
           6000
          ],
          [
           "Senior System Engineer (DevOps)",
           "Backbase",
           null
          ],
          [
           "Senior System Engineer (DevOps)",
           "Backbase",
           null
          ],
          [
           "Java Web Developer",
           "Pyramid Consulting, Inc",
           null
          ],
          [
           "Go Full-stack Developer (Hybrid - Guadalajara, MX)",
           "FlexTal Staffing LLC",
           null
          ],
          [
           "Automotive Cyber Security Engineer",
           "Cognizant",
           6000
          ],
          [
           "Lead Consultant - Cybersecurity Remediation Engineer",
           "AstraZeneca",
           null
          ],
          [
           "Data Analyst - Híbrido",
           "Capital Empresarial Horizonte",
           6000
          ],
          [
           "Data y BI Analyst",
           "Atracción de Talento TyA",
           6000
          ],
          [
           "Service Delivery Manager - Hybrid role",
           "Finastra",
           6000
          ],
          [
           "Senior .NET Engineer",
           "El Paso Labs",
           6000
          ],
          [
           "Service Delivery Manager - Hybrid role",
           "Misys International Banking Systems Mexico De Cv",
           null
          ],
          [
           "C# Developer Senior - Híbrido",
           "Koch Industries México",
           6000
          ],
          [
           "Senior Software Quality Assurance Engineer",
           "AllianceIT Inc",
           6000
          ],
          [
           "Diseñador de Proyectos e Ingenieria Turno mixto de lunes a viernes",
           "FIREPROOF PREVENCION DE PERDIDAS",
           144000
          ],
          [
           "Koerber WMS Developer",
           "NTT DATA, Inc.",
           6000
          ],
          [
           "SAP ABAP Developer",
           "Avature",
           6000
          ],
          [
           "Power Bi Developer",
           "Tata Consultancy Services",
           6000
          ],
          [
           "Recruitment Manager",
           "Tricolor Auto Group, LLC",
           null
          ],
          [
           "Web QA Engineer (Functional, Accessibility, Security, Performance)",
           "AllianceIT Inc",
           null
          ]
         ],
         "hovertemplate": "job_type=hybrid<br>x=%{x}<br>y=%{y}<br>title=%{customdata[0]}<br>company=%{customdata[1]}<br>salary_avg=%{customdata[2]}<extra></extra>",
         "legendgroup": "hybrid",
         "marker": {
          "color": "#00cc96",
          "symbol": "circle"
         },
         "mode": "markers",
         "name": "hybrid",
         "showlegend": true,
         "type": "scattergl",
         "x": [
          17.49284553527832,
          24.377622604370117,
          16.904817581176758,
          16.872310638427734,
          16.909339904785156,
          16.891841888427734,
          16.881074905395508,
          16.92603874206543,
          16.902475357055664,
          17.010276794433594,
          17.541784286499023,
          -2.909313917160034,
          16.815778732299805,
          16.798797607421875,
          16.839033126831055,
          16.91214370727539,
          16.727209091186523,
          16.871335983276367,
          16.838016510009766,
          16.877378463745117,
          16.835439682006836,
          16.946657180786133,
          16.802812576293945,
          16.815025329589844,
          16.9016056060791,
          16.90573501586914,
          16.81169319152832,
          16.879844665527344,
          16.896432876586914,
          16.791894912719727,
          16.981252670288086,
          16.80481719970703,
          16.86724090576172,
          16.85866928100586,
          16.741437911987305,
          16.869577407836914,
          16.884647369384766,
          16.893278121948242,
          16.87674903869629,
          16.83069610595703,
          -3.8319151401519775,
          -3.726466655731201,
          -4.170725345611572,
          24.397891998291016,
          -4.043166637420654,
          -3.6914358139038086,
          -3.628730058670044,
          24.36697006225586,
          -3.4677045345306396,
          -3.490696430206299,
          -0.6383000016212463,
          -2.3888967037200928,
          -2.6843090057373047,
          -2.628089666366577,
          -2.4896233081817627,
          -2.7315449714660645,
          -2.669666051864624,
          -2.602552890777588,
          24.50170135498047,
          24.45639991760254,
          -3.1143174171447754,
          -4.592100143432617,
          24.315813064575195,
          24.244792938232422,
          -4.065191745758057,
          -3.720371723175049,
          16.974485397338867,
          16.783723831176758,
          16.76340103149414,
          17.4504451751709,
          17.6831111907959,
          17.474578857421875,
          17.23540687561035,
          -3.1312482357025146,
          -2.8140196800231934,
          -2.8988091945648193,
          -2.769362449645996,
          24.191251754760742,
          -2.6614718437194824,
          -1.6867848634719849,
          -1.1676372289657593,
          -2.244154691696167,
          -1.404862642288208,
          24.458295822143555,
          -2.563993215560913,
          -2.1036927700042725,
          -2.7471654415130615,
          24.4410343170166,
          -2.4847371578216553,
          -2.0609290599823,
          16.974178314208984,
          22.21455192565918,
          -2.0691592693328857,
          -2.2544023990631104
         ],
         "xaxis": "x",
         "y": [
          25.4647274017334,
          17.86008071899414,
          -18.95265769958496,
          -18.950828552246094,
          -18.915048599243164,
          -18.931007385253906,
          -18.936477661132812,
          -18.878379821777344,
          -18.864309310913086,
          -18.810171127319336,
          25.47403907775879,
          3.130324602127075,
          -19.004684448242188,
          -19.00166130065918,
          -18.95619773864746,
          -18.90450668334961,
          -19.083219528198242,
          -18.95045280456543,
          -19.004066467285156,
          -18.93205451965332,
          -18.953943252563477,
          -18.872417449951172,
          -18.932117462158203,
          -18.94508934020996,
          -18.917322158813477,
          -18.998062133789062,
          -18.97882843017578,
          -18.904996871948242,
          -19.00714111328125,
          -19.045516967773438,
          -18.998353958129883,
          -18.99134063720703,
          -18.896074295043945,
          -18.945369720458984,
          -19.075563430786133,
          -18.850751876831055,
          -18.98328971862793,
          -18.922208786010742,
          -18.990556716918945,
          -19.02446174621582,
          3.26983642578125,
          3.169999599456787,
          3.3681843280792236,
          17.875486373901367,
          4.743013858795166,
          4.557168483734131,
          4.886682510375977,
          17.785438537597656,
          4.565938472747803,
          4.660275459289551,
          3.2775750160217285,
          3.060070037841797,
          2.946831226348877,
          3.0793347358703613,
          3.0464205741882324,
          3.1884984970092773,
          3.2497689723968506,
          3.1249947547912598,
          17.935453414916992,
          17.987985610961914,
          3.65653657913208,
          5.736733913421631,
          18.077861785888672,
          17.990230560302734,
          6.572670936584473,
          6.244204998016357,
          -19.068166732788086,
          -19.04159164428711,
          -19.06670570373535,
          25.51689910888672,
          25.299034118652344,
          25.495996475219727,
          -17.552919387817383,
          6.577016353607178,
          6.490879535675049,
          6.790815353393555,
          6.507656574249268,
          13.334022521972656,
          6.763863563537598,
          6.588444232940674,
          6.530332088470459,
          5.892688751220703,
          6.087329864501953,
          17.760936737060547,
          5.314176559448242,
          5.362444877624512,
          4.497161388397217,
          17.703922271728516,
          4.582700729370117,
          3.8394052982330322,
          -18.92192840576172,
          10.581679344177246,
          3.85835337638855,
          3.771341562271118
         ],
         "yaxis": "y"
        }
       ],
       "layout": {
        "height": 600,
        "legend": {
         "title": {
          "text": "job_type"
         },
         "tracegroupgap": 0
        },
        "template": {
         "data": {
          "bar": [
           {
            "error_x": {
             "color": "#2a3f5f"
            },
            "error_y": {
             "color": "#2a3f5f"
            },
            "marker": {
             "line": {
              "color": "#E5ECF6",
              "width": 0.5
             },
             "pattern": {
              "fillmode": "overlay",
              "size": 10,
              "solidity": 0.2
             }
            },
            "type": "bar"
           }
          ],
          "barpolar": [
           {
            "marker": {
             "line": {
              "color": "#E5ECF6",
              "width": 0.5
             },
             "pattern": {
              "fillmode": "overlay",
              "size": 10,
              "solidity": 0.2
             }
            },
            "type": "barpolar"
           }
          ],
          "carpet": [
           {
            "aaxis": {
             "endlinecolor": "#2a3f5f",
             "gridcolor": "white",
             "linecolor": "white",
             "minorgridcolor": "white",
             "startlinecolor": "#2a3f5f"
            },
            "baxis": {
             "endlinecolor": "#2a3f5f",
             "gridcolor": "white",
             "linecolor": "white",
             "minorgridcolor": "white",
             "startlinecolor": "#2a3f5f"
            },
            "type": "carpet"
           }
          ],
          "choropleth": [
           {
            "colorbar": {
             "outlinewidth": 0,
             "ticks": ""
            },
            "type": "choropleth"
           }
          ],
          "contour": [
           {
            "colorbar": {
             "outlinewidth": 0,
             "ticks": ""
            },
            "colorscale": [
             [
              0,
              "#0d0887"
             ],
             [
              0.1111111111111111,
              "#46039f"
             ],
             [
              0.2222222222222222,
              "#7201a8"
             ],
             [
              0.3333333333333333,
              "#9c179e"
             ],
             [
              0.4444444444444444,
              "#bd3786"
             ],
             [
              0.5555555555555556,
              "#d8576b"
             ],
             [
              0.6666666666666666,
              "#ed7953"
             ],
             [
              0.7777777777777778,
              "#fb9f3a"
             ],
             [
              0.8888888888888888,
              "#fdca26"
             ],
             [
              1,
              "#f0f921"
             ]
            ],
            "type": "contour"
           }
          ],
          "contourcarpet": [
           {
            "colorbar": {
             "outlinewidth": 0,
             "ticks": ""
            },
            "type": "contourcarpet"
           }
          ],
          "heatmap": [
           {
            "colorbar": {
             "outlinewidth": 0,
             "ticks": ""
            },
            "colorscale": [
             [
              0,
              "#0d0887"
             ],
             [
              0.1111111111111111,
              "#46039f"
             ],
             [
              0.2222222222222222,
              "#7201a8"
             ],
             [
              0.3333333333333333,
              "#9c179e"
             ],
             [
              0.4444444444444444,
              "#bd3786"
             ],
             [
              0.5555555555555556,
              "#d8576b"
             ],
             [
              0.6666666666666666,
              "#ed7953"
             ],
             [
              0.7777777777777778,
              "#fb9f3a"
             ],
             [
              0.8888888888888888,
              "#fdca26"
             ],
             [
              1,
              "#f0f921"
             ]
            ],
            "type": "heatmap"
           }
          ],
          "heatmapgl": [
           {
            "colorbar": {
             "outlinewidth": 0,
             "ticks": ""
            },
            "colorscale": [
             [
              0,
              "#0d0887"
             ],
             [
              0.1111111111111111,
              "#46039f"
             ],
             [
              0.2222222222222222,
              "#7201a8"
             ],
             [
              0.3333333333333333,
              "#9c179e"
             ],
             [
              0.4444444444444444,
              "#bd3786"
             ],
             [
              0.5555555555555556,
              "#d8576b"
             ],
             [
              0.6666666666666666,
              "#ed7953"
             ],
             [
              0.7777777777777778,
              "#fb9f3a"
             ],
             [
              0.8888888888888888,
              "#fdca26"
             ],
             [
              1,
              "#f0f921"
             ]
            ],
            "type": "heatmapgl"
           }
          ],
          "histogram": [
           {
            "marker": {
             "pattern": {
              "fillmode": "overlay",
              "size": 10,
              "solidity": 0.2
             }
            },
            "type": "histogram"
           }
          ],
          "histogram2d": [
           {
            "colorbar": {
             "outlinewidth": 0,
             "ticks": ""
            },
            "colorscale": [
             [
              0,
              "#0d0887"
             ],
             [
              0.1111111111111111,
              "#46039f"
             ],
             [
              0.2222222222222222,
              "#7201a8"
             ],
             [
              0.3333333333333333,
              "#9c179e"
             ],
             [
              0.4444444444444444,
              "#bd3786"
             ],
             [
              0.5555555555555556,
              "#d8576b"
             ],
             [
              0.6666666666666666,
              "#ed7953"
             ],
             [
              0.7777777777777778,
              "#fb9f3a"
             ],
             [
              0.8888888888888888,
              "#fdca26"
             ],
             [
              1,
              "#f0f921"
             ]
            ],
            "type": "histogram2d"
           }
          ],
          "histogram2dcontour": [
           {
            "colorbar": {
             "outlinewidth": 0,
             "ticks": ""
            },
            "colorscale": [
             [
              0,
              "#0d0887"
             ],
             [
              0.1111111111111111,
              "#46039f"
             ],
             [
              0.2222222222222222,
              "#7201a8"
             ],
             [
              0.3333333333333333,
              "#9c179e"
             ],
             [
              0.4444444444444444,
              "#bd3786"
             ],
             [
              0.5555555555555556,
              "#d8576b"
             ],
             [
              0.6666666666666666,
              "#ed7953"
             ],
             [
              0.7777777777777778,
              "#fb9f3a"
             ],
             [
              0.8888888888888888,
              "#fdca26"
             ],
             [
              1,
              "#f0f921"
             ]
            ],
            "type": "histogram2dcontour"
           }
          ],
          "mesh3d": [
           {
            "colorbar": {
             "outlinewidth": 0,
             "ticks": ""
            },
            "type": "mesh3d"
           }
          ],
          "parcoords": [
           {
            "line": {
             "colorbar": {
              "outlinewidth": 0,
              "ticks": ""
             }
            },
            "type": "parcoords"
           }
          ],
          "pie": [
           {
            "automargin": true,
            "type": "pie"
           }
          ],
          "scatter": [
           {
            "fillpattern": {
             "fillmode": "overlay",
             "size": 10,
             "solidity": 0.2
            },
            "type": "scatter"
           }
          ],
          "scatter3d": [
           {
            "line": {
             "colorbar": {
              "outlinewidth": 0,
              "ticks": ""
             }
            },
            "marker": {
             "colorbar": {
              "outlinewidth": 0,
              "ticks": ""
             }
            },
            "type": "scatter3d"
           }
          ],
          "scattercarpet": [
           {
            "marker": {
             "colorbar": {
              "outlinewidth": 0,
              "ticks": ""
             }
            },
            "type": "scattercarpet"
           }
          ],
          "scattergeo": [
           {
            "marker": {
             "colorbar": {
              "outlinewidth": 0,
              "ticks": ""
             }
            },
            "type": "scattergeo"
           }
          ],
          "scattergl": [
           {
            "marker": {
             "colorbar": {
              "outlinewidth": 0,
              "ticks": ""
             }
            },
            "type": "scattergl"
           }
          ],
          "scattermapbox": [
           {
            "marker": {
             "colorbar": {
              "outlinewidth": 0,
              "ticks": ""
             }
            },
            "type": "scattermapbox"
           }
          ],
          "scatterpolar": [
           {
            "marker": {
             "colorbar": {
              "outlinewidth": 0,
              "ticks": ""
             }
            },
            "type": "scatterpolar"
           }
          ],
          "scatterpolargl": [
           {
            "marker": {
             "colorbar": {
              "outlinewidth": 0,
              "ticks": ""
             }
            },
            "type": "scatterpolargl"
           }
          ],
          "scatterternary": [
           {
            "marker": {
             "colorbar": {
              "outlinewidth": 0,
              "ticks": ""
             }
            },
            "type": "scatterternary"
           }
          ],
          "surface": [
           {
            "colorbar": {
             "outlinewidth": 0,
             "ticks": ""
            },
            "colorscale": [
             [
              0,
              "#0d0887"
             ],
             [
              0.1111111111111111,
              "#46039f"
             ],
             [
              0.2222222222222222,
              "#7201a8"
             ],
             [
              0.3333333333333333,
              "#9c179e"
             ],
             [
              0.4444444444444444,
              "#bd3786"
             ],
             [
              0.5555555555555556,
              "#d8576b"
             ],
             [
              0.6666666666666666,
              "#ed7953"
             ],
             [
              0.7777777777777778,
              "#fb9f3a"
             ],
             [
              0.8888888888888888,
              "#fdca26"
             ],
             [
              1,
              "#f0f921"
             ]
            ],
            "type": "surface"
           }
          ],
          "table": [
           {
            "cells": {
             "fill": {
              "color": "#EBF0F8"
             },
             "line": {
              "color": "white"
             }
            },
            "header": {
             "fill": {
              "color": "#C8D4E3"
             },
             "line": {
              "color": "white"
             }
            },
            "type": "table"
           }
          ]
         },
         "layout": {
          "annotationdefaults": {
           "arrowcolor": "#2a3f5f",
           "arrowhead": 0,
           "arrowwidth": 1
          },
          "autotypenumbers": "strict",
          "coloraxis": {
           "colorbar": {
            "outlinewidth": 0,
            "ticks": ""
           }
          },
          "colorscale": {
           "diverging": [
            [
             0,
             "#8e0152"
            ],
            [
             0.1,
             "#c51b7d"
            ],
            [
             0.2,
             "#de77ae"
            ],
            [
             0.3,
             "#f1b6da"
            ],
            [
             0.4,
             "#fde0ef"
            ],
            [
             0.5,
             "#f7f7f7"
            ],
            [
             0.6,
             "#e6f5d0"
            ],
            [
             0.7,
             "#b8e186"
            ],
            [
             0.8,
             "#7fbc41"
            ],
            [
             0.9,
             "#4d9221"
            ],
            [
             1,
             "#276419"
            ]
           ],
           "sequential": [
            [
             0,
             "#0d0887"
            ],
            [
             0.1111111111111111,
             "#46039f"
            ],
            [
             0.2222222222222222,
             "#7201a8"
            ],
            [
             0.3333333333333333,
             "#9c179e"
            ],
            [
             0.4444444444444444,
             "#bd3786"
            ],
            [
             0.5555555555555556,
             "#d8576b"
            ],
            [
             0.6666666666666666,
             "#ed7953"
            ],
            [
             0.7777777777777778,
             "#fb9f3a"
            ],
            [
             0.8888888888888888,
             "#fdca26"
            ],
            [
             1,
             "#f0f921"
            ]
           ],
           "sequentialminus": [
            [
             0,
             "#0d0887"
            ],
            [
             0.1111111111111111,
             "#46039f"
            ],
            [
             0.2222222222222222,
             "#7201a8"
            ],
            [
             0.3333333333333333,
             "#9c179e"
            ],
            [
             0.4444444444444444,
             "#bd3786"
            ],
            [
             0.5555555555555556,
             "#d8576b"
            ],
            [
             0.6666666666666666,
             "#ed7953"
            ],
            [
             0.7777777777777778,
             "#fb9f3a"
            ],
            [
             0.8888888888888888,
             "#fdca26"
            ],
            [
             1,
             "#f0f921"
            ]
           ]
          },
          "colorway": [
           "#636efa",
           "#EF553B",
           "#00cc96",
           "#ab63fa",
           "#FFA15A",
           "#19d3f3",
           "#FF6692",
           "#B6E880",
           "#FF97FF",
           "#FECB52"
          ],
          "font": {
           "color": "#2a3f5f"
          },
          "geo": {
           "bgcolor": "white",
           "lakecolor": "white",
           "landcolor": "#E5ECF6",
           "showlakes": true,
           "showland": true,
           "subunitcolor": "white"
          },
          "hoverlabel": {
           "align": "left"
          },
          "hovermode": "closest",
          "mapbox": {
           "style": "light"
          },
          "paper_bgcolor": "white",
          "plot_bgcolor": "#E5ECF6",
          "polar": {
           "angularaxis": {
            "gridcolor": "white",
            "linecolor": "white",
            "ticks": ""
           },
           "bgcolor": "#E5ECF6",
           "radialaxis": {
            "gridcolor": "white",
            "linecolor": "white",
            "ticks": ""
           }
          },
          "scene": {
           "xaxis": {
            "backgroundcolor": "#E5ECF6",
            "gridcolor": "white",
            "gridwidth": 2,
            "linecolor": "white",
            "showbackground": true,
            "ticks": "",
            "zerolinecolor": "white"
           },
           "yaxis": {
            "backgroundcolor": "#E5ECF6",
            "gridcolor": "white",
            "gridwidth": 2,
            "linecolor": "white",
            "showbackground": true,
            "ticks": "",
            "zerolinecolor": "white"
           },
           "zaxis": {
            "backgroundcolor": "#E5ECF6",
            "gridcolor": "white",
            "gridwidth": 2,
            "linecolor": "white",
            "showbackground": true,
            "ticks": "",
            "zerolinecolor": "white"
           }
          },
          "shapedefaults": {
           "line": {
            "color": "#2a3f5f"
           }
          },
          "ternary": {
           "aaxis": {
            "gridcolor": "white",
            "linecolor": "white",
            "ticks": ""
           },
           "baxis": {
            "gridcolor": "white",
            "linecolor": "white",
            "ticks": ""
           },
           "bgcolor": "#E5ECF6",
           "caxis": {
            "gridcolor": "white",
            "linecolor": "white",
            "ticks": ""
           }
          },
          "title": {
           "x": 0.05
          },
          "xaxis": {
           "automargin": true,
           "gridcolor": "white",
           "linecolor": "white",
           "ticks": "",
           "title": {
            "standoff": 15
           },
           "zerolinecolor": "white",
           "zerolinewidth": 2
          },
          "yaxis": {
           "automargin": true,
           "gridcolor": "white",
           "linecolor": "white",
           "ticks": "",
           "title": {
            "standoff": 15
           },
           "zerolinecolor": "white",
           "zerolinewidth": 2
          }
         }
        },
        "title": {
         "text": "🧭 Distribución de Empleos por Tecnologías y Tipo de Trabajo"
        },
        "width": 1000,
        "xaxis": {
         "anchor": "y",
         "domain": [
          0,
          1
         ],
         "title": {
          "text": "x"
         }
        },
        "yaxis": {
         "anchor": "x",
         "domain": [
          0,
          1
         ],
         "title": {
          "text": "y"
         }
        }
       }
      }
     },
     "metadata": {},
     "output_type": "display_data"
    }
   ],
   "source": [
    "reducer = umap.UMAP(\n",
    "    n_components=2,\n",
    "    metric='jaccard',\n",
    "    n_neighbors=15,\n",
    "    min_dist=0.1,\n",
    "    random_state=42\n",
    ")\n",
    "embedding = reducer.fit_transform(tech_data)\n",
    "\n",
    "# Visualización interactiva\n",
    "fig = px.scatter(\n",
    "    df,\n",
    "    x=embedding[:, 0],\n",
    "    y=embedding[:, 1],\n",
    "    color='job_type',\n",
    "    hover_data=['title', 'company', 'salary_avg'],\n",
    "    title='🧭 Distribución de Empleos por Tecnologías y Tipo de Trabajo',\n",
    "    width=1000,\n",
    "    height=600\n",
    ")\n",
    "fig.show()"
   ]
  },
  {
   "cell_type": "code",
   "execution_count": 38,
   "id": "c2b38fa6",
   "metadata": {},
   "outputs": [
    {
     "name": "stdout",
     "output_type": "stream",
     "text": [
      "Verificando NaN en features:\n",
      "952 valores NaN encontrados\n",
      "Verificación final - NaN restantes: 0\n"
     ]
    },
    {
     "name": "stderr",
     "output_type": "stream",
     "text": [
      "C:\\Users\\josue\\AppData\\Local\\Temp\\ipykernel_22816\\1955368261.py:16: SettingWithCopyWarning:\n",
      "\n",
      "\n",
      "A value is trying to be set on a copy of a slice from a DataFrame.\n",
      "Try using .loc[row_indexer,col_indexer] = value instead\n",
      "\n",
      "See the caveats in the documentation: https://pandas.pydata.org/pandas-docs/stable/user_guide/indexing.html#returning-a-view-versus-a-copy\n",
      "\n"
     ]
    },
    {
     "name": "stdout",
     "output_type": "stream",
     "text": [
      "📊 Distribución de clusters por tipo de trabajo:\n"
     ]
    },
    {
     "data": {
      "text/html": [
       "<div>\n",
       "<style scoped>\n",
       "    .dataframe tbody tr th:only-of-type {\n",
       "        vertical-align: middle;\n",
       "    }\n",
       "\n",
       "    .dataframe tbody tr th {\n",
       "        vertical-align: top;\n",
       "    }\n",
       "\n",
       "    .dataframe thead th {\n",
       "        text-align: right;\n",
       "    }\n",
       "</style>\n",
       "<table border=\"1\" class=\"dataframe\">\n",
       "  <thead>\n",
       "    <tr style=\"text-align: right;\">\n",
       "      <th>job_type</th>\n",
       "      <th>hybrid</th>\n",
       "      <th>onsite</th>\n",
       "      <th>remote</th>\n",
       "    </tr>\n",
       "    <tr>\n",
       "      <th>cluster</th>\n",
       "      <th></th>\n",
       "      <th></th>\n",
       "      <th></th>\n",
       "    </tr>\n",
       "  </thead>\n",
       "  <tbody>\n",
       "    <tr>\n",
       "      <th>0</th>\n",
       "      <td>7</td>\n",
       "      <td>5</td>\n",
       "      <td>205</td>\n",
       "    </tr>\n",
       "    <tr>\n",
       "      <th>1</th>\n",
       "      <td>50</td>\n",
       "      <td>1</td>\n",
       "      <td>235</td>\n",
       "    </tr>\n",
       "    <tr>\n",
       "      <th>2</th>\n",
       "      <td>0</td>\n",
       "      <td>1</td>\n",
       "      <td>45</td>\n",
       "    </tr>\n",
       "    <tr>\n",
       "      <th>3</th>\n",
       "      <td>35</td>\n",
       "      <td>53</td>\n",
       "      <td>1177</td>\n",
       "    </tr>\n",
       "    <tr>\n",
       "      <th>4</th>\n",
       "      <td>2</td>\n",
       "      <td>57</td>\n",
       "      <td>350</td>\n",
       "    </tr>\n",
       "  </tbody>\n",
       "</table>\n",
       "</div>"
      ],
      "text/plain": [
       "job_type  hybrid  onsite  remote\n",
       "cluster                         \n",
       "0              7       5     205\n",
       "1             50       1     235\n",
       "2              0       1      45\n",
       "3             35      53    1177\n",
       "4              2      57     350"
      ]
     },
     "metadata": {},
     "output_type": "display_data"
    },
    {
     "name": "stdout",
     "output_type": "stream",
     "text": [
      "\n",
      "💻 Tecnologías predominantes por cluster:\n",
      "🔹 Cluster 0: mentions_cloud, mentions_sql, mentions_java\n",
      "🔹 Cluster 1: mentions_machine_learning, mentions_cloud, mentions_sql\n",
      "🔹 Cluster 2: mentions_sql, mentions_javascript, mentions_angular\n",
      "🔹 Cluster 3: mentions_sql, mentions_java, mentions_react\n",
      "🔹 Cluster 4: mentions_sql, mentions_javascript, mentions_angular\n"
     ]
    }
   ],
   "source": [
    "# Reducción con PCA\n",
    "pca = PCA(n_components=0.95)\n",
    "features = df[tech_cols + ['salary_norm'] + job_type_cols]\n",
    "\n",
    "# Verificar valores NaN\n",
    "print(\"Verificando NaN en features:\")\n",
    "print(features.isna().sum().sum(), \"valores NaN encontrados\")\n",
    "\n",
    "# Reemplazar NaN en columnas binarias (tech_cols y job_type_cols)\n",
    "for col in tech_cols + job_type_cols:\n",
    "    if features[col].isna().sum() > 0:\n",
    "        features[col] = features[col].fillna(0)\n",
    "        \n",
    "# Verificar NaN en salary_norm\n",
    "if features['salary_norm'].isna().sum() > 0:\n",
    "    features['salary_norm'] = features['salary_norm'].fillna(features['salary_norm'].median())\n",
    "\n",
    "# Verificación final\n",
    "print(\"Verificación final - NaN restantes:\", features.isna().sum().sum())\n",
    "\n",
    "# Ahora podemos aplicar PCA\n",
    "X_pca = pca.fit_transform(features)\n",
    "\n",
    "# Clustering con K-Means\n",
    "kmeans = KMeans(n_clusters=5, random_state=42)\n",
    "df['cluster'] = kmeans.fit_predict(X_pca)\n",
    "\n",
    "# Mostrar composición de clusters\n",
    "print(\"📊 Distribución de clusters por tipo de trabajo:\")\n",
    "display(pd.crosstab(df['cluster'], df['job_type']))\n",
    "\n",
    "# Tecnologías más comunes por cluster\n",
    "print(\"\\n💻 Tecnologías predominantes por cluster:\")\n",
    "for i in range(5):\n",
    "    cluster_tech = df[df['cluster']==i][tech_cols].mean().sort_values(ascending=False).head(3)\n",
    "    print(f\"🔹 Cluster {i}: {', '.join(cluster_tech.index)}\")"
   ]
  },
  {
   "cell_type": "code",
   "execution_count": 43,
   "id": "bece7b3c",
   "metadata": {},
   "outputs": [
    {
     "name": "stderr",
     "output_type": "stream",
     "text": [
      "C:\\Users\\josue\\AppData\\Local\\Temp\\ipykernel_22816\\1429412989.py:10: UserWarning:\n",
      "\n",
      "Glyph 128736 (\\N{HAMMER AND WRENCH}) missing from font(s) DejaVu Sans.\n",
      "\n",
      "C:\\Users\\josue\\AppData\\Roaming\\Python\\Python312\\site-packages\\IPython\\core\\pylabtools.py:170: UserWarning:\n",
      "\n",
      "Glyph 128736 (\\N{HAMMER AND WRENCH}) missing from font(s) DejaVu Sans.\n",
      "\n"
     ]
    },
    {
     "data": {
      "image/png": "[encoded data removed]",
      "text/plain": [
       "<Figure size 1200x400 with 3 Axes>"
      ]
     },
     "metadata": {},
     "output_type": "display_data"
    }
   ],
   "source": [
    "# Gráfico 1: Presencia de tecnologías clave\n",
    "tech_to_plot = ['mentions_python', 'mentions_cloud', 'mentions_machine_learning']\n",
    "plt.figure(figsize=(12, 4))\n",
    "for i, tech in enumerate(tech_to_plot):\n",
    "    plt.subplot(1, 3, i+1)\n",
    "    df.groupby('cluster')[tech].mean().plot(kind='bar', color='skyblue')\n",
    "    plt.title(tech.replace('mentions_', ''))\n",
    "    plt.xticks(rotation=0)\n",
    "plt.suptitle('🛠️ Tecnologías Clave por Cluster', y=1.05)\n",
    "plt.tight_layout()\n",
    "plt.show()"
   ]
  },
  {
   "cell_type": "code",
   "execution_count": 41,
   "id": "62326d01",
   "metadata": {},
   "outputs": [
    {
     "name": "stderr",
     "output_type": "stream",
     "text": [
      "C:\\Users\\josue\\AppData\\Local\\Temp\\ipykernel_22816\\2841393453.py:3: UserWarning:\n",
      "\n",
      "Converting to PeriodArray/Index representation will drop timezone information.\n",
      "\n",
      "C:\\Users\\josue\\AppData\\Roaming\\Python\\Python312\\site-packages\\IPython\\core\\pylabtools.py:170: UserWarning:\n",
      "\n",
      "Glyph 128200 (\\N{CHART WITH UPWARDS TREND}) missing from font(s) DejaVu Sans.\n",
      "\n",
      "C:\\Users\\josue\\AppData\\Roaming\\Python\\Python312\\site-packages\\IPython\\core\\pylabtools.py:170: UserWarning:\n",
      "\n",
      "Glyph 128200 (\\N{CHART WITH UPWARDS TREND}) missing from font(s) DejaVu Sans.\n",
      "\n",
      "C:\\Users\\josue\\AppData\\Roaming\\Python\\Python312\\site-packages\\IPython\\core\\pylabtools.py:170: UserWarning:\n",
      "\n",
      "Glyph 128200 (\\N{CHART WITH UPWARDS TREND}) missing from font(s) DejaVu Sans.\n",
      "\n"
     ]
    },
    {
     "data": {
      "image/png": "[encoded data removed]",
      "text/plain": [
       "<Figure size 1200x500 with 1 Axes>"
      ]
     },
     "metadata": {},
     "output_type": "display_data"
    }
   ],
   "source": [
    "# Tendencia de publicaciones por cluster\n",
    "df['created'] = pd.to_datetime(df['created'])\n",
    "df['week'] = df['created'].dt.to_period('W')\n",
    "\n",
    "trends = df.groupby(['week', 'cluster']).size().unstack()\n",
    "trends.plot(figsize=(12, 5))\n",
    "plt.title('📈 Tendencia Semanal de Publicaciones por Cluster')\n",
    "plt.ylabel('Número de empleos')\n",
    "plt.xlabel('Semana')\n",
    "plt.legend(title='Cluster')\n",
    "plt.show()"
   ]
  },
  {
   "cell_type": "code",
   "execution_count": 45,
   "id": "d52498aa",
   "metadata": {},
   "outputs": [
    {
     "name": "stdout",
     "output_type": "stream",
     "text": [
      "✅ Dataset con reducción dimensional guardado en: C:\\Users\\josue\\OneDrive\\Desktop\\Analisis de datos\\proyecto final\\jalisco-bigtech-trends-analysis\\data\\processed\\jalisco_bigtech_jobs_dimensionality_reduced.csv\n",
      "📊 Dimensiones del dataset: (2223, 30)\n"
     ]
    }
   ],
   "source": [
    "# Crear dataset con resultados de reducción dimensional\n",
    "\n",
    "# Añadir coordenadas UMAP\n",
    "df['umap_x'] = embedding[:, 0]\n",
    "df['umap_y'] = embedding[:, 1]\n",
    "\n",
    "# Añadir componentes principales (hasta 5 primeros componentes)\n",
    "n_components = min(5, X_pca.shape[1])\n",
    "for i in range(n_components):\n",
    "    df[f'pca_{i+1}'] = X_pca[:, i]\n",
    "\n",
    "# Seleccionar columnas relevantes para el dataset final\n",
    "columns_to_save = [\n",
    "    # Información general\n",
    "    'id', 'title', 'company', 'location', 'created', \n",
    "    # Características clave\n",
    "    'salary_avg', 'experience', 'job_type',\n",
    "    # Coordenadas geográficas\n",
    "    'latitude', 'longitude',\n",
    "    # Menciones de tecnologías (columnas que empiezan con 'mentions_')\n",
    "    *tech_cols,\n",
    "    # Resultados de reducción dimensional\n",
    "    'umap_x', 'umap_y',\n",
    "    *[f'pca_{i+1}' for i in range(n_components)],\n",
    "    # Cluster asignado\n",
    "    'cluster'\n",
    "]\n",
    "\n",
    "# Ajustar la lista de columnas para incluir solo las que existen en el DataFrame\n",
    "columns_to_save = [col for col in columns_to_save if col in df.columns]\n",
    "\n",
    "# Crear dataset final\n",
    "df_reduced = df[columns_to_save]\n",
    "\n",
    "# Guardar resultado\n",
    "output_path = \"C:\\\\Users\\\\josue\\\\OneDrive\\\\Desktop\\\\Analisis de datos\\\\proyecto final\\\\jalisco-bigtech-trends-analysis\\\\data\\\\processed\\\\jalisco_bigtech_jobs_dimensionality_reduced.csv\"\n",
    "df_reduced.to_csv(output_path, index=False)\n",
    "print(f\"✅ Dataset con reducción dimensional guardado en: {output_path}\")\n",
    "print(f\"📊 Dimensiones del dataset: {df_reduced.shape}\")"
   ]
  }
 ],
 "metadata": {
  "kernelspec": {
   "display_name": "base",
   "language": "python",
   "name": "python3"
  },
  "language_info": {
   "codemirror_mode": {
    "name": "ipython",
    "version": 3
   },
   "file_extension": ".py",
   "mimetype": "text/x-python",
   "name": "python",
   "nbconvert_exporter": "python",
   "pygments_lexer": "ipython3",
   "version": "3.12.7"
  }
 },
 "nbformat": 4,
 "nbformat_minor": 5
}
