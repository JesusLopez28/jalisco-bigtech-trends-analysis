{
 "cells": [
  {
   "cell_type": "markdown",
   "id": "351b9103-05ef-40bb-9906-ae0d105cb7d1",
   "metadata": {},
   "source": [
    "# 🚀 Analisis EDA de Empleos Big Tech en Jalisco\n",
    "\n",
    "## Análisis de Tendencias de Contratación en Empresas de Tecnología\n",
    "\n",
    "**Proyecto:** Análisis de Datos - 3er Parcial  \n",
    "**Objetivo:** Analizar y limpiar el DataSet para poder ser procesado en un futuro, se eliminaron algunos valores reduntantes, de valores faltantes para poder tener solo los valores mas relevantes\n",
    "\n",
    "### 📋 Contenido del DataSet\n",
    "- *id*: Identificador único del empleo (de la API de Adzuna).\n",
    "- *title*: Título del puesto de trabajo.\n",
    "- *company*: Nombre de la empresa que publica la vacante.\n",
    "- *location*: Ubicación principal del empleo (ciudad o región).\n",
    "- *area*: Áreas geográficas adicionales asociadas al empleo.\n",
    "- *salary_min*: Salario mínimo ofrecido (si está disponible).\n",
    "- *salary_max*: Salario máximo ofrecido (si está disponible).\n",
    "- *salary_is_predicted*: Indica si el salario es estimado/predicho por la API.\n",
    "- *description*: Descripción completa del empleo.\n",
    "- *created*: Fecha de publicación del empleo.\n",
    "- *redirect_url*: URL para ver la oferta original.\n",
    "- *category*: Categoría del empleo (ej. IT, Ingeniería, etc.).\n",
    "- *contract_type*: Tipo de contrato (ej. permanente, temporal).\n",
    "- *contract_time*: Jornada laboral (ej. tiempo completo, medio tiempo).\n",
    "- *latitude*: Latitud geográfica del empleo.\n",
    "- *longitude*: Longitud geográfica del empleo.\n",
    "- *is_big_tech*: Si la empresa es considerada \"Big Tech\" (True/False).\n",
    "- *mentioned_tech_keywords*: Palabras clave de tecnologías mencionadas en el texto.\n",
    "- *tech_keywords_count*: Número de tecnologías detectadas en el texto.\n",
    "- *scraped_at*: Fecha y hora en que se extrajo el empleo.\n",
    "- *salary_avg*: Salario promedio calculado entre salary_min y salary_max.\n",
    "- *is_senior*: Si el empleo es de nivel senior (True/False).\n",
    "- *is_junior*: Si el empleo es de nivel junior (True/False).\n",
    "- *is_mid*: Si el empleo es de nivel intermedio (True/False).\n",
    "- *experience_level*: Nivel de experiencia detectado (Senior, Junior, Mid, No especificado).\n",
    "- *is_remote*: Si el empleo es remoto (True/False).\n",
    "- *is_hybrid*: Si el empleo es híbrido (True/False).\n",
    "- *is_onsite*: Si el empleo es presencial (True/False).\n",
    "- *mentions_python*: Si se menciona Python en el texto (True/False).\n",
    "- *mentions_java*: Si se menciona Java en el texto (True/False).\n",
    "- *mentions_javascript*: Si se menciona JavaScript o JS (True/False).\n",
    "- *mentions_react*: Si se menciona React (True/False).\n",
    "- *mentions_angular*: Si se menciona Angular (True/False).\n",
    "- *mentions_node*: Si se menciona Node.js (True/False).\n",
    "- *mentions_sql*: Si se menciona SQL, MySQL, PostgreSQL, Oracle (True/False).\n",
    "- *mentions_cloud*: Si se menciona AWS, Azure, GCP o Cloud (True/False).\n",
    "- *mentions_machine_learning*: Si se menciona Machine Learning, ML, AI, etc. (True/False).\n",
    "- *mentions_docker*: Si se menciona Docker (True/False).\n",
    "- *mentions_kubernetes*: Si se menciona Kubernetes (True/False).\n",
    "- *mentions_agile*: Si se menciona Agile, Scrum o Kanban (True/False).\n",
    "- *year*: Año de publicación.\n",
    "- *month*: Mes de publicación (numérico).\n",
    "- *day*: Día del mes de publicación.\n",
    "- *day_of_week*: Día de la semana (0=lunes, 6=domingo).\n",
    "- *week_of_year*: Semana del año.\n",
    "- *quarter*: Trimestre del año.\n",
    "- *day_name*: Nombre del día de la semana.\n",
    "- *month_name*: Nombre del mes.\n",
    "- *is_weekend*: Si la publicación fue en fin de semana (True/False).\n",
    "- *is_month_start*: Si la publicación fue al inicio del mes (True/False).\n",
    "- *is_month_end*: Si la publicación fue al final del mes (True/False).\n",
    "- *company_encoded*: Codificación numérica de la empresa (para ML).\n",
    "- *location_encoded*: Codificación numérica de la ubicación.\n",
    "- *category_encoded*: Codificación numérica de la categoría.\n",
    "- *contract_type_encoded*: Codificación numérica del tipo de contrato.\n",
    "- *contract_time_encoded*: Codificación numérica de la jornada.\n",
    "- *experience_level_encoded*: Codificación numérica del nivel de experiencia.\n"
   ]
  },
  {
   "cell_type": "markdown",
   "id": "709f46c4-65d0-4a10-b824-a71801b8b37f",
   "metadata": {},
   "source": [
    "**Instalamos las librerias que vamos a utilizar**"
   ]
  },
  {
   "cell_type": "code",
   "execution_count": null,
   "id": "71a23a87-9982-4f67-960c-896c8085f5f9",
   "metadata": {},
   "outputs": [],
   "source": [
    "!pip install folium"
   ]
  },
  {
   "cell_type": "markdown",
   "id": "3fdda916-b8f2-4e15-84c2-c00b8910df20",
   "metadata": {},
   "source": [
    "**Instanciamos las librerias necesarias para trabajar**"
   ]
  },
  {
   "cell_type": "code",
   "execution_count": null,
   "id": "bdd279fe-6c35-4127-b555-45435d80dc79",
   "metadata": {},
   "outputs": [],
   "source": [
    "import pandas as pd\n",
    "import matplotlib.pyplot as plt\n",
    "import seaborn as sns\n",
    "import numpy as np\n",
    "import folium"
   ]
  },
  {
   "cell_type": "markdown",
   "id": "e28386e9-b96c-47f3-89f5-2bfb4d95c1b3",
   "metadata": {},
   "source": [
    "**Importamos el DataSet en el que vamos a trabajar**"
   ]
  },
  {
   "cell_type": "code",
   "execution_count": null,
   "id": "c81de670-dfdd-4255-98af-dc851dece9bf",
   "metadata": {},
   "outputs": [],
   "source": [
    "df = pd.read_csv(\"C:/Users/Josh/Documents/Ingenieria/Septimo semestre/Analisis de Datos/Proyecto/jalisco-bigtech-trends-analysis/data/processed/jalisco_bigtech_jobs_processed_20250603_151548.csv\")\n",
    "df.head(5)"
   ]
  },
  {
   "cell_type": "markdown",
   "id": "b44b26d5-57c0-49bb-a734-038b3236c4d1",
   "metadata": {},
   "source": [
    "### Analisis"
   ]
  },
  {
   "cell_type": "markdown",
   "id": "ea1c4286-13ec-48e6-ba1b-361114aa59d7",
   "metadata": {},
   "source": [
    "**Mostramos informacion relevante acerca del DataSet**"
   ]
  },
  {
   "cell_type": "code",
   "execution_count": null,
   "id": "48b827cc-6674-44fe-9c3f-008422b151be",
   "metadata": {
    "scrolled": true
   },
   "outputs": [],
   "source": [
    "df.info()"
   ]
  },
  {
   "cell_type": "code",
   "execution_count": null,
   "id": "4a23d5ed-3ef7-47bc-8ebe-e26f971fa477",
   "metadata": {},
   "outputs": [],
   "source": [
    "df.describe()"
   ]
  },
  {
   "cell_type": "markdown",
   "id": "b32d1799-7120-4183-a4b4-cd014d0c0803",
   "metadata": {},
   "source": [
    "**Eliminamos las columnas que cuenten con un indice de nulos muy grandes**"
   ]
  },
  {
   "cell_type": "code",
   "execution_count": null,
   "id": "ce129e47-1174-4f9a-8b67-eb02fd1253ea",
   "metadata": {},
   "outputs": [],
   "source": [
    "df.drop(columns=[\"contract_type\", \"mentioned_tech_keywords\", \"contract_time\"], inplace=True)"
   ]
  },
  {
   "cell_type": "markdown",
   "id": "e99a6358-569b-427e-8def-ad7887576f5a",
   "metadata": {},
   "source": [
    "**Como podemos ver esta columna no nos demuestra ningun valor importante ya que todos los valores son de tipo 0, asi que sera eliminada**"
   ]
  },
  {
   "cell_type": "code",
   "execution_count": null,
   "id": "1f88e7db-5683-4d80-8ed2-e4565a577b0a",
   "metadata": {},
   "outputs": [],
   "source": [
    "df[\"salary_is_predicted\"].unique()"
   ]
  },
  {
   "cell_type": "code",
   "execution_count": null,
   "id": "dee15b88-c575-4256-a41c-d3d2019bf7d4",
   "metadata": {},
   "outputs": [],
   "source": [
    "df.drop(columns=[\"salary_is_predicted\"], inplace=True)"
   ]
  },
  {
   "cell_type": "markdown",
   "id": "bd77a326-8d0a-4da9-8d32-637fb3132cf8",
   "metadata": {},
   "source": [
    "**Es posible eliminar la redundacia de algunas columnas en una sola**"
   ]
  },
  {
   "cell_type": "code",
   "execution_count": null,
   "id": "d20601be-ac79-422a-9430-d0dbd2072602",
   "metadata": {},
   "outputs": [],
   "source": [
    "def define_experience(row): # Creamos un metodo el cual nos ayude a juntar los datos en una sola columna\n",
    "    if row[\"is_senior\"]:\n",
    "        return \"senior\"\n",
    "    elif row[\"is_mid\"]:\n",
    "        return \"mid\"\n",
    "    else:\n",
    "        return \"junior\"\n",
    "\n",
    "df[\"experience\"] = df.apply(define_experience, axis=1)"
   ]
  },
  {
   "cell_type": "code",
   "execution_count": null,
   "id": "6d4d9534-18fc-4b2d-a173-9e15e359ab3b",
   "metadata": {},
   "outputs": [],
   "source": [
    "def define_job(row): #Creamos un metodo que nos devuelva los valores para juntarlos en una sola columna\n",
    "    if row[\"is_remote\"]:\n",
    "        return \"remote\"\n",
    "    elif row[\"is_hybrid\"]:\n",
    "        return \"hybrid\"\n",
    "    else:\n",
    "        return \"onsite\"\n",
    "\n",
    "df[\"job_type\"] = df.apply(define_job, axis=1)"
   ]
  },
  {
   "cell_type": "code",
   "execution_count": null,
   "id": "f6746f5c-4ea8-46b3-ac8b-fdeb541e4bb9",
   "metadata": {},
   "outputs": [],
   "source": [
    "df[\"date\"] = df[\"year\"].astype(str)+\"-\"+df[\"month\"].astype(str)+\"-\"+df[\"day\"].astype(str) #Creamos la columna \"date\" concatenando las tres columnas\n",
    "df.drop(columns=[\"year\", \"month\", \"day\"], inplace=True)\n",
    "df[\"date\"].head()"
   ]
  },
  {
   "cell_type": "code",
   "execution_count": null,
   "id": "f2f273a6-19e8-4288-b1cb-1c692949669a",
   "metadata": {
    "collapsed": true,
    "jupyter": {
     "outputs_hidden": true
    },
    "scrolled": true
   },
   "outputs": [],
   "source": [
    "df.drop(columns=[\"is_senior\", \"is_mid\", \"is_junior\", \"is_remote\", \"is_hybrid\", \"is_onsite\", \"experience_level\", \"year\", \"month\", \"day\"], inplace=True)"
   ]
  },
  {
   "cell_type": "markdown",
   "id": "41477cff-0b78-4716-93ea-f43804fc1a48",
   "metadata": {},
   "source": [
    "### Graficos"
   ]
  },
  {
   "cell_type": "code",
   "execution_count": null,
   "id": "dcb36bd8-d124-4121-81b4-38c04edcd4b2",
   "metadata": {},
   "outputs": [],
   "source": [
    "df_int = df.select_dtypes(include=[\"int64\", \"float64\"])\n",
    "\n",
    "plt.figure(figsize=(10, 8))\n",
    "sns.heatmap(df_int.corr(), annot=True)\n",
    "plt.show()"
   ]
  },
  {
   "cell_type": "markdown",
   "id": "7aa2a3b3-559d-4e95-986c-b5c0827a9da1",
   "metadata": {},
   "source": [
    "**Como podemos ver existen algunos valores los cuales tienen correlaciones exactas o muy excatas por lo que nos hace pensar que es posible presindir de algunos de ellos y quedarnos con uno solo**"
   ]
  },
  {
   "cell_type": "code",
   "execution_count": null,
   "id": "2df2a0fd-599a-4667-b209-32232ac9f749",
   "metadata": {},
   "outputs": [],
   "source": [
    "mention_col = [\"mentions_python\",\"mentions_java\",\"mentions_javascript\",\"mentions_react\",\"mentions_angular\",\"mentions_node\",\"mentions_sql\",\"mentions_cloud\",\"mentions_machine_learning\",\"mentions_docker\",\"mentions_kubernetes\",\"mentions_agile\"]\n",
    "mentions_counts = df[mention_col].sum().reset_index()\n",
    "mentions_counts.columns = ['Tecnología', 'Conteo']\n",
    "mentions_counts['Tecnología'] = mentions_counts['Tecnología'].str.replace('mentions_', '')\n",
    "\n",
    "plt.figure(figsize=(12, 6))\n",
    "sns.barplot(x=\"Tecnología\", y=\"Conteo\", data=mentions_counts)\n",
    "plt.xticks(rotation=45, ha='right')\n",
    "plt.show()"
   ]
  },
  {
   "cell_type": "markdown",
   "id": "5112a555-51b4-417f-b4f3-9a66ff5c2911",
   "metadata": {},
   "source": [
    "**Como podemos ver existe una gran diferencia entre la demanda de diferentes tipos de tecnologias**"
   ]
  },
  {
   "cell_type": "code",
   "execution_count": null,
   "id": "fe09140a-7f63-4a2d-aa6b-1b2d04c574a1",
   "metadata": {},
   "outputs": [],
   "source": [
    "remote = df[df[\"job_type\"] == \"remote\"][\"job_type\"].count()\n",
    "hybrid = df[df[\"job_type\"] == \"hybrid\"][\"job_type\"].count()\n",
    "onsite = df[df[\"job_type\"] == \"onsite\"][\"job_type\"].count()\n",
    "\n",
    "df_job = pd.DataFrame({\n",
    "    'Tipo de Trabajo': ['Remote', 'Hybrid', 'Onsite'],\n",
    "    'Conteo': [remote, hybrid, onsite]\n",
    "})\n",
    "\n",
    "plt.figure(figsize=(12, 6))\n",
    "sns.barplot(x=\"Tipo de Trabajo\", y=\"Conteo\", data=df_job)\n",
    "plt.show()"
   ]
  },
  {
   "cell_type": "markdown",
   "id": "e98859f8-50d8-458b-9e35-fed90a5498f8",
   "metadata": {},
   "source": [
    "**Podemos ver que hay una gran demanda en empleos de tipo \"OnSite\"**"
   ]
  },
  {
   "cell_type": "code",
   "execution_count": null,
   "id": "0cbd63c4-7525-47f5-978f-dd18f0b67e8a",
   "metadata": {},
   "outputs": [],
   "source": [
    "mapa = folium.Map(location=[df['latitude'].mean(), df['longitude'].mean()],\n",
    "                 zoom_start=5)\n",
    "\n",
    "# Añadir marcadores\n",
    "for idx, row in df.iterrows():\n",
    "    folium.CircleMarker(\n",
    "        location=[row['latitude'], row['longitude']],\n",
    "        radius=10,\n",
    "        color='blue',\n",
    "        fill=True,\n",
    "        fill_color='blue',\n",
    "        popup=row['company'],\n",
    "        tooltip=row['company']\n",
    "    ).add_to(mapa)\n",
    "\n",
    "# Guardar mapa interactivo\n",
    "mapa.save('mapa_interactivo.html')"
   ]
  },
  {
   "cell_type": "markdown",
   "id": "f4914582-06c7-4caa-99e0-5f5e922285aa",
   "metadata": {},
   "source": [
    "**Dentro del mapa podemos visualizar donde es que estan los trabajos**"
   ]
  }
 ],
 "metadata": {
  "kernelspec": {
   "display_name": "Python 3 (ipykernel)",
   "language": "python",
   "name": "python3"
  },
  "language_info": {
   "codemirror_mode": {
    "name": "ipython",
    "version": 3
   },
   "file_extension": ".py",
   "mimetype": "text/x-python",
   "name": "python",
   "nbconvert_exporter": "python",
   "pygments_lexer": "ipython3",
   "version": "3.12.7"
  }
 },
 "nbformat": 4,
 "nbformat_minor": 5
}
